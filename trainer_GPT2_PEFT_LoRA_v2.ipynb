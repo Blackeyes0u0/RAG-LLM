{
  "cells": [
    {
      "cell_type": "markdown",
      "metadata": {
        "id": "WE5GJ6s7y0Xo"
      },
      "source": [
        "# Using 🤗 PEFT & bitsandbytes to finetune a LoRa checkpoint\n",
        "\n",
        "\n"
      ]
    },
    {
      "cell_type": "code",
      "execution_count": 6,
      "metadata": {
        "colab": {
          "base_uri": "https://localhost:8080/"
        },
        "id": "otj46qRbtpnd",
        "outputId": "3c9d2640-37bd-4e5f-bbd4-2177ca895482"
      },
      "outputs": [],
      "source": [
        "!pip install -q bitsandbytes datasets accelerate loralib\n",
        "!pip install -q git+https://github.com/huggingface/transformers.git@main git+https://github.com/huggingface/peft.git"
      ]
    },
    {
      "cell_type": "code",
      "execution_count": 13,
      "metadata": {
        "colab": {
          "base_uri": "https://localhost:8080/"
        },
        "id": "7650BSUPZh0Y",
        "outputId": "fcfd4022-30b8-41a5-9053-a95338ca143d"
      },
      "outputs": [
        {
          "name": "stdout",
          "output_type": "stream",
          "text": [
            "GPU 0: Tesla V100-SXM2-32GB (UUID: GPU-a0481df7-b5c0-3380-57be-aed485478630)\n"
          ]
        }
      ],
      "source": [
        "!nvidia-smi -L"
      ]
    },
    {
      "cell_type": "markdown",
      "metadata": {
        "id": "FOtwYRI3zzXI"
      },
      "source": [
        "### Setup the model"
      ]
    },
    {
      "cell_type": "code",
      "execution_count": 18,
      "metadata": {
        "colab": {
          "base_uri": "https://localhost:8080/"
        },
        "id": "cg3fiQOvmI3Q",
        "outputId": "e6686058-747b-42fc-a1b3-d746f8a120ca"
      },
      "outputs": [
        {
          "name": "stderr",
          "output_type": "stream",
          "text": [
            "Special tokens have been added in the vocabulary, make sure the associated word embeddings are fine-tuned or trained.\n"
          ]
        }
      ],
      "source": [
        "import os\n",
        "os.environ[\"CUDA_VISIBLE_DEVICES\"]=\"0\"\n",
        "import torch\n",
        "import torch.nn as nn\n",
        "import bitsandbytes as bnb\n",
        "from transformers import AutoTokenizer, AutoConfig, AutoModelForCausalLM\n",
        "\n",
        "\n",
        "model_name = 'distilbert/distilgpt2' #gpt2\n",
        "\n",
        "model_name = 'skt/kogpt2-base-v2'\n",
        "tokenizer = AutoTokenizer.from_pretrained(model_name)\n",
        "model = AutoModelForCausalLM.from_pretrained(\n",
        "    model_name,\n",
        "    # load_in_8bit=True, # 표시!\n",
        "    # device_map='auto', # 표시!\n",
        ")\n",
        "\n",
        "# 위에 표시한거랑 주석처리한거랑 안한거랑 아래 파라미터는 똑같음.\n",
        "# trainable params: 589824 || all params: 125753856 || trainable%: 0.46903054805730965"
      ]
    },
    {
      "cell_type": "code",
      "execution_count": 17,
      "metadata": {},
      "outputs": [],
      "source": [
        "# import os\n",
        "# os.environ[\"CUDA_VISIBLE_DEVICES\"]=\"0\"\n",
        "# import torch\n",
        "# import torch.nn as nn\n",
        "# import bitsandbytes as bnb\n",
        "# from transformers import AutoTokenizer, AutoConfig, AutoModelForCausalLM, BitsAndBytesConfig\n",
        "\n",
        "# model_name = 'skt/kogpt2-base-v2'\n",
        "# quantization_config = BitsAndBytesConfig(enabled=True, mode='mixed8', reduce_dtype=True)\n",
        "# model = AutoModelForCausalLM.from_pretrained(\n",
        "#     model_name,\n",
        "#     quantization_config=quantization_config,\n",
        "#     device_map='auto',\n",
        "# )\n",
        "# # trainable params: 589824 || all params: 83286528 || trainable%: 0.7081865628976634"
      ]
    },
    {
      "cell_type": "markdown",
      "metadata": {
        "id": "9fTSZntA1iUG"
      },
      "source": [
        "### Freezing the original weights\n"
      ]
    },
    {
      "cell_type": "code",
      "execution_count": 23,
      "metadata": {
        "colab": {
          "base_uri": "https://localhost:8080/"
        },
        "id": "T-gy-LxM0yAi",
        "outputId": "ecdd5e3a-f4b1-4ee2-e7b5-cf0667974863"
      },
      "outputs": [
        {
          "name": "stdout",
          "output_type": "stream",
          "text": [
            "base_model.model.transformer.h.0.ln_1.weight\n",
            "base_model.model.transformer.h.0.ln_1.bias\n",
            "base_model.model.transformer.h.0.attn.c_attn.base_layer.bias\n",
            "base_model.model.transformer.h.0.attn.c_proj.bias\n",
            "base_model.model.transformer.h.0.ln_2.weight\n",
            "base_model.model.transformer.h.0.ln_2.bias\n",
            "base_model.model.transformer.h.0.mlp.c_fc.bias\n",
            "base_model.model.transformer.h.0.mlp.c_proj.bias\n",
            "base_model.model.transformer.h.1.ln_1.weight\n",
            "base_model.model.transformer.h.1.ln_1.bias\n",
            "base_model.model.transformer.h.1.attn.c_attn.base_layer.bias\n",
            "base_model.model.transformer.h.1.attn.c_proj.bias\n",
            "base_model.model.transformer.h.1.ln_2.weight\n",
            "base_model.model.transformer.h.1.ln_2.bias\n",
            "base_model.model.transformer.h.1.mlp.c_fc.bias\n",
            "base_model.model.transformer.h.1.mlp.c_proj.bias\n",
            "base_model.model.transformer.h.2.ln_1.weight\n",
            "base_model.model.transformer.h.2.ln_1.bias\n",
            "base_model.model.transformer.h.2.attn.c_attn.base_layer.bias\n",
            "base_model.model.transformer.h.2.attn.c_proj.bias\n",
            "base_model.model.transformer.h.2.ln_2.weight\n",
            "base_model.model.transformer.h.2.ln_2.bias\n",
            "base_model.model.transformer.h.2.mlp.c_fc.bias\n",
            "base_model.model.transformer.h.2.mlp.c_proj.bias\n",
            "base_model.model.transformer.h.3.ln_1.weight\n",
            "base_model.model.transformer.h.3.ln_1.bias\n",
            "base_model.model.transformer.h.3.attn.c_attn.base_layer.bias\n",
            "base_model.model.transformer.h.3.attn.c_proj.bias\n",
            "base_model.model.transformer.h.3.ln_2.weight\n",
            "base_model.model.transformer.h.3.ln_2.bias\n",
            "base_model.model.transformer.h.3.mlp.c_fc.bias\n",
            "base_model.model.transformer.h.3.mlp.c_proj.bias\n",
            "base_model.model.transformer.h.4.ln_1.weight\n",
            "base_model.model.transformer.h.4.ln_1.bias\n",
            "base_model.model.transformer.h.4.attn.c_attn.base_layer.bias\n",
            "base_model.model.transformer.h.4.attn.c_proj.bias\n",
            "base_model.model.transformer.h.4.ln_2.weight\n",
            "base_model.model.transformer.h.4.ln_2.bias\n",
            "base_model.model.transformer.h.4.mlp.c_fc.bias\n",
            "base_model.model.transformer.h.4.mlp.c_proj.bias\n",
            "base_model.model.transformer.h.5.ln_1.weight\n",
            "base_model.model.transformer.h.5.ln_1.bias\n",
            "base_model.model.transformer.h.5.attn.c_attn.base_layer.bias\n",
            "base_model.model.transformer.h.5.attn.c_proj.bias\n",
            "base_model.model.transformer.h.5.ln_2.weight\n",
            "base_model.model.transformer.h.5.ln_2.bias\n",
            "base_model.model.transformer.h.5.mlp.c_fc.bias\n",
            "base_model.model.transformer.h.5.mlp.c_proj.bias\n",
            "base_model.model.transformer.h.6.ln_1.weight\n",
            "base_model.model.transformer.h.6.ln_1.bias\n",
            "base_model.model.transformer.h.6.attn.c_attn.base_layer.bias\n",
            "base_model.model.transformer.h.6.attn.c_proj.bias\n",
            "base_model.model.transformer.h.6.ln_2.weight\n",
            "base_model.model.transformer.h.6.ln_2.bias\n",
            "base_model.model.transformer.h.6.mlp.c_fc.bias\n",
            "base_model.model.transformer.h.6.mlp.c_proj.bias\n",
            "base_model.model.transformer.h.7.ln_1.weight\n",
            "base_model.model.transformer.h.7.ln_1.bias\n",
            "base_model.model.transformer.h.7.attn.c_attn.base_layer.bias\n",
            "base_model.model.transformer.h.7.attn.c_proj.bias\n",
            "base_model.model.transformer.h.7.ln_2.weight\n",
            "base_model.model.transformer.h.7.ln_2.bias\n",
            "base_model.model.transformer.h.7.mlp.c_fc.bias\n",
            "base_model.model.transformer.h.7.mlp.c_proj.bias\n",
            "base_model.model.transformer.h.8.ln_1.weight\n",
            "base_model.model.transformer.h.8.ln_1.bias\n",
            "base_model.model.transformer.h.8.attn.c_attn.base_layer.bias\n",
            "base_model.model.transformer.h.8.attn.c_proj.bias\n",
            "base_model.model.transformer.h.8.ln_2.weight\n",
            "base_model.model.transformer.h.8.ln_2.bias\n",
            "base_model.model.transformer.h.8.mlp.c_fc.bias\n",
            "base_model.model.transformer.h.8.mlp.c_proj.bias\n",
            "base_model.model.transformer.h.9.ln_1.weight\n",
            "base_model.model.transformer.h.9.ln_1.bias\n",
            "base_model.model.transformer.h.9.attn.c_attn.base_layer.bias\n",
            "base_model.model.transformer.h.9.attn.c_proj.bias\n",
            "base_model.model.transformer.h.9.ln_2.weight\n",
            "base_model.model.transformer.h.9.ln_2.bias\n",
            "base_model.model.transformer.h.9.mlp.c_fc.bias\n",
            "base_model.model.transformer.h.9.mlp.c_proj.bias\n",
            "base_model.model.transformer.h.10.ln_1.weight\n",
            "base_model.model.transformer.h.10.ln_1.bias\n",
            "base_model.model.transformer.h.10.attn.c_attn.base_layer.bias\n",
            "base_model.model.transformer.h.10.attn.c_proj.bias\n",
            "base_model.model.transformer.h.10.ln_2.weight\n",
            "base_model.model.transformer.h.10.ln_2.bias\n",
            "base_model.model.transformer.h.10.mlp.c_fc.bias\n",
            "base_model.model.transformer.h.10.mlp.c_proj.bias\n",
            "base_model.model.transformer.h.11.ln_1.weight\n",
            "base_model.model.transformer.h.11.ln_1.bias\n",
            "base_model.model.transformer.h.11.attn.c_attn.base_layer.bias\n",
            "base_model.model.transformer.h.11.attn.c_proj.bias\n",
            "base_model.model.transformer.h.11.ln_2.weight\n",
            "base_model.model.transformer.h.11.ln_2.bias\n",
            "base_model.model.transformer.h.11.mlp.c_fc.bias\n",
            "base_model.model.transformer.h.11.mlp.c_proj.bias\n",
            "base_model.model.transformer.ln_f.weight\n",
            "base_model.model.transformer.ln_f.bias\n"
          ]
        },
        {
          "ename": "AttributeError",
          "evalue": "'GPT2LMHeadModel' object has no attribute 'enable_input_require_grads'",
          "output_type": "error",
          "traceback": [
            "\u001b[0;31m---------------------------------------------------------------------------\u001b[0m",
            "\u001b[0;31mAttributeError\u001b[0m                            Traceback (most recent call last)",
            "File \u001b[0;32m~/JH/Vsearch/lib/python3.10/site-packages/peft/peft_model.py:529\u001b[0m, in \u001b[0;36mPeftModel.__getattr__\u001b[0;34m(self, name)\u001b[0m\n\u001b[1;32m    528\u001b[0m \u001b[38;5;28;01mtry\u001b[39;00m:\n\u001b[0;32m--> 529\u001b[0m     \u001b[38;5;28;01mreturn\u001b[39;00m \u001b[38;5;28;43msuper\u001b[39;49m\u001b[43m(\u001b[49m\u001b[43m)\u001b[49m\u001b[38;5;241;43m.\u001b[39;49m\u001b[38;5;21;43m__getattr__\u001b[39;49m\u001b[43m(\u001b[49m\u001b[43mname\u001b[49m\u001b[43m)\u001b[49m  \u001b[38;5;66;03m# defer to nn.Module's logic\u001b[39;00m\n\u001b[1;32m    530\u001b[0m \u001b[38;5;28;01mexcept\u001b[39;00m \u001b[38;5;167;01mAttributeError\u001b[39;00m:\n",
            "File \u001b[0;32m~/JH/Vsearch/lib/python3.10/site-packages/torch/nn/modules/module.py:1269\u001b[0m, in \u001b[0;36mModule.__getattr__\u001b[0;34m(self, name)\u001b[0m\n\u001b[1;32m   1268\u001b[0m         \u001b[38;5;28;01mreturn\u001b[39;00m modules[name]\n\u001b[0;32m-> 1269\u001b[0m \u001b[38;5;28;01mraise\u001b[39;00m \u001b[38;5;167;01mAttributeError\u001b[39;00m(\u001b[38;5;124m\"\u001b[39m\u001b[38;5;124m'\u001b[39m\u001b[38;5;132;01m{}\u001b[39;00m\u001b[38;5;124m'\u001b[39m\u001b[38;5;124m object has no attribute \u001b[39m\u001b[38;5;124m'\u001b[39m\u001b[38;5;132;01m{}\u001b[39;00m\u001b[38;5;124m'\u001b[39m\u001b[38;5;124m\"\u001b[39m\u001b[38;5;241m.\u001b[39mformat(\n\u001b[1;32m   1270\u001b[0m     \u001b[38;5;28mtype\u001b[39m(\u001b[38;5;28mself\u001b[39m)\u001b[38;5;241m.\u001b[39m\u001b[38;5;18m__name__\u001b[39m, name))\n",
            "\u001b[0;31mAttributeError\u001b[0m: 'PeftModelForCausalLM' object has no attribute 'enable_input_require_grads'",
            "\nDuring handling of the above exception, another exception occurred:\n",
            "\u001b[0;31mAttributeError\u001b[0m                            Traceback (most recent call last)",
            "File \u001b[0;32m~/JH/Vsearch/lib/python3.10/site-packages/peft/tuners/lora/model.py:267\u001b[0m, in \u001b[0;36mLoraModel.__getattr__\u001b[0;34m(self, name)\u001b[0m\n\u001b[1;32m    266\u001b[0m \u001b[38;5;28;01mtry\u001b[39;00m:\n\u001b[0;32m--> 267\u001b[0m     \u001b[38;5;28;01mreturn\u001b[39;00m \u001b[38;5;28;43msuper\u001b[39;49m\u001b[43m(\u001b[49m\u001b[43m)\u001b[49m\u001b[38;5;241;43m.\u001b[39;49m\u001b[38;5;21;43m__getattr__\u001b[39;49m\u001b[43m(\u001b[49m\u001b[43mname\u001b[49m\u001b[43m)\u001b[49m  \u001b[38;5;66;03m# defer to nn.Module's logic\u001b[39;00m\n\u001b[1;32m    268\u001b[0m \u001b[38;5;28;01mexcept\u001b[39;00m \u001b[38;5;167;01mAttributeError\u001b[39;00m:\n",
            "File \u001b[0;32m~/JH/Vsearch/lib/python3.10/site-packages/torch/nn/modules/module.py:1269\u001b[0m, in \u001b[0;36mModule.__getattr__\u001b[0;34m(self, name)\u001b[0m\n\u001b[1;32m   1268\u001b[0m         \u001b[38;5;28;01mreturn\u001b[39;00m modules[name]\n\u001b[0;32m-> 1269\u001b[0m \u001b[38;5;28;01mraise\u001b[39;00m \u001b[38;5;167;01mAttributeError\u001b[39;00m(\u001b[38;5;124m\"\u001b[39m\u001b[38;5;124m'\u001b[39m\u001b[38;5;132;01m{}\u001b[39;00m\u001b[38;5;124m'\u001b[39m\u001b[38;5;124m object has no attribute \u001b[39m\u001b[38;5;124m'\u001b[39m\u001b[38;5;132;01m{}\u001b[39;00m\u001b[38;5;124m'\u001b[39m\u001b[38;5;124m\"\u001b[39m\u001b[38;5;241m.\u001b[39mformat(\n\u001b[1;32m   1270\u001b[0m     \u001b[38;5;28mtype\u001b[39m(\u001b[38;5;28mself\u001b[39m)\u001b[38;5;241m.\u001b[39m\u001b[38;5;18m__name__\u001b[39m, name))\n",
            "\u001b[0;31mAttributeError\u001b[0m: 'LoraModel' object has no attribute 'enable_input_require_grads'",
            "\nDuring handling of the above exception, another exception occurred:\n",
            "\u001b[0;31mAttributeError\u001b[0m                            Traceback (most recent call last)",
            "Cell \u001b[0;32mIn[23], line 9\u001b[0m\n\u001b[1;32m      6\u001b[0m     param\u001b[38;5;241m.\u001b[39mdata \u001b[38;5;241m=\u001b[39m param\u001b[38;5;241m.\u001b[39mdata\u001b[38;5;241m.\u001b[39mto(torch\u001b[38;5;241m.\u001b[39mfloat32)\n\u001b[1;32m      8\u001b[0m model\u001b[38;5;241m.\u001b[39mgradient_checkpointing_enable()  \u001b[38;5;66;03m# reduce number of stored activations\u001b[39;00m\n\u001b[0;32m----> 9\u001b[0m \u001b[43mmodel\u001b[49m\u001b[38;5;241;43m.\u001b[39;49m\u001b[43menable_input_require_grads\u001b[49m()\n\u001b[1;32m     11\u001b[0m \u001b[38;5;28;01mclass\u001b[39;00m \u001b[38;5;21;01mCastOutputToFloat\u001b[39;00m(nn\u001b[38;5;241m.\u001b[39mSequential):\n\u001b[1;32m     12\u001b[0m   \u001b[38;5;28;01mdef\u001b[39;00m \u001b[38;5;21mforward\u001b[39m(\u001b[38;5;28mself\u001b[39m, x): \u001b[38;5;28;01mreturn\u001b[39;00m \u001b[38;5;28msuper\u001b[39m()\u001b[38;5;241m.\u001b[39mforward(x)\u001b[38;5;241m.\u001b[39mto(torch\u001b[38;5;241m.\u001b[39mfloat32)\n",
            "File \u001b[0;32m~/JH/Vsearch/lib/python3.10/site-packages/peft/peft_model.py:531\u001b[0m, in \u001b[0;36mPeftModel.__getattr__\u001b[0;34m(self, name)\u001b[0m\n\u001b[1;32m    529\u001b[0m     \u001b[38;5;28;01mreturn\u001b[39;00m \u001b[38;5;28msuper\u001b[39m()\u001b[38;5;241m.\u001b[39m\u001b[38;5;21m__getattr__\u001b[39m(name)  \u001b[38;5;66;03m# defer to nn.Module's logic\u001b[39;00m\n\u001b[1;32m    530\u001b[0m \u001b[38;5;28;01mexcept\u001b[39;00m \u001b[38;5;167;01mAttributeError\u001b[39;00m:\n\u001b[0;32m--> 531\u001b[0m     \u001b[38;5;28;01mreturn\u001b[39;00m \u001b[38;5;28;43mgetattr\u001b[39;49m\u001b[43m(\u001b[49m\u001b[38;5;28;43mself\u001b[39;49m\u001b[38;5;241;43m.\u001b[39;49m\u001b[43mbase_model\u001b[49m\u001b[43m,\u001b[49m\u001b[43m \u001b[49m\u001b[43mname\u001b[49m\u001b[43m)\u001b[49m\n",
            "File \u001b[0;32m~/JH/Vsearch/lib/python3.10/site-packages/peft/tuners/lora/model.py:269\u001b[0m, in \u001b[0;36mLoraModel.__getattr__\u001b[0;34m(self, name)\u001b[0m\n\u001b[1;32m    267\u001b[0m     \u001b[38;5;28;01mreturn\u001b[39;00m \u001b[38;5;28msuper\u001b[39m()\u001b[38;5;241m.\u001b[39m\u001b[38;5;21m__getattr__\u001b[39m(name)  \u001b[38;5;66;03m# defer to nn.Module's logic\u001b[39;00m\n\u001b[1;32m    268\u001b[0m \u001b[38;5;28;01mexcept\u001b[39;00m \u001b[38;5;167;01mAttributeError\u001b[39;00m:\n\u001b[0;32m--> 269\u001b[0m     \u001b[38;5;28;01mreturn\u001b[39;00m \u001b[38;5;28;43mgetattr\u001b[39;49m\u001b[43m(\u001b[49m\u001b[38;5;28;43mself\u001b[39;49m\u001b[38;5;241;43m.\u001b[39;49m\u001b[43mmodel\u001b[49m\u001b[43m,\u001b[49m\u001b[43m \u001b[49m\u001b[43mname\u001b[49m\u001b[43m)\u001b[49m\n",
            "File \u001b[0;32m~/JH/Vsearch/lib/python3.10/site-packages/torch/nn/modules/module.py:1269\u001b[0m, in \u001b[0;36mModule.__getattr__\u001b[0;34m(self, name)\u001b[0m\n\u001b[1;32m   1267\u001b[0m     \u001b[38;5;28;01mif\u001b[39;00m name \u001b[38;5;129;01min\u001b[39;00m modules:\n\u001b[1;32m   1268\u001b[0m         \u001b[38;5;28;01mreturn\u001b[39;00m modules[name]\n\u001b[0;32m-> 1269\u001b[0m \u001b[38;5;28;01mraise\u001b[39;00m \u001b[38;5;167;01mAttributeError\u001b[39;00m(\u001b[38;5;124m\"\u001b[39m\u001b[38;5;124m'\u001b[39m\u001b[38;5;132;01m{}\u001b[39;00m\u001b[38;5;124m'\u001b[39m\u001b[38;5;124m object has no attribute \u001b[39m\u001b[38;5;124m'\u001b[39m\u001b[38;5;132;01m{}\u001b[39;00m\u001b[38;5;124m'\u001b[39m\u001b[38;5;124m\"\u001b[39m\u001b[38;5;241m.\u001b[39mformat(\n\u001b[1;32m   1270\u001b[0m     \u001b[38;5;28mtype\u001b[39m(\u001b[38;5;28mself\u001b[39m)\u001b[38;5;241m.\u001b[39m\u001b[38;5;18m__name__\u001b[39m, name))\n",
            "\u001b[0;31mAttributeError\u001b[0m: 'GPT2LMHeadModel' object has no attribute 'enable_input_require_grads'"
          ]
        }
      ],
      "source": [
        "for name,param in model.named_parameters():\n",
        "  param.requires_grad = False  # freeze the model - train adapters later\n",
        "  if param.ndim == 1:\n",
        "    print(name)\n",
        "    # cast the small parameters (e.g. layernorm) to fp32 for stability\n",
        "    param.data = param.data.to(torch.float32)\n",
        "\n",
        "model.gradient_checkpointing_enable()  # reduce number of stored activations\n",
        "model.enable_input_require_grads()\n",
        "\n",
        "class CastOutputToFloat(nn.Sequential):\n",
        "  def forward(self, x): return super().forward(x).to(torch.float32)\n",
        "model.lm_head = CastOutputToFloat(model.lm_head)"
      ]
    },
    {
      "cell_type": "markdown",
      "metadata": {
        "id": "KwOTr7B3NlM3"
      },
      "source": [
        "### Setting up the LoRa Adapters"
      ]
    },
    {
      "cell_type": "code",
      "execution_count": 24,
      "metadata": {
        "id": "4W1j6lxaNnxC"
      },
      "outputs": [],
      "source": [
        "def print_trainable_parameters(model):\n",
        "    \"\"\"\n",
        "    Prints the number of trainable parameters in the model.\n",
        "    \"\"\"\n",
        "    trainable_params = 0\n",
        "    all_param = 0\n",
        "    for _, param in model.named_parameters():\n",
        "        all_param += param.numel()\n",
        "        if param.requires_grad:\n",
        "            trainable_params += param.numel()\n",
        "    print(\n",
        "        f\"trainable params: {trainable_params} || all params: {all_param} || trainable%: {100 * trainable_params / all_param}\"\n",
        "    )"
      ]
    },
    {
      "cell_type": "code",
      "execution_count": 25,
      "metadata": {
        "colab": {
          "base_uri": "https://localhost:8080/"
        },
        "id": "4iwHGzKBN6wk",
        "outputId": "94651dce-28b0-4599-88cd-ad759637fe49"
      },
      "outputs": [
        {
          "name": "stdout",
          "output_type": "stream",
          "text": [
            "trainable params: 589824 || all params: 125753856 || trainable%: 0.46903054805730965\n"
          ]
        }
      ],
      "source": [
        "from peft import LoraConfig, get_peft_model\n",
        "\n",
        "config = LoraConfig(\n",
        "    r=16, #attention heads\n",
        "    lora_alpha=64, #alpha scaling\n",
        "    # target_modules=[\"q_proj\", \"v_proj\"], #if you know the\n",
        "    lora_dropout=0.05,\n",
        "    bias=\"none\",\n",
        "    task_type=\"CAUSAL_LM\" # set this for CLM or Seq2Seq\n",
        ")\n",
        "\n",
        "model = get_peft_model(model, config)\n",
        "print_trainable_parameters(model)"
      ]
    },
    {
      "cell_type": "code",
      "execution_count": 26,
      "metadata": {
        "colab": {
          "base_uri": "https://localhost:8080/"
        },
        "id": "55Yo8ns8uttv",
        "outputId": "a4155f30-237e-4f68-e7fe-838b78032b5b"
      },
      "outputs": [
        {
          "name": "stdout",
          "output_type": "stream",
          "text": [
            "base_model.model.base_model.model.transformer.h.0.attn.c_attn.lora_A.default.weight\n",
            "base_model.model.base_model.model.transformer.h.0.attn.c_attn.lora_B.default.weight\n",
            "base_model.model.base_model.model.transformer.h.1.attn.c_attn.lora_A.default.weight\n",
            "base_model.model.base_model.model.transformer.h.1.attn.c_attn.lora_B.default.weight\n",
            "base_model.model.base_model.model.transformer.h.2.attn.c_attn.lora_A.default.weight\n",
            "base_model.model.base_model.model.transformer.h.2.attn.c_attn.lora_B.default.weight\n",
            "base_model.model.base_model.model.transformer.h.3.attn.c_attn.lora_A.default.weight\n",
            "base_model.model.base_model.model.transformer.h.3.attn.c_attn.lora_B.default.weight\n",
            "base_model.model.base_model.model.transformer.h.4.attn.c_attn.lora_A.default.weight\n",
            "base_model.model.base_model.model.transformer.h.4.attn.c_attn.lora_B.default.weight\n",
            "base_model.model.base_model.model.transformer.h.5.attn.c_attn.lora_A.default.weight\n",
            "base_model.model.base_model.model.transformer.h.5.attn.c_attn.lora_B.default.weight\n",
            "base_model.model.base_model.model.transformer.h.6.attn.c_attn.lora_A.default.weight\n",
            "base_model.model.base_model.model.transformer.h.6.attn.c_attn.lora_B.default.weight\n",
            "base_model.model.base_model.model.transformer.h.7.attn.c_attn.lora_A.default.weight\n",
            "base_model.model.base_model.model.transformer.h.7.attn.c_attn.lora_B.default.weight\n",
            "base_model.model.base_model.model.transformer.h.8.attn.c_attn.lora_A.default.weight\n",
            "base_model.model.base_model.model.transformer.h.8.attn.c_attn.lora_B.default.weight\n",
            "base_model.model.base_model.model.transformer.h.9.attn.c_attn.lora_A.default.weight\n",
            "base_model.model.base_model.model.transformer.h.9.attn.c_attn.lora_B.default.weight\n",
            "base_model.model.base_model.model.transformer.h.10.attn.c_attn.lora_A.default.weight\n",
            "base_model.model.base_model.model.transformer.h.10.attn.c_attn.lora_B.default.weight\n",
            "base_model.model.base_model.model.transformer.h.11.attn.c_attn.lora_A.default.weight\n",
            "base_model.model.base_model.model.transformer.h.11.attn.c_attn.lora_B.default.weight\n"
          ]
        }
      ],
      "source": [
        "for name,p in model.named_parameters():\n",
        "  if p.requires_grad:\n",
        "    print(name)\n",
        "    # break"
      ]
    },
    {
      "cell_type": "markdown",
      "metadata": {
        "id": "-y6MRpkSfYGP"
      },
      "source": [
        "## Data"
      ]
    },
    {
      "cell_type": "code",
      "execution_count": 7,
      "metadata": {
        "colab": {
          "base_uri": "https://localhost:8080/"
        },
        "id": "b-En94RAfbKF",
        "outputId": "456bdcee-cd15-470e-bd38-1c76359923b9"
      },
      "outputs": [
        {
          "data": {
            "text/plain": [
              "DatasetDict({\n",
              "    train: Dataset({\n",
              "        features: ['quote', 'author', 'tags'],\n",
              "        num_rows: 2508\n",
              "    })\n",
              "})"
            ]
          },
          "execution_count": 7,
          "metadata": {},
          "output_type": "execute_result"
        }
      ],
      "source": [
        "import transformers\n",
        "from datasets import load_dataset\n",
        "data = load_dataset(\"Abirate/english_quotes\")\n",
        "data\n"
      ]
    },
    {
      "cell_type": "code",
      "execution_count": 10,
      "metadata": {
        "colab": {
          "base_uri": "https://localhost:8080/",
          "height": 210,
          "referenced_widgets": [
            "e253aaf6c62a4a18a45fece324259c7b",
            "b1f6587c4f2b409ab49e8b5ca90de0e3",
            "9195ed2cc1f445d68f057dff76885513",
            "c34c29c3389449259d91f8936c8503db",
            "92e5fb158ebe4bc5ad68b8c729a0844b",
            "0bfdb4a3906e4cf48c9299417c04a55b",
            "3efc1b852f274509ba67eade96614a34",
            "005c2156ee544ef88d37a583ea6b4596",
            "f4c4aaa89e414a71b4fb7229c675ed3e",
            "e3a726f1fa334f3bbecf8f62d2191b2d",
            "6295b628cd7d44e682230b495ef00362"
          ]
        },
        "id": "b6fQzRl2faSn",
        "outputId": "f173b964-679f-4a88-c644-8691d71b63f9"
      },
      "outputs": [
        {
          "name": "stderr",
          "output_type": "stream",
          "text": [
            "Map: 100%|██████████| 2508/2508 [00:00<00:00, 13029.48 examples/s]\n"
          ]
        },
        {
          "data": {
            "text/plain": [
              "[\"“Be yourself; everyone else is already taken.” ->: ['be-yourself', 'gilbert-perreira', 'honesty', 'inspirational', 'misattributed-oscar-wilde', 'quote-investigator']\",\n",
              " \"“I'm selfish, impatient and a little insecure. I make mistakes, I am out of control and at times hard to handle. But if you can't handle me at my worst, then you sure as hell don't deserve me at my best.” ->: ['best', 'life', 'love', 'mistakes', 'out-of-control', 'truth', 'worst']\",\n",
              " \"“Two things are infinite: the universe and human stupidity; and I'm not sure about the universe.” ->: ['human-nature', 'humor', 'infinity', 'philosophy', 'science', 'stupidity', 'universe']\",\n",
              " \"“So many books, so little time.” ->: ['books', 'humor']\",\n",
              " \"“A room without books is like a body without a soul.” ->: ['books', 'simile', 'soul']\"]"
            ]
          },
          "execution_count": 10,
          "metadata": {},
          "output_type": "execute_result"
        }
      ],
      "source": [
        "def merge_columns(example):\n",
        "    example[\"prediction\"] = example[\"quote\"] + \" ->: \" + str(example[\"tags\"])\n",
        "    return example\n",
        "\n",
        "data['train'] = data['train'].map(merge_columns)\n",
        "data['train'][\"prediction\"][:5]\n",
        "# data"
      ]
    },
    {
      "cell_type": "code",
      "execution_count": 11,
      "metadata": {
        "id": "_1wzXAgWJCYR"
      },
      "outputs": [],
      "source": [
        "# 'train' 데이터셋에서 'quote' 열 삭제\n",
        "data['train'] = data['train'].remove_columns('quote')\n",
        "data['train'] = data['train'].remove_columns('tags')\n",
        "data['train'] = data['train'].remove_columns('author')"
      ]
    },
    {
      "cell_type": "code",
      "execution_count": 13,
      "metadata": {},
      "outputs": [
        {
          "data": {
            "text/plain": [
              "DatasetDict({\n",
              "    train: Dataset({\n",
              "        features: ['prediction'],\n",
              "        num_rows: 2508\n",
              "    })\n",
              "})"
            ]
          },
          "execution_count": 13,
          "metadata": {},
          "output_type": "execute_result"
        }
      ],
      "source": [
        "data"
      ]
    },
    {
      "cell_type": "code",
      "execution_count": 14,
      "metadata": {
        "colab": {
          "base_uri": "https://localhost:8080/",
          "height": 49,
          "referenced_widgets": [
            "4eb5e473c23d4cf9a21d68ee7845eb08",
            "79f858c4572f4f549e8dc4f86c04ebb4",
            "0d78e38394e34f0a845d02dba19e5091",
            "8eef3df347d8426c8704dd8c15fabc0c",
            "24d13bda0bb548a5be2c9f1aed3cfbe1",
            "3ed6b907ab94430ba017a722f911321d",
            "c666e5b2cebb4cd8aec18dcf09badd47",
            "98cf5b09d36c4c5797e2812e685c5420",
            "980f7e5e82bf46a5b7fcbe570e4b04ca",
            "60d74e69854d4f8398c931c7436e9c62",
            "87fef8dd4e324578a409a8aa886ea9cc"
          ]
        },
        "id": "v2huC6dMh5vE",
        "outputId": "2195dabf-d9f3-4361-d369-1a58bbe6765f"
      },
      "outputs": [
        {
          "name": "stderr",
          "output_type": "stream",
          "text": [
            "Map: 100%|██████████| 2508/2508 [00:00<00:00, 14230.19 examples/s]\n"
          ]
        }
      ],
      "source": [
        "data = data.map(lambda samples: tokenizer(samples['prediction']), batched=True)"
      ]
    },
    {
      "cell_type": "code",
      "execution_count": 15,
      "metadata": {
        "colab": {
          "base_uri": "https://localhost:8080/"
        },
        "id": "dNIP6Z8Wh-W3",
        "outputId": "f9c81dc1-3915-4e21-bf9d-f20576355dde"
      },
      "outputs": [
        {
          "data": {
            "text/plain": [
              "DatasetDict({\n",
              "    train: Dataset({\n",
              "        features: ['prediction', 'input_ids', 'attention_mask'],\n",
              "        num_rows: 2508\n",
              "    })\n",
              "})"
            ]
          },
          "execution_count": 15,
          "metadata": {},
          "output_type": "execute_result"
        }
      ],
      "source": [
        "data"
      ]
    },
    {
      "cell_type": "markdown",
      "metadata": {
        "id": "VxiCgTut_vH7"
      },
      "source": [
        "# new dataset 적용\n",
        "## 1. query 2 query"
      ]
    },
    {
      "cell_type": "code",
      "execution_count": 27,
      "metadata": {
        "colab": {
          "base_uri": "https://localhost:8080/"
        },
        "id": "DVShf4tptBdr",
        "outputId": "e2a03552-cedc-4b23-b521-56629d911744"
      },
      "outputs": [
        {
          "name": "stdout",
          "output_type": "stream",
          "text": [
            "DatasetDict({\n",
            "    test: Dataset({\n",
            "        features: ['prediction'],\n",
            "        num_rows: 1000\n",
            "    })\n",
            "})\n"
          ]
        },
        {
          "data": {
            "application/vnd.jupyter.widget-view+json": {
              "model_id": "c0380189a3794776a17eeebf326c6904",
              "version_major": 2,
              "version_minor": 0
            },
            "text/plain": [
              "Map:   0%|          | 0/1000 [00:00<?, ? examples/s]"
            ]
          },
          "metadata": {},
          "output_type": "display_data"
        },
        {
          "data": {
            "text/plain": [
              "{'prediction': 'what is a mole, ground moles',\n",
              " 'input_ids': [18896,\n",
              "  446,\n",
              "  10272,\n",
              "  739,\n",
              "  9969,\n",
              "  13612,\n",
              "  11849,\n",
              "  31816,\n",
              "  387,\n",
              "  15317,\n",
              "  10689,\n",
              "  16799,\n",
              "  11849,\n",
              "  10602,\n",
              "  9792],\n",
              " 'attention_mask': [1, 1, 1, 1, 1, 1, 1, 1, 1, 1, 1, 1, 1, 1, 1]}"
            ]
          },
          "execution_count": 27,
          "metadata": {},
          "output_type": "execute_result"
        }
      ],
      "source": [
        "# New dataset\n",
        "from datasets import load_dataset\n",
        "data_path = 'neeva/query2query_evaluation'\n",
        "\n",
        "dataset = load_dataset(data_path)\n",
        "type(dataset),type(dataset['test'])\n",
        "dataset['test'][0]\n",
        "\n",
        "def merge_columns(example):\n",
        "    example[\"prediction\"] = example[\"query1 \"] + \", \" + str(example[\"query2\"])\n",
        "    return example\n",
        "\n",
        "dataset['test'] = dataset['test'].map(merge_columns)\n",
        "dataset['test'] = dataset['test'].remove_columns('query1 ')\n",
        "dataset['test'] = dataset['test'].remove_columns('query2')\n",
        "dataset['test'] = dataset['test'].remove_columns('rating')\n",
        "print(dataset)\n",
        "\n",
        "dataset = dataset.map(lambda samples: tokenizer(samples['prediction']), batched=True)\n",
        "dataset['test'][0]"
      ]
    },
    {
      "cell_type": "markdown",
      "metadata": {},
      "source": [
        "## 2. query 2 doc"
      ]
    },
    {
      "cell_type": "code",
      "execution_count": 17,
      "metadata": {
        "id": "bPy2Yb2D_xa4"
      },
      "outputs": [
        {
          "name": "stderr",
          "output_type": "stream",
          "text": [
            "Downloading builder script: 100%|██████████| 3.90k/3.90k [00:00<00:00, 10.3MB/s]\n",
            "Downloading readme: 100%|██████████| 2.27k/2.27k [00:00<00:00, 11.1MB/s]\n",
            "Downloading data: 100%|██████████| 241M/241M [00:12<00:00, 19.0MB/s]\n",
            "Downloading data: 100%|██████████| 3.36M/3.36M [00:01<00:00, 3.01MB/s]\n",
            "Downloading data: 100%|██████████| 3.24M/3.24M [00:01<00:00, 2.90MB/s]\n",
            "Downloading data: 100%|██████████| 22.0k/22.0k [00:00<00:00, 42.1MB/s]\n",
            "Downloading data: 100%|██████████| 27.0k/27.0k [00:00<00:00, 43.7MB/s]\n",
            "Downloading data files: 100%|██████████| 5/5 [00:20<00:00,  4.01s/it]\n"
          ]
        },
        {
          "name": "stdout",
          "output_type": "stream",
          "text": [
            "{'train': '/data/ephemeral/home/.cache/huggingface/datasets/downloads/363e1af87c516ca324da4b77663f61b96190535e3dd47921a90800abc8e4b8c5', 'dev': '/data/ephemeral/home/.cache/huggingface/datasets/downloads/b594b31a1055055615af076fdf73c320cdd70988c5e136b7ff7e6b777f9ab2f0', 'test': '/data/ephemeral/home/.cache/huggingface/datasets/downloads/bd74d174629b3e7ccba1407f4fa051e241d243244c957aaa1d5c08becb3d72e4', 'trec_dl2019': '/data/ephemeral/home/.cache/huggingface/datasets/downloads/67aadce3215b4c9bc41440220036f87d10f8a09ed714b3c2ee7fabfefad80a51', 'trec_dl2020': '/data/ephemeral/home/.cache/huggingface/datasets/downloads/0613d96bd7f92fd7f422316998ecaf2536dd08c1ac5835ce288706af00530d28'}\n"
          ]
        },
        {
          "name": "stderr",
          "output_type": "stream",
          "text": [
            "Generating train split: 502939 examples [00:18, 26880.27 examples/s]\n",
            "Generating validation split: 6980 examples [00:00, 26928.23 examples/s]\n",
            "Generating test split: 6837 examples [00:00, 27135.10 examples/s]\n",
            "Generating trec_dl2019 split: 43 examples [00:00, 12894.48 examples/s]\n",
            "Generating trec_dl2020 split: 54 examples [00:00, 13879.06 examples/s]\n"
          ]
        },
        {
          "name": "stdout",
          "output_type": "stream",
          "text": [
            "DatasetDict({\n",
            "    train: Dataset({\n",
            "        features: ['query_id', 'query', 'pseudo_doc'],\n",
            "        num_rows: 502939\n",
            "    })\n",
            "    validation: Dataset({\n",
            "        features: ['query_id', 'query', 'pseudo_doc'],\n",
            "        num_rows: 6980\n",
            "    })\n",
            "    test: Dataset({\n",
            "        features: ['query_id', 'query', 'pseudo_doc'],\n",
            "        num_rows: 6837\n",
            "    })\n",
            "    trec_dl2019: Dataset({\n",
            "        features: ['query_id', 'query', 'pseudo_doc'],\n",
            "        num_rows: 43\n",
            "    })\n",
            "    trec_dl2020: Dataset({\n",
            "        features: ['query_id', 'query', 'pseudo_doc'],\n",
            "        num_rows: 54\n",
            "    })\n",
            "})\n"
          ]
        },
        {
          "name": "stderr",
          "output_type": "stream",
          "text": [
            "Map: 100%|██████████| 502939/502939 [00:33<00:00, 15213.31 examples/s]\n",
            "Map: 100%|██████████| 502939/502939 [00:51<00:00, 9708.85 examples/s] \n",
            "Map: 100%|██████████| 6980/6980 [00:00<00:00, 15683.35 examples/s]\n",
            "Map: 100%|██████████| 6980/6980 [00:00<00:00, 8420.65 examples/s]\n",
            "Map: 100%|██████████| 6837/6837 [00:00<00:00, 15364.50 examples/s]\n",
            "Map: 100%|██████████| 6837/6837 [00:00<00:00, 10134.45 examples/s]\n"
          ]
        },
        {
          "data": {
            "text/plain": [
              "DatasetDict({\n",
              "    train: Dataset({\n",
              "        features: ['prediction', 'input_ids', 'attention_mask'],\n",
              "        num_rows: 502939\n",
              "    })\n",
              "    validation: Dataset({\n",
              "        features: ['prediction', 'input_ids', 'attention_mask'],\n",
              "        num_rows: 6980\n",
              "    })\n",
              "    test: Dataset({\n",
              "        features: ['prediction', 'input_ids', 'attention_mask'],\n",
              "        num_rows: 6837\n",
              "    })\n",
              "    trec_dl2019: Dataset({\n",
              "        features: ['query_id', 'query', 'pseudo_doc'],\n",
              "        num_rows: 43\n",
              "    })\n",
              "    trec_dl2020: Dataset({\n",
              "        features: ['query_id', 'query', 'pseudo_doc'],\n",
              "        num_rows: 54\n",
              "    })\n",
              "})"
            ]
          },
          "execution_count": 17,
          "metadata": {},
          "output_type": "execute_result"
        }
      ],
      "source": [
        "from datasets import load_dataset\n",
        "data_path = 'intfloat/query2doc_msmarco'\n",
        "\n",
        "dataset = load_dataset(data_path)\n",
        "print(dataset)\n",
        "\n",
        "def merge_columns(example):\n",
        "    example[\"prediction\"] = 'question : '+ example[\"query\"] + \" answer : \" + str(example[\"pseudo_doc\"])\n",
        "    return example\n",
        "\n",
        "def remove_col(dataset,name):\n",
        "  dataset[name] = dataset[name].map(merge_columns) # make list\n",
        "  dataset[name] = dataset[name].remove_columns('query')\n",
        "  dataset[name] = dataset[name].remove_columns('pseudo_doc')\n",
        "  dataset[name] = dataset[name].remove_columns('query_id')\n",
        "\n",
        "  dataset[name] = dataset[name].map(lambda samples: tokenizer(samples['prediction']), batched=True)\n",
        "\n",
        "remove_col(dataset,'train')\n",
        "remove_col(dataset,'validation')\n",
        "remove_col(dataset,'test')\n",
        "dataset"
      ]
    },
    {
      "cell_type": "markdown",
      "metadata": {},
      "source": [
        "# 3. query 2 docs mix : mydataset"
      ]
    },
    {
      "cell_type": "code",
      "execution_count": 28,
      "metadata": {},
      "outputs": [],
      "source": [
        "import pandas as pd\n",
        "train = pd.read_csv('../open/train.csv')\n",
        "test = pd.read_csv('../open/test.csv')\n",
        "\n",
        "query_1 = list(train.질문_1)\n",
        "query_2 = list(train.질문_2)\n",
        "\n",
        "answer_1 = list(train.답변_1)\n",
        "answer_2 = list(train.답변_2)\n",
        "answer_3 = list(train.답변_3)\n",
        "answer_4 = list(train.답변_4)\n",
        "answer_5 = list(train.답변_5)"
      ]
    },
    {
      "cell_type": "markdown",
      "metadata": {},
      "source": [
        "queyr1개와 answer1개 섞기."
      ]
    },
    {
      "cell_type": "code",
      "execution_count": 29,
      "metadata": {},
      "outputs": [
        {
          "name": "stdout",
          "output_type": "stream",
          "text": [
            "Dataset({\n",
            "    features: ['prediction'],\n",
            "    num_rows: 6440\n",
            "})\n",
            "\n",
            "DatasetDict({\n",
            "    train: Dataset({\n",
            "        features: ['prediction'],\n",
            "        num_rows: 6440\n",
            "    })\n",
            "})\n"
          ]
        },
        {
          "data": {
            "application/vnd.jupyter.widget-view+json": {
              "model_id": "3949527b6b2641ed883eac605eeaf8c7",
              "version_major": 2,
              "version_minor": 0
            },
            "text/plain": [
              "Map:   0%|          | 0/6440 [00:00<?, ? examples/s]"
            ]
          },
          "metadata": {},
          "output_type": "display_data"
        },
        {
          "name": "stdout",
          "output_type": "stream",
          "text": [
            "<class 'datasets.dataset_dict.DatasetDict'> <class 'datasets.arrow_dataset.Dataset'>\n"
          ]
        }
      ],
      "source": [
        "import pandas as pd\n",
        "from datasets import DatasetDict, Dataset, Features\n",
        "from datasets import DatasetDict\n",
        "\n",
        "# Read the training data\n",
        "train = pd.read_csv(\"../open/train.csv\")\n",
        "\n",
        "# Extract queries and answers\n",
        "queries = train[\"질문_1\"]\n",
        "answers = []\n",
        "\n",
        "for i in range(len(train)):\n",
        "    row_answers = train.iloc[i][[\"답변_1\", \"답변_2\", \"답변_3\", \"답변_4\", \"답변_5\"]].dropna().tolist()\n",
        "    for answer in row_answers:\n",
        "        \n",
        "        ######### Caution!!!!! #########\n",
        "        #여기가 리스트이면 안됨!!!!!!!!\n",
        "        # answers.append([queries.iloc[i]+' '+answer]) \n",
        "        answers.append(queries.iloc[i]+' '+answer) \n",
        "        \n",
        "queries = train[\"질문_2\"]\n",
        "for i in range(len(train)):\n",
        "    row_answers = train.iloc[i][[\"답변_1\", \"답변_2\", \"답변_3\", \"답변_4\", \"답변_5\"]].dropna().tolist()\n",
        "    for answer in row_answers:\n",
        "        \n",
        "        # answers.append({queries.iloc[i]+' '+answer})\n",
        "        # answers.append([queries.iloc[i]+' '+answer]\n",
        "        answers.append(queries.iloc[i]+' '+answer) \n",
        "        # answers.append({\"문\": queries.iloc[i], \"답\": answer})\n",
        "        \n",
        "# Create the Dataset\n",
        "dataset = Dataset.from_dict({\"prediction\": answers})\n",
        "\n",
        "# Print the Dataset\n",
        "print(dataset)\n",
        "dataset_dict = DatasetDict({\"train\": dataset})\n",
        "\n",
        "print()\n",
        "# 비슷하게 만들었다.\n",
        "\"\"\"\n",
        "DatasetDict({\n",
        "    train: Dataset({\n",
        "        features: ['prediction', 'input_ids', 'attention_mask'],\n",
        "        num_rows: 502939\n",
        "    })\n",
        "})\n",
        "\"\"\"\n",
        "print(dataset_dict)\n",
        "\n",
        "# 실패\n",
        "def tokenizers_on(dataset,name):\n",
        "  dataset[name] = dataset[name].map(lambda samples: tokenizer(samples['prediction']), batched=True)\n",
        "  return dataset\n",
        "# dataset_dict = remove_col(dataset_dict,'train')\n",
        "# dataset_dict\n",
        "\n",
        "\n",
        "dataset_dict = dataset_dict.map(lambda samples: tokenizer(samples['prediction']), batched=True)\n",
        "dataset_dict\n",
        "\n",
        "print(type(dataset_dict),type(dataset))"
      ]
    },
    {
      "cell_type": "markdown",
      "metadata": {},
      "source": [
        "# 일단 완성!!!!!!!!"
      ]
    },
    {
      "cell_type": "markdown",
      "metadata": {},
      "source": [
        "#### 다른 데이터 형식을 빌려와서 추가하기!"
      ]
    },
    {
      "cell_type": "code",
      "execution_count": 120,
      "metadata": {},
      "outputs": [
        {
          "data": {
            "text/plain": [
              "{'prediction': '면진장치가 뭐야? 면진장치란 지반에서 오는 진동 에너지를 흡수하여 건물에 주는 진동을 줄여주는 진동 격리장치입니다.'}"
            ]
          },
          "execution_count": 120,
          "metadata": {},
          "output_type": "execute_result"
        }
      ],
      "source": [
        "dataset_dict['train'][0]"
      ]
    },
    {
      "cell_type": "code",
      "execution_count": 121,
      "metadata": {},
      "outputs": [
        {
          "data": {
            "text/plain": [
              "{'prediction': 'what is a mole, ground moles'}"
            ]
          },
          "execution_count": 121,
          "metadata": {},
          "output_type": "execute_result"
        }
      ],
      "source": [
        "dataset0['test'][0]"
      ]
    },
    {
      "cell_type": "code",
      "execution_count": 95,
      "metadata": {},
      "outputs": [
        {
          "name": "stdout",
          "output_type": "stream",
          "text": [
            "<class 'datasets.dataset_dict.DatasetDict'> <class 'datasets.arrow_dataset.Dataset'>\n",
            "Dataset({\n",
            "    features: ['query1 ', 'query2', 'rating'],\n",
            "    num_rows: 1000\n",
            "})\n",
            "DatasetDict({\n",
            "    test: Dataset({\n",
            "        features: ['prediction'],\n",
            "        num_rows: 1000\n",
            "    })\n",
            "})\n"
          ]
        }
      ],
      "source": [
        "# New dataset\n",
        "from datasets import load_dataset\n",
        "data_path = 'neeva/query2query_evaluation'\n",
        "\n",
        "dataset0 = load_dataset(data_path)\n",
        "print(type(dataset0),type(dataset0['test']))\n",
        "print(dataset0['test'])\n",
        "\n",
        "def merge_columns(example):\n",
        "    example[\"prediction\"] = example[\"query1 \"] + \", \" + str(example[\"query2\"])\n",
        "    return example\n",
        "\n",
        "dataset0['test'] = dataset0['test'].map(merge_columns)\n",
        "dataset0['test'] = dataset0['test'].remove_columns('query1 ')\n",
        "dataset0['test'] = dataset0['test'].remove_columns('query2')\n",
        "dataset0['test'] = dataset0['test'].remove_columns('rating')\n",
        "print(dataset0)\n",
        "\n",
        "dataset0['train'] = dataset\n"
      ]
    },
    {
      "cell_type": "markdown",
      "metadata": {},
      "source": [
        "# 쿼리 2개 와 답변 2개 섞기."
      ]
    },
    {
      "cell_type": "code",
      "execution_count": 17,
      "metadata": {},
      "outputs": [
        {
          "data": {
            "text/plain": [
              "['철근철골콘크리트는 철골과 철근, 그리고 콘크리트를 함께 사용하는 건축 구조입니다. 철골은 강하고 가벼운 소재로, 높은 내구성과 강도를 가지고 있어 대규모 공간이나 강성이 요구되는 대형 고층건물에 적합합니다. 그러나 화재에 취약하고 녹이 슬면 강성이 떨어지는 단점이 있습니다. 이를 보완하기 위해 철근과 콘크리트를 섞어 사용하는 방식이 개발되었습니다. 철근콘크리트는 철근이 인장력을, 콘크리트가 압축력을 담당하여 강성을 가지며 콘크리트의 열전도가 낮은 재료상 특징을 이용해 서로의 단점을 보완하도록 결합한 구조입니다. 내화성, 내구성, 내진성능이 뛰어나지만 자중이 크고 시공과정이 복잡하며 공사기간이 길고 균일한 시공이 불가능하다는 단점이 있습니다. 철근철골콘크리트는 이 두 가지 구조의 장점을 살려 만든 것으로, 철골 뼈대로 구조를 세우고 그 주변을 철근과 콘크리트로 감싸거나, 철근과 콘크리트로 구조를 만들고 그 위에 철골을 올리는 형태로 만들어집니다. 이렇게 함으로써 철골의 내구성과 강도를 높이면서도 화재에 대한 안전성을 높일 수 있습니다.',\n",
              " '철골철근콘크리트 구조는 건축물을 지탱하는 주요 구조물인 철골과 철근, 그리고 콘크리트를 함께 사용하는 건축 구조입니다. 이 구조는 철골의 강도와 내구성, 철근의 인장력, 그리고 콘크리트의 압축력을 조합하여 건축물에 대한 강성과 내구성을 향상시킵니다.   기존 철골 구조의 화재에 취약하고 녹이 스면 강성이 떨어지는 단점을 보완하기 위해 개발된 구조로, 내화성, 내구성, 내진성능이 뛰어나지만 자중이 크고 시공과정이 복잡하며 공사기간이 길고 균일한 시공이 어렵다는 단점 또한 존재합니다.   이러한 구조는 철골을 뼈대로 구조를 세우고 그 주변을 철근과 콘크리트로 감싸거나, 철근과 콘크리트로 구조를 만들고 그 위에 철골을 올리는 형태로 만들어집니다. 이로써 철골의 내구성과 강도를 높이면서도 화재에 대한 안전성을 높일 수 있습니다.',\n",
              " '철골철근 콘크리트 구조는 건축물을 지탱하기 위한 구조물에서 일반적으로 사용되는 방식으로, 철골을 이용해 뼈대를 구성하고, 그 주변을 철근과 콘크리트로 감싸거나, 철근과 콘크리트로 구조를 만들고 그 위에 철골을 올리는 형태입니다. 이 구조 방식은 철골의 내구성과 강도를 높이면서도 화재에 대한 안전성을 높일 수 있고, 철근이 인장력을, 콘크리트가 압축력을 담당하여 강성을 가지며 콘크리트의 열전도가 낮은 재료상의 특징을 이용해 서로의 단점을 보완하도록 결합된 구조체입니다. 내화성, 내구성, 내진성능이 뛰어나지만 자중이 크고 시공과정이 복잡하며 공사기간이 길고 균일한 시공이 불가능하다는 단점이 있습니다.',\n",
              " '철골철근콘크리트 구조는 철골과 철근, 그리고 콘크리트를 함께 사용하여 만들어지는 건축 구조입니다. 이 구조는 철골의 강도와 내구성을 바탕으로 건물을 지지하고, 철근은 인장력을, 콘크리트는 압축력을 담당하여 건물의 강성과 튼튼함을 보장합니다. 이러한 구조는 대규모의 건물이나 고층 건물에서 안정성을 확보하는 데 적합하며, 화재에도 상대적으로 안전합니다. 또한 내화성과 내진성능이 뛰어나지만, 시공과정이 복잡하고 공사기간이 길며, 균일한 시공이 어렵다는 단점이 있습니다. 이러한 이유로 철골철근콘크리트는 철골과 철근콘크리트의 장점을 결합하여 안정성을 높이고 건물을 지탱하는 구조로 평가됩니다.',\n",
              " '철골철근 콘크리트 구조는 강철 골조와 강철 철근, 그리고 콘크리트를 함께 사용하여 건축물을 구성하는 구조체입니다. 이 구조는 강철 골조가 건물을 지탱하고 그 주변에 강철 철근과 콘크리트로 감싸거나, 강철 철근과 콘크리트로 구조를 만든 후 그 위에 강철 골조를 올리는 형태로 제작됩니다. 이러한 구조는 강철 골조의 내구성과 강도를 높이면서도 화재에 대한 안전성을 높이는 장점을 지니고 있습니다.  철골철근 콘크리트 구조는 강철의 강도와 콘크리트의 압축 강인성을 결합하여 강성을 가지며 콘크리트의 열전도가 낮은 재료상 특징을 이용해 서로의 단점을 보완한 구조체입니다. 이는 내화성, 내구성, 내진성능이 뛰어나지만, 자중이 크고 시공과정이 복잡하며 공사기간이 길고 균일한 시공이 어렵다는 단점을 가지고 있습니다.']"
            ]
          },
          "execution_count": 17,
          "metadata": {},
          "output_type": "execute_result"
        }
      ],
      "source": [
        "i = 3\n",
        "train.iloc[i][[\"답변_1\", \"답변_2\", \"답변_3\", \"답변_4\", \"답변_5\"]].dropna().tolist()"
      ]
    },
    {
      "cell_type": "code",
      "execution_count": 42,
      "metadata": {},
      "outputs": [
        {
          "ename": "SyntaxError",
          "evalue": "invalid syntax (2797452991.py, line 29)",
          "output_type": "error",
          "traceback": [
            "\u001b[0;36m  Cell \u001b[0;32mIn[42], line 29\u001b[0;36m\u001b[0m\n\u001b[0;31m    queries =\u001b[0m\n\u001b[0m              ^\u001b[0m\n\u001b[0;31mSyntaxError\u001b[0m\u001b[0;31m:\u001b[0m invalid syntax\n"
          ]
        }
      ],
      "source": [
        "import pandas as pd\n",
        "from datasets import DatasetDict, Dataset, Features\n",
        "\n",
        "# Read the training data\n",
        "train = pd.read_csv(\"../open/train.csv\")\n",
        "\n",
        "# Extract queries and answers\n",
        "queries = train[\"질문_1\"]\n",
        "answers = []\n",
        "\n",
        "for i in range(len(train)):\n",
        "    # list 형식이다.\n",
        "    row_answers = train.iloc[i][[\"답변_1\", \"답변_2\", \"답변_3\", \"답변_4\", \"답변_5\"]].dropna().tolist()\n",
        "    for answer in row_answers:\n",
        "        answers.append(queries.iloc[i]+' '+answer)\n",
        "        \n",
        "queries = train[\"질문_2\"]\n",
        "for i in range(len(train)):\n",
        "    row_answers = train.iloc[i][[\"답변_1\", \"답변_2\", \"답변_3\", \"답변_4\", \"답변_5\"]].dropna().tolist()\n",
        "    for answer in row_answers:\n",
        "        answers.append(queries.iloc[i]+' '+answer)\n",
        "        # answers.append({\"문\": queries.iloc[i], \"답\": answer})\n",
        "\n",
        "for i in range(len(train)):\n",
        "    row_answers_1 = train.iloc[i][[\"답변_1\", \"답변_2\", \"답변_3\", \"답변_4\", \"답변_5\"]].dropna().tolist()\n",
        "    for j in range(len(train)):\n",
        "        row_answers_2 = train.iloc[j][[\"답변_1\", \"답변_2\", \"답변_3\", \"답변_4\", \"답변_5\"]].dropna().tolist()\n",
        "        row_answers = row_answers_1[i]\n",
        "queries = \n",
        "# Create the Dataset\n",
        "dataset = Dataset.from_dict({\"data\": answers})\n",
        "\n",
        "# Print the Dataset\n",
        "print(dataset)\n",
        "dataset['data']"
      ]
    },
    {
      "cell_type": "code",
      "execution_count": 32,
      "metadata": {
        "colab": {
          "base_uri": "https://localhost:8080/",
          "height": 113,
          "referenced_widgets": [
            "e86171b7e2504a0fa83fce0fa7f5468e",
            "4a7fa548cac34b99b54b79ea022e9d4f",
            "73878929008a4573969a1a4422a25940",
            "5c1d53110f4640a9827c67dce7a4fc94",
            "074bb004ff744de8a9f1f307826f14af",
            "942d0b2efab74aa49370626953b8ff9f",
            "c810f8a433d24928af95eecc51e74ea3",
            "5e51fbf22d484bcf87540d11b28c8c26",
            "ae1f95b7d7cb42b4aa09b3f84713e44d",
            "ed2d850bba9742a78c1f0315c2563b11",
            "646247d7896f4d55a88bfe6abbd2a08a",
            "d59346ca8ae240cbafadadf680b5280d",
            "608ddc3588f34e97a09ee233b7782127",
            "1147762d61dd41e481670f22a214570a",
            "d96a443cacbd4c5bb11ac3a904f56c74",
            "4bb097f2224c4d889adfb325c3860ecb",
            "0aae3e421b2c4559ba58732ea61e7bf1",
            "e257485d1932446da91e398f72fca449",
            "a60e1f9945fc4d3fa9ab820cb00f477e",
            "1a0d988d67374ecd863b3f3f86a5c792",
            "d0e0b669576c496a9200bb4c348225d0",
            "006cb2c4e89c4689912c42c49f9cd52c",
            "84fc733166c4453789c39b529312e084",
            "dbc9d0122afd4278b79770f79ac9028b",
            "b474c6ae6e8f4e9e9098ecdbb140ffc3",
            "d4203dea981b4543bba56e931f92521f",
            "6033c028ddab420da33f3b56b36818c4",
            "bc560198602a40cab8a56e076f5a532d",
            "a1298734b4094214bc79ed142cb5a172"
          ]
        },
        "id": "fAGBNEL1-cJD",
        "outputId": "bc7184c2-5739-487d-cfde-426ca3cf2e4e"
      },
      "outputs": [
        {
          "data": {
            "application/vnd.jupyter.widget-view+json": {
              "model_id": "7f29f3c9637d414392bfca4e5db8eb43",
              "version_major": 2,
              "version_minor": 0
            },
            "text/plain": [
              "VBox(children=(HTML(value='<center> <img\\nsrc=https://huggingface.co/front/assets/huggingface_logo-noborder.sv…"
            ]
          },
          "metadata": {},
          "output_type": "display_data"
        }
      ],
      "source": [
        "import huggingface_hub\n",
        "huggingface_hub.login()"
      ]
    },
    {
      "cell_type": "markdown",
      "metadata": {
        "id": "QdjWif4CVXR6"
      },
      "source": [
        "### Training"
      ]
    },
    {
      "cell_type": "code",
      "execution_count": 33,
      "metadata": {
        "colab": {
          "base_uri": "https://localhost:8080/",
          "height": 252
        },
        "id": "AQ_HCYruWIHU",
        "outputId": "6ef4ec0c-20bd-40d4-ab5a-1c0156607afd"
      },
      "outputs": [
        {
          "ename": "RuntimeError",
          "evalue": "Failed to import transformers.trainer because of the following error (look up to see its traceback):\nFailed to import transformers.integrations.integration_utils because of the following error (look up to see its traceback):\ncannot import name 'is_torch_mps_available' from 'transformers.utils' (/data/ephemeral/home/JH/Vsearch/lib/python3.10/site-packages/transformers/utils/__init__.py)",
          "output_type": "error",
          "traceback": [
            "\u001b[0;31m---------------------------------------------------------------------------\u001b[0m",
            "\u001b[0;31mImportError\u001b[0m                               Traceback (most recent call last)",
            "File \u001b[0;32m~/JH/Vsearch/lib/python3.10/site-packages/transformers/utils/import_utils.py:1093\u001b[0m, in \u001b[0;36m_get_module\u001b[0;34m(self, module_name)\u001b[0m\n\u001b[1;32m   1089\u001b[0m \u001b[38;5;66;03m# docstyle-ignore\u001b[39;00m\n\u001b[1;32m   1090\u001b[0m G2P_EN_IMPORT_ERROR \u001b[38;5;241m=\u001b[39m \u001b[38;5;124m\"\"\"\u001b[39m\n\u001b[1;32m   1091\u001b[0m \u001b[38;5;132;01m{0}\u001b[39;00m\u001b[38;5;124m requires the g2p-en library but it was not found in your environment. You can install it with pip:\u001b[39m\n\u001b[1;32m   1092\u001b[0m \u001b[38;5;124m`pip install g2p-en`. Please note that you may need to restart your runtime after installation.\u001b[39m\n\u001b[0;32m-> 1093\u001b[0m \u001b[38;5;124m\"\"\"\u001b[39m\n\u001b[1;32m   1095\u001b[0m \u001b[38;5;66;03m# docstyle-ignore\u001b[39;00m\n",
            "File \u001b[0;32m/opt/conda/lib/python3.10/importlib/__init__.py:126\u001b[0m, in \u001b[0;36mimport_module\u001b[0;34m(name, package)\u001b[0m\n\u001b[1;32m    125\u001b[0m         level \u001b[38;5;241m+\u001b[39m\u001b[38;5;241m=\u001b[39m \u001b[38;5;241m1\u001b[39m\n\u001b[0;32m--> 126\u001b[0m \u001b[38;5;28;01mreturn\u001b[39;00m \u001b[43m_bootstrap\u001b[49m\u001b[38;5;241;43m.\u001b[39;49m\u001b[43m_gcd_import\u001b[49m\u001b[43m(\u001b[49m\u001b[43mname\u001b[49m\u001b[43m[\u001b[49m\u001b[43mlevel\u001b[49m\u001b[43m:\u001b[49m\u001b[43m]\u001b[49m\u001b[43m,\u001b[49m\u001b[43m \u001b[49m\u001b[43mpackage\u001b[49m\u001b[43m,\u001b[49m\u001b[43m \u001b[49m\u001b[43mlevel\u001b[49m\u001b[43m)\u001b[49m\n",
            "File \u001b[0;32m<frozen importlib._bootstrap>:1050\u001b[0m, in \u001b[0;36m_gcd_import\u001b[0;34m(name, package, level)\u001b[0m\n",
            "File \u001b[0;32m<frozen importlib._bootstrap>:1027\u001b[0m, in \u001b[0;36m_find_and_load\u001b[0;34m(name, import_)\u001b[0m\n",
            "File \u001b[0;32m<frozen importlib._bootstrap>:1006\u001b[0m, in \u001b[0;36m_find_and_load_unlocked\u001b[0;34m(name, import_)\u001b[0m\n",
            "File \u001b[0;32m<frozen importlib._bootstrap>:688\u001b[0m, in \u001b[0;36m_load_unlocked\u001b[0;34m(spec)\u001b[0m\n",
            "File \u001b[0;32m<frozen importlib._bootstrap_external>:883\u001b[0m, in \u001b[0;36mexec_module\u001b[0;34m(self, module)\u001b[0m\n",
            "File \u001b[0;32m<frozen importlib._bootstrap>:241\u001b[0m, in \u001b[0;36m_call_with_frames_removed\u001b[0;34m(f, *args, **kwds)\u001b[0m\n",
            "File \u001b[0;32m~/JH/Vsearch/lib/python3.10/site-packages/transformers/integrations/integration_utils.py:71\u001b[0m\n\u001b[1;32m     69\u001b[0m             _has_neptune \u001b[38;5;241m=\u001b[39m \u001b[38;5;28;01mFalse\u001b[39;00m\n\u001b[0;32m---> 71\u001b[0m \u001b[38;5;28;01mfrom\u001b[39;00m \u001b[38;5;21;01m.\u001b[39;00m\u001b[38;5;21;01m.\u001b[39;00m\u001b[38;5;21;01mtrainer_callback\u001b[39;00m \u001b[38;5;28;01mimport\u001b[39;00m ProgressCallback, TrainerCallback  \u001b[38;5;66;03m# noqa: E402\u001b[39;00m\n\u001b[1;32m     72\u001b[0m \u001b[38;5;28;01mfrom\u001b[39;00m \u001b[38;5;21;01m.\u001b[39;00m\u001b[38;5;21;01m.\u001b[39;00m\u001b[38;5;21;01mtrainer_utils\u001b[39;00m \u001b[38;5;28;01mimport\u001b[39;00m PREFIX_CHECKPOINT_DIR, BestRun, IntervalStrategy  \u001b[38;5;66;03m# noqa: E402\u001b[39;00m\n",
            "File \u001b[0;32m~/JH/Vsearch/lib/python3.10/site-packages/transformers/trainer_callback.py:26\u001b[0m\n\u001b[1;32m     24\u001b[0m \u001b[38;5;28;01mfrom\u001b[39;00m \u001b[38;5;21;01mtqdm\u001b[39;00m\u001b[38;5;21;01m.\u001b[39;00m\u001b[38;5;21;01mauto\u001b[39;00m \u001b[38;5;28;01mimport\u001b[39;00m tqdm\n\u001b[0;32m---> 26\u001b[0m \u001b[38;5;28;01mfrom\u001b[39;00m \u001b[38;5;21;01m.\u001b[39;00m\u001b[38;5;21;01mtrainer_utils\u001b[39;00m \u001b[38;5;28;01mimport\u001b[39;00m IntervalStrategy, has_length\n\u001b[1;32m     27\u001b[0m \u001b[38;5;28;01mfrom\u001b[39;00m \u001b[38;5;21;01m.\u001b[39;00m\u001b[38;5;21;01mtraining_args\u001b[39;00m \u001b[38;5;28;01mimport\u001b[39;00m TrainingArguments\n",
            "File \u001b[0;32m~/JH/Vsearch/lib/python3.10/site-packages/transformers/trainer_utils.py:32\u001b[0m\n\u001b[1;32m     30\u001b[0m \u001b[38;5;28;01mimport\u001b[39;00m \u001b[38;5;21;01mnumpy\u001b[39;00m \u001b[38;5;28;01mas\u001b[39;00m \u001b[38;5;21;01mnp\u001b[39;00m\n\u001b[0;32m---> 32\u001b[0m \u001b[38;5;28;01mfrom\u001b[39;00m \u001b[38;5;21;01m.\u001b[39;00m\u001b[38;5;21;01mutils\u001b[39;00m \u001b[38;5;28;01mimport\u001b[39;00m (\n\u001b[1;32m     33\u001b[0m     ExplicitEnum,\n\u001b[1;32m     34\u001b[0m     is_psutil_available,\n\u001b[1;32m     35\u001b[0m     is_tf_available,\n\u001b[1;32m     36\u001b[0m     is_torch_available,\n\u001b[1;32m     37\u001b[0m     is_torch_cuda_available,\n\u001b[1;32m     38\u001b[0m     is_torch_mps_available,\n\u001b[1;32m     39\u001b[0m     is_torch_npu_available,\n\u001b[1;32m     40\u001b[0m     is_torch_tpu_available,\n\u001b[1;32m     41\u001b[0m     is_torch_xpu_available,\n\u001b[1;32m     42\u001b[0m     requires_backends,\n\u001b[1;32m     43\u001b[0m )\n\u001b[1;32m     46\u001b[0m \u001b[38;5;28;01mif\u001b[39;00m is_torch_available():\n",
            "\u001b[0;31mImportError\u001b[0m: cannot import name 'is_torch_mps_available' from 'transformers.utils' (/data/ephemeral/home/JH/Vsearch/lib/python3.10/site-packages/transformers/utils/__init__.py)",
            "\nThe above exception was the direct cause of the following exception:\n",
            "\u001b[0;31mRuntimeError\u001b[0m                              Traceback (most recent call last)",
            "File \u001b[0;32m~/JH/Vsearch/lib/python3.10/site-packages/transformers/utils/import_utils.py:1093\u001b[0m, in \u001b[0;36m_get_module\u001b[0;34m(self, module_name)\u001b[0m\n\u001b[1;32m   1089\u001b[0m \u001b[38;5;66;03m# docstyle-ignore\u001b[39;00m\n\u001b[1;32m   1090\u001b[0m G2P_EN_IMPORT_ERROR \u001b[38;5;241m=\u001b[39m \u001b[38;5;124m\"\"\"\u001b[39m\n\u001b[1;32m   1091\u001b[0m \u001b[38;5;132;01m{0}\u001b[39;00m\u001b[38;5;124m requires the g2p-en library but it was not found in your environment. You can install it with pip:\u001b[39m\n\u001b[1;32m   1092\u001b[0m \u001b[38;5;124m`pip install g2p-en`. Please note that you may need to restart your runtime after installation.\u001b[39m\n\u001b[0;32m-> 1093\u001b[0m \u001b[38;5;124m\"\"\"\u001b[39m\n\u001b[1;32m   1095\u001b[0m \u001b[38;5;66;03m# docstyle-ignore\u001b[39;00m\n",
            "File \u001b[0;32m/opt/conda/lib/python3.10/importlib/__init__.py:126\u001b[0m, in \u001b[0;36mimport_module\u001b[0;34m(name, package)\u001b[0m\n\u001b[1;32m    125\u001b[0m         level \u001b[38;5;241m+\u001b[39m\u001b[38;5;241m=\u001b[39m \u001b[38;5;241m1\u001b[39m\n\u001b[0;32m--> 126\u001b[0m \u001b[38;5;28;01mreturn\u001b[39;00m \u001b[43m_bootstrap\u001b[49m\u001b[38;5;241;43m.\u001b[39;49m\u001b[43m_gcd_import\u001b[49m\u001b[43m(\u001b[49m\u001b[43mname\u001b[49m\u001b[43m[\u001b[49m\u001b[43mlevel\u001b[49m\u001b[43m:\u001b[49m\u001b[43m]\u001b[49m\u001b[43m,\u001b[49m\u001b[43m \u001b[49m\u001b[43mpackage\u001b[49m\u001b[43m,\u001b[49m\u001b[43m \u001b[49m\u001b[43mlevel\u001b[49m\u001b[43m)\u001b[49m\n",
            "File \u001b[0;32m<frozen importlib._bootstrap>:1050\u001b[0m, in \u001b[0;36m_gcd_import\u001b[0;34m(name, package, level)\u001b[0m\n",
            "File \u001b[0;32m<frozen importlib._bootstrap>:1027\u001b[0m, in \u001b[0;36m_find_and_load\u001b[0;34m(name, import_)\u001b[0m\n",
            "File \u001b[0;32m<frozen importlib._bootstrap>:1006\u001b[0m, in \u001b[0;36m_find_and_load_unlocked\u001b[0;34m(name, import_)\u001b[0m\n",
            "File \u001b[0;32m<frozen importlib._bootstrap>:688\u001b[0m, in \u001b[0;36m_load_unlocked\u001b[0;34m(spec)\u001b[0m\n",
            "File \u001b[0;32m<frozen importlib._bootstrap_external>:883\u001b[0m, in \u001b[0;36mexec_module\u001b[0;34m(self, module)\u001b[0m\n",
            "File \u001b[0;32m<frozen importlib._bootstrap>:241\u001b[0m, in \u001b[0;36m_call_with_frames_removed\u001b[0;34m(f, *args, **kwds)\u001b[0m\n",
            "File \u001b[0;32m~/JH/Vsearch/lib/python3.10/site-packages/transformers/trainer.py:41\u001b[0m\n\u001b[1;32m     39\u001b[0m \u001b[38;5;66;03m# Integrations must be imported before ML frameworks:\u001b[39;00m\n\u001b[1;32m     40\u001b[0m \u001b[38;5;66;03m# isort: off\u001b[39;00m\n\u001b[0;32m---> 41\u001b[0m \u001b[38;5;28;01mfrom\u001b[39;00m \u001b[38;5;21;01m.\u001b[39;00m\u001b[38;5;21;01mintegrations\u001b[39;00m \u001b[38;5;28;01mimport\u001b[39;00m (\n\u001b[1;32m     42\u001b[0m     get_reporting_integration_callbacks,\n\u001b[1;32m     43\u001b[0m     hp_params,\n\u001b[1;32m     44\u001b[0m )\n\u001b[1;32m     46\u001b[0m \u001b[38;5;66;03m# isort: on\u001b[39;00m\n",
            "File \u001b[0;32m<frozen importlib._bootstrap>:1075\u001b[0m, in \u001b[0;36m_handle_fromlist\u001b[0;34m(module, fromlist, import_, recursive)\u001b[0m\n",
            "File \u001b[0;32m~/JH/Vsearch/lib/python3.10/site-packages/transformers/utils/import_utils.py:1083\u001b[0m, in \u001b[0;36m__getattr__\u001b[0;34m(self, name)\u001b[0m\n\u001b[1;32m      0\u001b[0m <Error retrieving source code with stack_data see ipython/ipython#13598>\n",
            "File \u001b[0;32m~/JH/Vsearch/lib/python3.10/site-packages/transformers/utils/import_utils.py:1095\u001b[0m, in \u001b[0;36m_get_module\u001b[0;34m(self, module_name)\u001b[0m\n\u001b[1;32m   1090\u001b[0m G2P_EN_IMPORT_ERROR = \"\"\"\n\u001b[1;32m   1091\u001b[0m {0} requires the g2p-en library but it was not found in your environment. You can install it with pip:\n\u001b[1;32m   1092\u001b[0m `pip install g2p-en`. Please note that you may need to restart your runtime after installation.\n\u001b[1;32m   1093\u001b[0m \"\"\"\n\u001b[0;32m-> 1095\u001b[0m # docstyle-ignore\n\u001b[1;32m   1096\u001b[0m PYTORCH_QUANTIZATION_IMPORT_ERROR = \"\"\"\n\u001b[1;32m   1097\u001b[0m {0} requires the pytorch-quantization library but it was not found in your environment. You can install it with pip:\n\u001b[1;32m   1098\u001b[0m `pip install pytorch-quantization --extra-index-url https://pypi.ngc.nvidia.com`\n\u001b[1;32m   1099\u001b[0m Please note that you may need to restart your runtime after installation.\n\u001b[1;32m   1100\u001b[0m \"\"\"\n",
            "\u001b[0;31mRuntimeError\u001b[0m: Failed to import transformers.integrations.integration_utils because of the following error (look up to see its traceback):\ncannot import name 'is_torch_mps_available' from 'transformers.utils' (/data/ephemeral/home/JH/Vsearch/lib/python3.10/site-packages/transformers/utils/__init__.py)",
            "\nThe above exception was the direct cause of the following exception:\n",
            "\u001b[0;31mRuntimeError\u001b[0m                              Traceback (most recent call last)",
            "Cell \u001b[0;32mIn[33], line 1\u001b[0m\n\u001b[0;32m----> 1\u001b[0m \u001b[38;5;28;01mfrom\u001b[39;00m \u001b[38;5;21;01mtransformers\u001b[39;00m \u001b[38;5;28;01mimport\u001b[39;00m Trainer, TrainingArguments, DataCollatorForLanguageModeling\n\u001b[1;32m      3\u001b[0m \u001b[38;5;66;03m# 토크나이저에 패딩 토큰 설정 (eos_token 사용)\u001b[39;00m\n\u001b[1;32m      4\u001b[0m tokenizer\u001b[38;5;241m.\u001b[39mpad_token \u001b[38;5;241m=\u001b[39m tokenizer\u001b[38;5;241m.\u001b[39meos_token\n",
            "File \u001b[0;32m<frozen importlib._bootstrap>:1075\u001b[0m, in \u001b[0;36m_handle_fromlist\u001b[0;34m(module, fromlist, import_, recursive)\u001b[0m\n",
            "File \u001b[0;32m~/JH/Vsearch/lib/python3.10/site-packages/transformers/utils/import_utils.py:1083\u001b[0m, in \u001b[0;36m__getattr__\u001b[0;34m(self, name)\u001b[0m\n\u001b[1;32m      0\u001b[0m <Error retrieving source code with stack_data see ipython/ipython#13598>\n",
            "File \u001b[0;32m~/JH/Vsearch/lib/python3.10/site-packages/transformers/utils/import_utils.py:1095\u001b[0m, in \u001b[0;36m_get_module\u001b[0;34m(self, module_name)\u001b[0m\n\u001b[1;32m   1089\u001b[0m # docstyle-ignore\n\u001b[1;32m   1090\u001b[0m G2P_EN_IMPORT_ERROR = \"\"\"\n\u001b[1;32m   1091\u001b[0m {0} requires the g2p-en library but it was not found in your environment. You can install it with pip:\n\u001b[1;32m   1092\u001b[0m `pip install g2p-en`. Please note that you may need to restart your runtime after installation.\n\u001b[1;32m   1093\u001b[0m \"\"\"\n\u001b[0;32m-> 1095\u001b[0m # docstyle-ignore\n\u001b[1;32m   1096\u001b[0m PYTORCH_QUANTIZATION_IMPORT_ERROR = \"\"\"\n\u001b[1;32m   1097\u001b[0m {0} requires the pytorch-quantization library but it was not found in your environment. You can install it with pip:\n\u001b[1;32m   1098\u001b[0m `pip install pytorch-quantization --extra-index-url https://pypi.ngc.nvidia.com`\n\u001b[1;32m   1099\u001b[0m Please note that you may need to restart your runtime after installation.\n\u001b[1;32m   1100\u001b[0m \"\"\"\n\u001b[1;32m   1102\u001b[0m # docstyle-ignore\n",
            "\u001b[0;31mRuntimeError\u001b[0m: Failed to import transformers.trainer because of the following error (look up to see its traceback):\nFailed to import transformers.integrations.integration_utils because of the following error (look up to see its traceback):\ncannot import name 'is_torch_mps_available' from 'transformers.utils' (/data/ephemeral/home/JH/Vsearch/lib/python3.10/site-packages/transformers/utils/__init__.py)"
          ]
        }
      ],
      "source": [
        "from transformers import Trainer, TrainingArguments, DataCollatorForLanguageModeling\n",
        "\n",
        "# 토크나이저에 패딩 토큰 설정 (eos_token 사용)\n",
        "tokenizer.pad_token = tokenizer.eos_token\n",
        "\n",
        "# 모델 토크나이저의 변경 사항에 따라 모델의 토큰 임베딩 크기 조정\n",
        "model.resize_token_embeddings(len(tokenizer))\n",
        "\n",
        "\n",
        "# 트레이닝을 위한 설정\n",
        "training_args = TrainingArguments(\n",
        "    num_train_epochs=5, ## Epochs\n",
        "    per_device_train_batch_size=128,\n",
        "    per_device_eval_batch_size=128,\n",
        "    gradient_accumulation_steps=4,\n",
        "    warmup_steps=100,\n",
        "    max_steps=500,\n",
        "    learning_rate=2e-4,\n",
        "    fp16=True,\n",
        "    logging_steps=1,\n",
        "    output_dir='outputs',\n",
        "    evaluation_strategy='epoch',  # 에포크마다 평가\n",
        "    logging_dir='./logs',  # 로그 디렉토리 설정\n",
        "    report_to=\"tensorboard\",  # TensorBoard에 로그 보고\n",
        ")\n",
        "\n",
        "\n",
        "# 데이터 콜레이터 설정 (마스크된 언어 모델링이 아닌 경우 mlm=False 사용)\n",
        "data_collator = DataCollatorForLanguageModeling(\n",
        "    tokenizer=tokenizer,\n",
        "    mlm=False,\n",
        ")\n",
        "\n",
        "# trainer = WeightedLosstrainer(\n",
        "\n",
        "# )\n",
        "# 트레이너 설정 및 트레이닝 시작\n",
        "trainer = Trainer(\n",
        "    model=model,\n",
        "    args=training_args,\n",
        "    # train_dataset=data['train'],\n",
        "    train_dataset=dataset_dict['train'],\n",
        "    # train_dataset=dataset['train'],\n",
        "    # eval_dataset=dataset['validation'],  # 평가 데이터셋으로 dataset['valid'] 사용\n",
        "    data_collator=data_collator,\n",
        "    push_to_hub=True,\n",
        ")\n",
        "\n",
        "model.config.use_cache = False  # silence the warnings. Please re-enable for inference!\n",
        "trainer.train()"
      ]
    },
    {
      "cell_type": "markdown",
      "metadata": {
        "id": "Duak7T_B3VpJ"
      },
      "source": [
        "## Share adapters on the 🤗 Hub"
      ]
    },
    {
      "cell_type": "code",
      "execution_count": null,
      "metadata": {
        "colab": {
          "base_uri": "https://localhost:8080/",
          "height": 127
        },
        "id": "VxB6UV5XAvvP",
        "outputId": "9053d7d1-372a-4836-ba28-0c559c9ba301"
      },
      "outputs": [
        {
          "name": "stderr",
          "output_type": "stream",
          "text": [
            "/usr/local/lib/python3.10/dist-packages/transformers/utils/hub.py:835: FutureWarning: The `use_auth_token` argument is deprecated and will be removed in v5 of Transformers. Please use `token` instead.\n",
            "  warnings.warn(\n"
          ]
        },
        {
          "data": {
            "application/vnd.google.colaboratory.intrinsic+json": {
              "type": "string"
            },
            "text/plain": [
              "CommitInfo(commit_url='https://huggingface.co/Soran/gpt2_lora_query2query/commit/9e76547caeedea355f87dc2001da8b0581c6c578', commit_message='query2query training', commit_description='', oid='9e76547caeedea355f87dc2001da8b0581c6c578', pr_url=None, pr_revision=None, pr_num=None)"
            ]
          },
          "execution_count": 102,
          "metadata": {},
          "output_type": "execute_result"
        }
      ],
      "source": [
        "model.push_to_hub(\"Soran/gpt2_lora_query2query_custom\",\n",
        "                  use_auth_token=True,\n",
        "                  commit_message=\"query2query training\",\n",
        "                  private=True)"
      ]
    },
    {
      "cell_type": "markdown",
      "metadata": {
        "id": "S65GcxNGA9kz"
      },
      "source": [
        "## Load adapters from the Hub"
      ]
    },
    {
      "cell_type": "code",
      "execution_count": null,
      "metadata": {
        "colab": {
          "base_uri": "https://localhost:8080/",
          "height": 234
        },
        "id": "gkPOh1O_xusZ",
        "outputId": "b37287d3-ffb0-4df2-b4ca-992577b5f7c6"
      },
      "outputs": [
        {
          "ename": "TypeError",
          "evalue": "'LoraConfig' object does not support item assignment",
          "output_type": "error",
          "traceback": [
            "\u001b[0;31m---------------------------------------------------------------------------\u001b[0m",
            "\u001b[0;31mTypeError\u001b[0m                                 Traceback (most recent call last)",
            "\u001b[0;32m<ipython-input-105-5efd4659ba1a>\u001b[0m in \u001b[0;36m<cell line: 7>\u001b[0;34m()\u001b[0m\n\u001b[1;32m      5\u001b[0m \u001b[0mpeft_model_id\u001b[0m \u001b[0;34m=\u001b[0m \u001b[0;34m\"Soran/gpt2_lora_query2query\"\u001b[0m\u001b[0;34m\u001b[0m\u001b[0;34m\u001b[0m\u001b[0m\n\u001b[1;32m      6\u001b[0m \u001b[0mconfig\u001b[0m \u001b[0;34m=\u001b[0m \u001b[0mPeftConfig\u001b[0m\u001b[0;34m.\u001b[0m\u001b[0mfrom_pretrained\u001b[0m\u001b[0;34m(\u001b[0m\u001b[0mpeft_model_id\u001b[0m\u001b[0;34m)\u001b[0m\u001b[0;34m\u001b[0m\u001b[0;34m\u001b[0m\u001b[0m\n\u001b[0;32m----> 7\u001b[0;31m \u001b[0mconfig\u001b[0m\u001b[0;34m[\u001b[0m\u001b[0;34m'base_model_name_or_path'\u001b[0m\u001b[0;34m]\u001b[0m \u001b[0;34m=\u001b[0m \u001b[0;34m'distilbert/distilgpt2'\u001b[0m\u001b[0;34m\u001b[0m\u001b[0;34m\u001b[0m\u001b[0m\n\u001b[0m\u001b[1;32m      8\u001b[0m \u001b[0mconfig\u001b[0m\u001b[0;34m\u001b[0m\u001b[0;34m\u001b[0m\u001b[0m\n",
            "\u001b[0;31mTypeError\u001b[0m: 'LoraConfig' object does not support item assignment"
          ]
        }
      ],
      "source": [
        "import torch\n",
        "from peft import PeftModel, PeftConfig\n",
        "from transformers import AutoModelForCausalLM, AutoTokenizer\n",
        "\n",
        "peft_model_id = \"Soran/gpt2_lora_query2query\"\n",
        "config = PeftConfig.from_pretrained(peft_model_id)\n",
        "\n",
        "model = AutoModelForCausalLM.from_pretrained(config.base_model_name_or_path, return_dict=True, load_in_8bit=True, device_map='auto')\n",
        "tokenizer = AutoTokenizer.from_pretrained(config.base_model_name_or_path)\n",
        "\n",
        "# Load the Lora model\n",
        "model = PeftModel.from_pretrained(model, peft_model_id)"
      ]
    },
    {
      "cell_type": "code",
      "execution_count": null,
      "metadata": {
        "colab": {
          "base_uri": "https://localhost:8080/",
          "height": 87,
          "referenced_widgets": [
            "817e11886a984271b83b5b74102d1ee9",
            "6408528eb83e49acb8535baed23dd2e3",
            "cd88d96131b8446d829222cdf30eef93",
            "23a804ea05e441f5a3e79bde42cf5310",
            "c26dd3d57ce049acb07252fe3af0e75a",
            "ba087aaf28f14a6880caaedac890ce82",
            "e32aa95128344409bb0d0d9b30a124ea",
            "3372fb68de5244c4a53c1584a890d550",
            "2065d9bc79a74495bb3d8dad097dafc3",
            "403397428ed141328ee7bb3ffce9811f",
            "fa021704f41a450296dbfe43d7d81cbe"
          ]
        },
        "id": "hsD1VKqeA62Z",
        "outputId": "80d74f1b-58fb-4aaa-8f47-c2bf10d7eb37"
      },
      "outputs": [
        {
          "name": "stderr",
          "output_type": "stream",
          "text": [
            "The `load_in_4bit` and `load_in_8bit` arguments are deprecated and will be removed in the future versions. Please, pass a `BitsAndBytesConfig` object in `quantization_config` argument instead.\n"
          ]
        },
        {
          "data": {
            "application/vnd.jupyter.widget-view+json": {
              "model_id": "817e11886a984271b83b5b74102d1ee9",
              "version_major": 2,
              "version_minor": 0
            },
            "text/plain": [
              "adapter_model.safetensors:   0%|          | 0.00/1.18M [00:00<?, ?B/s]"
            ]
          },
          "metadata": {},
          "output_type": "display_data"
        }
      ],
      "source": [
        "origin_name = 'distilbert/distilgpt2'\n",
        "model = AutoModelForCausalLM.from_pretrained(origin_name, return_dict=True, load_in_8bit=True, device_map='auto')\n",
        "tokenizer = AutoTokenizer.from_pretrained(origin_name)\n",
        "\n",
        "# Load the Lora model\n",
        "model = PeftModel.from_pretrained(model, peft_model_id)"
      ]
    },
    {
      "cell_type": "markdown",
      "metadata": {
        "id": "MHYljmTjj5wX"
      },
      "source": [
        "## Inference"
      ]
    },
    {
      "cell_type": "code",
      "execution_count": null,
      "metadata": {
        "colab": {
          "base_uri": "https://localhost:8080/"
        },
        "id": "MDqJWba-tpnv",
        "outputId": "9fae5286-4bee-4445-b250-356beea3d870"
      },
      "outputs": [
        {
          "name": "stderr",
          "output_type": "stream",
          "text": [
            "Setting `pad_token_id` to `eos_token_id`:50256 for open-end generation.\n"
          ]
        },
        {
          "name": "stdout",
          "output_type": "stream",
          "text": [
            "\n",
            "\n",
            " “Training models with PEFT and LoRa is cool” ->: ㅠㅠㅠㅠㅠㅠ�\n"
          ]
        }
      ],
      "source": [
        "batch = tokenizer(\"“Training models with PEFT and LoRa is cool” ->: \", return_tensors='pt')\n",
        "\n",
        "with torch.cuda.amp.autocast():\n",
        "  output_tokens = model.generate(**batch, max_new_tokens=20)\n",
        "\n",
        "print('\\n\\n', tokenizer.decode(output_tokens[0], skip_special_tokens=True))"
      ]
    },
    {
      "cell_type": "code",
      "execution_count": null,
      "metadata": {
        "colab": {
          "base_uri": "https://localhost:8080/"
        },
        "id": "oew3Ns2Lyw8z",
        "outputId": "5616d847-4f23-4421-b58a-2e49bdc40cce"
      },
      "outputs": [
        {
          "name": "stderr",
          "output_type": "stream",
          "text": [
            "Setting `pad_token_id` to `eos_token_id`:50256 for open-end generation.\n"
          ]
        },
        {
          "name": "stdout",
          "output_type": "stream",
          "text": [
            "\n",
            "\n",
            " what is your favorite game?\n",
            "\n",
            "\n",
            "\n",
            "\n",
            "\n",
            "\n",
            "\n"
          ]
        }
      ],
      "source": [
        "texts = ['hi my name is','what is your']\n",
        "batch = tokenizer(texts[1], return_tensors='pt')\n",
        "\n",
        "with torch.cuda.amp.autocast():\n",
        "  output_tokens = model.generate(**batch, max_new_tokens=10)\n",
        "\n",
        "print('\\n\\n', tokenizer.decode(output_tokens[0], skip_special_tokens=False))"
      ]
    },
    {
      "cell_type": "code",
      "execution_count": null,
      "metadata": {
        "colab": {
          "base_uri": "https://localhost:8080/",
          "height": 36
        },
        "id": "YrOJPVYkuJxA",
        "outputId": "1f3bea30-a082-4b4c-96f2-1379952fd43f"
      },
      "outputs": [
        {
          "data": {
            "application/vnd.google.colaboratory.intrinsic+json": {
              "type": "string"
            },
            "text/plain": [
              "'i like cute little girls.\\n\\n\\n\\n\\n\\n\\n'"
            ]
          },
          "execution_count": 125,
          "metadata": {},
          "output_type": "execute_result"
        }
      ],
      "source": [
        "tokenizer.decode(output_tokens[0],skip_special_tokens=False)"
      ]
    },
    {
      "cell_type": "code",
      "execution_count": null,
      "metadata": {
        "colab": {
          "base_uri": "https://localhost:8080/"
        },
        "id": "FUY3BO6loxmU",
        "outputId": "e7d58015-eda7-421a-9df8-9c457a7e1de5"
      },
      "outputs": [
        {
          "name": "stdout",
          "output_type": "stream",
          "text": [
            "Data type of the first parameter: torch.float16\n"
          ]
        }
      ],
      "source": [
        "# 모델의 첫 번째 파라미터의 데이터 타입 확인\n",
        "first_param_dtype = next(model.parameters()).dtype\n",
        "print(f\"Data type of the first parameter: {first_param_dtype}\")\n"
      ]
    },
    {
      "cell_type": "code",
      "execution_count": null,
      "metadata": {
        "colab": {
          "base_uri": "https://localhost:8080/"
        },
        "id": "MnegAyMpGT03",
        "outputId": "70c36f60-7085-4cee-cfe5-23efa788a531"
      },
      "outputs": [
        {
          "name": "stdout",
          "output_type": "stream",
          "text": [
            "DatasetDict({\n",
            "    test: Dataset({\n",
            "        features: ['prediction'],\n",
            "        num_rows: 1000\n",
            "    })\n",
            "})\n"
          ]
        },
        {
          "data": {
            "text/plain": [
              "{'prediction': 'what is a mole, ground moles',\n",
              " 'input_ids': [10919, 318, 257, 9411, 11, 2323, 285, 4316],\n",
              " 'attention_mask': [1, 1, 1, 1, 1, 1, 1, 1]}"
            ]
          },
          "execution_count": 131,
          "metadata": {},
          "output_type": "execute_result"
        }
      ],
      "source": [
        "from datasets import load_dataset\n",
        "data_path = 'neeva/query2query_evaluation'\n",
        "\n",
        "dataset = load_dataset(data_path)\n",
        "type(dataset),type(dataset['test'])\n",
        "dataset['test'][0]\n",
        "\n",
        "def merge_columns(example):\n",
        "    example[\"prediction\"] = example[\"query1 \"] + \", \" + str(example[\"query2\"])\n",
        "    return example\n",
        "\n",
        "dataset['test'] = dataset['test'].map(merge_columns)\n",
        "dataset['test'] = dataset['test'].remove_columns('query1 ')\n",
        "dataset['test'] = dataset['test'].remove_columns('query2')\n",
        "dataset['test'] = dataset['test'].remove_columns('rating')\n",
        "print(dataset)\n",
        "\n",
        "dataset = dataset.map(lambda samples: tokenizer(samples['prediction']), batched=True)\n",
        "dataset['test'][0]"
      ]
    },
    {
      "cell_type": "code",
      "execution_count": null,
      "metadata": {
        "colab": {
          "base_uri": "https://localhost:8080/",
          "height": 539,
          "referenced_widgets": [
            "a74c0214bed243a1982a114535328754",
            "21dd94574a1c432c8ae98b22bf1d4886",
            "d79c820c296644deaf1ab30e3b1778c9",
            "bd5e8be62b5d43cb9a36baadcb72a2ca",
            "17fbe47ae0a74fd29dc704b28638516f",
            "200d62e7733f4a55a08dfa9f88e8620f",
            "1bb5f3fefd4a40ce983bfa3cf540c6cc",
            "8ebafb22295a45d881fb63bf285cc88f",
            "d48a39f86ad44977a2efa43acbe0f90e",
            "98ee7e7328ef4a9cb01dd4e767730e75",
            "1cbcb1507ca0417c9079664198d498fb",
            "49f1e730b1294e91b5468a1cf4ee0093",
            "9468a1ce65d148fca6001cbf0d464cb2",
            "9372540e0d0e4e00acffa5940e805241",
            "84e9da7d758a49e3975f57325aad0267",
            "1037c4c9e64e404793d6b8432189d956",
            "e10cfebea190482e97e1aa2ea0ad857d",
            "9e447c3c7d7a4ac48412f6943e962930",
            "84c1a05a9deb40f8aa555e3f0bee0106",
            "f73a33507cb5482082cba869f84a809f",
            "6d041889583f4039a6ae160d0c099cc6",
            "a2755dab7f2a4f959cd9534fb8948509",
            "10aae5c1510e478d8b011eda98d31b54",
            "6970e9ce49e84c5184aa2bcd53697ace",
            "de7c2780fa554d869a4cf4fc7e5ec229",
            "68aff684d44e4f238e2cc92cabff44a0",
            "353aa6a15c254bf1b6292dde52b544ec",
            "2b7de0275e4942c4a2b21558de922ab0",
            "a0f99d6b234c4ab587475e374984e466",
            "df8a5b44c27f48d2a9875d8d25794537",
            "add6562fd98d4b6bbd412c211003bb92",
            "b5db646dff0d4c08b0b1e6f39b17a430",
            "1a35161fbe1a4d668c5a7452b9ae7f7f",
            "65443eedd7ce410dbfd079b23710a8f2",
            "3f01c5873e314a5f9f80c6b5efd19d9d",
            "f6cb2eb2b5b24c50bf27dcf68762a89b",
            "8e47ca9b538e483bbb6dacbfddfa516d",
            "f3b43a79245045a7a63f02094da3700a",
            "4cc61f8b51b147ca9fa79d2d9b4fe4ff",
            "a94ef4489778415d9540deb67c6ade08",
            "5e6e93a84cc0470d887a2acef0693069",
            "026618858bf24dad9e21f62e5f9d7681",
            "aec5a5de99904cb7920dc0ee56c2f23b",
            "6b13c986fd884768b9928a7b8d7e845f"
          ]
        },
        "id": "OSjEYNsYswWL",
        "outputId": "acea1150-6bbf-4a6c-aea2-32a6bb3d7895"
      },
      "outputs": [
        {
          "name": "stdout",
          "output_type": "stream",
          "text": [
            "DatasetDict({\n",
            "    train: Dataset({\n",
            "        features: ['query_id', 'query', 'pseudo_doc'],\n",
            "        num_rows: 502939\n",
            "    })\n",
            "    validation: Dataset({\n",
            "        features: ['query_id', 'query', 'pseudo_doc'],\n",
            "        num_rows: 6980\n",
            "    })\n",
            "    test: Dataset({\n",
            "        features: ['query_id', 'query', 'pseudo_doc'],\n",
            "        num_rows: 6837\n",
            "    })\n",
            "    trec_dl2019: Dataset({\n",
            "        features: ['query_id', 'query', 'pseudo_doc'],\n",
            "        num_rows: 43\n",
            "    })\n",
            "    trec_dl2020: Dataset({\n",
            "        features: ['query_id', 'query', 'pseudo_doc'],\n",
            "        num_rows: 54\n",
            "    })\n",
            "})\n"
          ]
        },
        {
          "data": {
            "application/vnd.jupyter.widget-view+json": {
              "model_id": "a74c0214bed243a1982a114535328754",
              "version_major": 2,
              "version_minor": 0
            },
            "text/plain": [
              "Map:   0%|          | 0/502939 [00:00<?, ? examples/s]"
            ]
          },
          "metadata": {},
          "output_type": "display_data"
        },
        {
          "data": {
            "application/vnd.jupyter.widget-view+json": {
              "model_id": "49f1e730b1294e91b5468a1cf4ee0093",
              "version_major": 2,
              "version_minor": 0
            },
            "text/plain": [
              "Map:   0%|          | 0/502939 [00:00<?, ? examples/s]"
            ]
          },
          "metadata": {},
          "output_type": "display_data"
        },
        {
          "data": {
            "application/vnd.jupyter.widget-view+json": {
              "model_id": "10aae5c1510e478d8b011eda98d31b54",
              "version_major": 2,
              "version_minor": 0
            },
            "text/plain": [
              "Map:   0%|          | 0/6837 [00:00<?, ? examples/s]"
            ]
          },
          "metadata": {},
          "output_type": "display_data"
        },
        {
          "data": {
            "application/vnd.jupyter.widget-view+json": {
              "model_id": "65443eedd7ce410dbfd079b23710a8f2",
              "version_major": 2,
              "version_minor": 0
            },
            "text/plain": [
              "Map:   0%|          | 0/6837 [00:00<?, ? examples/s]"
            ]
          },
          "metadata": {},
          "output_type": "display_data"
        }
      ],
      "source": [
        "from datasets import load_dataset\n",
        "data_path = 'intfloat/query2doc_msmarco'\n",
        "\n",
        "dataset = load_dataset(data_path)\n",
        "print(dataset)\n",
        "\n",
        "def merge_columns(example):\n",
        "    example[\"prediction\"] = 'question : '+ example[\"query\"] + \" answer : \" + str(example[\"pseudo_doc\"])\n",
        "    return example\n",
        "\n",
        "def remove_col(dataset,name):\n",
        "  dataset[name] = dataset[name].map(merge_columns)\n",
        "  dataset[name] = dataset[name].remove_columns('query')\n",
        "  dataset[name] = dataset[name].remove_columns('pseudo_doc')\n",
        "  dataset[name] = dataset[name].remove_columns('query_id')\n",
        "\n",
        "  dataset[name] = dataset[name].map(lambda samples: tokenizer(samples['prediction']), batched=True)\n",
        "\n",
        "remove_col(dataset,'train')\n",
        "remove_col(dataset,'validation')\n",
        "remove_col(dataset,'test')\n",
        "dataset"
      ]
    }
  ],
  "metadata": {
    "accelerator": "GPU",
    "colab": {
      "gpuClass": "premium",
      "machine_shape": "hm",
      "provenance": []
    },
    "gpuClass": "premium",
    "kernelspec": {
      "display_name": "Python 3 (ipykernel)",
      "language": "python",
      "name": "python3"
    },
    "language_info": {
      "codemirror_mode": {
        "name": "ipython",
        "version": 3
      },
      "file_extension": ".py",
      "mimetype": "text/x-python",
      "name": "python",
      "nbconvert_exporter": "python",
      "pygments_lexer": "ipython3",
      "version": "3.10.13"
    },
    "widgets": {
      "application/vnd.jupyter.widget-state+json": {
        "005c2156ee544ef88d37a583ea6b4596": {
          "model_module": "@jupyter-widgets/base",
          "model_module_version": "1.2.0",
          "model_name": "LayoutModel",
          "state": {
            "_model_module": "@jupyter-widgets/base",
            "_model_module_version": "1.2.0",
            "_model_name": "LayoutModel",
            "_view_count": null,
            "_view_module": "@jupyter-widgets/base",
            "_view_module_version": "1.2.0",
            "_view_name": "LayoutView",
            "align_content": null,
            "align_items": null,
            "align_self": null,
            "border": null,
            "bottom": null,
            "display": null,
            "flex": null,
            "flex_flow": null,
            "grid_area": null,
            "grid_auto_columns": null,
            "grid_auto_flow": null,
            "grid_auto_rows": null,
            "grid_column": null,
            "grid_gap": null,
            "grid_row": null,
            "grid_template_areas": null,
            "grid_template_columns": null,
            "grid_template_rows": null,
            "height": null,
            "justify_content": null,
            "justify_items": null,
            "left": null,
            "margin": null,
            "max_height": null,
            "max_width": null,
            "min_height": null,
            "min_width": null,
            "object_fit": null,
            "object_position": null,
            "order": null,
            "overflow": null,
            "overflow_x": null,
            "overflow_y": null,
            "padding": null,
            "right": null,
            "top": null,
            "visibility": null,
            "width": null
          }
        },
        "006cb2c4e89c4689912c42c49f9cd52c": {
          "model_module": "@jupyter-widgets/controls",
          "model_module_version": "1.5.0",
          "model_name": "LabelModel",
          "state": {
            "_dom_classes": [],
            "_model_module": "@jupyter-widgets/controls",
            "_model_module_version": "1.5.0",
            "_model_name": "LabelModel",
            "_view_count": null,
            "_view_module": "@jupyter-widgets/controls",
            "_view_module_version": "1.5.0",
            "_view_name": "LabelView",
            "description": "",
            "description_tooltip": null,
            "layout": "IPY_MODEL_d4203dea981b4543bba56e931f92521f",
            "placeholder": "​",
            "style": "IPY_MODEL_6033c028ddab420da33f3b56b36818c4",
            "value": "Your token has been saved to /root/.cache/huggingface/token"
          }
        },
        "026618858bf24dad9e21f62e5f9d7681": {
          "model_module": "@jupyter-widgets/controls",
          "model_module_version": "1.5.0",
          "model_name": "ProgressStyleModel",
          "state": {
            "_model_module": "@jupyter-widgets/controls",
            "_model_module_version": "1.5.0",
            "_model_name": "ProgressStyleModel",
            "_view_count": null,
            "_view_module": "@jupyter-widgets/base",
            "_view_module_version": "1.2.0",
            "_view_name": "StyleView",
            "bar_color": null,
            "description_width": ""
          }
        },
        "074bb004ff744de8a9f1f307826f14af": {
          "model_module": "@jupyter-widgets/controls",
          "model_module_version": "1.5.0",
          "model_name": "ButtonModel",
          "state": {
            "_dom_classes": [],
            "_model_module": "@jupyter-widgets/controls",
            "_model_module_version": "1.5.0",
            "_model_name": "ButtonModel",
            "_view_count": null,
            "_view_module": "@jupyter-widgets/controls",
            "_view_module_version": "1.5.0",
            "_view_name": "ButtonView",
            "button_style": "",
            "description": "Login",
            "disabled": false,
            "icon": "",
            "layout": "IPY_MODEL_1147762d61dd41e481670f22a214570a",
            "style": "IPY_MODEL_d96a443cacbd4c5bb11ac3a904f56c74",
            "tooltip": ""
          }
        },
        "0aae3e421b2c4559ba58732ea61e7bf1": {
          "model_module": "@jupyter-widgets/controls",
          "model_module_version": "1.5.0",
          "model_name": "DescriptionStyleModel",
          "state": {
            "_model_module": "@jupyter-widgets/controls",
            "_model_module_version": "1.5.0",
            "_model_name": "DescriptionStyleModel",
            "_view_count": null,
            "_view_module": "@jupyter-widgets/base",
            "_view_module_version": "1.2.0",
            "_view_name": "StyleView",
            "description_width": ""
          }
        },
        "0bfdb4a3906e4cf48c9299417c04a55b": {
          "model_module": "@jupyter-widgets/base",
          "model_module_version": "1.2.0",
          "model_name": "LayoutModel",
          "state": {
            "_model_module": "@jupyter-widgets/base",
            "_model_module_version": "1.2.0",
            "_model_name": "LayoutModel",
            "_view_count": null,
            "_view_module": "@jupyter-widgets/base",
            "_view_module_version": "1.2.0",
            "_view_name": "LayoutView",
            "align_content": null,
            "align_items": null,
            "align_self": null,
            "border": null,
            "bottom": null,
            "display": null,
            "flex": null,
            "flex_flow": null,
            "grid_area": null,
            "grid_auto_columns": null,
            "grid_auto_flow": null,
            "grid_auto_rows": null,
            "grid_column": null,
            "grid_gap": null,
            "grid_row": null,
            "grid_template_areas": null,
            "grid_template_columns": null,
            "grid_template_rows": null,
            "height": null,
            "justify_content": null,
            "justify_items": null,
            "left": null,
            "margin": null,
            "max_height": null,
            "max_width": null,
            "min_height": null,
            "min_width": null,
            "object_fit": null,
            "object_position": null,
            "order": null,
            "overflow": null,
            "overflow_x": null,
            "overflow_y": null,
            "padding": null,
            "right": null,
            "top": null,
            "visibility": null,
            "width": null
          }
        },
        "0d78e38394e34f0a845d02dba19e5091": {
          "model_module": "@jupyter-widgets/controls",
          "model_module_version": "1.5.0",
          "model_name": "FloatProgressModel",
          "state": {
            "_dom_classes": [],
            "_model_module": "@jupyter-widgets/controls",
            "_model_module_version": "1.5.0",
            "_model_name": "FloatProgressModel",
            "_view_count": null,
            "_view_module": "@jupyter-widgets/controls",
            "_view_module_version": "1.5.0",
            "_view_name": "ProgressView",
            "bar_style": "success",
            "description": "",
            "description_tooltip": null,
            "layout": "IPY_MODEL_98cf5b09d36c4c5797e2812e685c5420",
            "max": 2508,
            "min": 0,
            "orientation": "horizontal",
            "style": "IPY_MODEL_980f7e5e82bf46a5b7fcbe570e4b04ca",
            "value": 2508
          }
        },
        "1037c4c9e64e404793d6b8432189d956": {
          "model_module": "@jupyter-widgets/base",
          "model_module_version": "1.2.0",
          "model_name": "LayoutModel",
          "state": {
            "_model_module": "@jupyter-widgets/base",
            "_model_module_version": "1.2.0",
            "_model_name": "LayoutModel",
            "_view_count": null,
            "_view_module": "@jupyter-widgets/base",
            "_view_module_version": "1.2.0",
            "_view_name": "LayoutView",
            "align_content": null,
            "align_items": null,
            "align_self": null,
            "border": null,
            "bottom": null,
            "display": null,
            "flex": null,
            "flex_flow": null,
            "grid_area": null,
            "grid_auto_columns": null,
            "grid_auto_flow": null,
            "grid_auto_rows": null,
            "grid_column": null,
            "grid_gap": null,
            "grid_row": null,
            "grid_template_areas": null,
            "grid_template_columns": null,
            "grid_template_rows": null,
            "height": null,
            "justify_content": null,
            "justify_items": null,
            "left": null,
            "margin": null,
            "max_height": null,
            "max_width": null,
            "min_height": null,
            "min_width": null,
            "object_fit": null,
            "object_position": null,
            "order": null,
            "overflow": null,
            "overflow_x": null,
            "overflow_y": null,
            "padding": null,
            "right": null,
            "top": null,
            "visibility": null,
            "width": null
          }
        },
        "10aae5c1510e478d8b011eda98d31b54": {
          "model_module": "@jupyter-widgets/controls",
          "model_module_version": "1.5.0",
          "model_name": "HBoxModel",
          "state": {
            "_dom_classes": [],
            "_model_module": "@jupyter-widgets/controls",
            "_model_module_version": "1.5.0",
            "_model_name": "HBoxModel",
            "_view_count": null,
            "_view_module": "@jupyter-widgets/controls",
            "_view_module_version": "1.5.0",
            "_view_name": "HBoxView",
            "box_style": "",
            "children": [
              "IPY_MODEL_6970e9ce49e84c5184aa2bcd53697ace",
              "IPY_MODEL_de7c2780fa554d869a4cf4fc7e5ec229",
              "IPY_MODEL_68aff684d44e4f238e2cc92cabff44a0"
            ],
            "layout": "IPY_MODEL_353aa6a15c254bf1b6292dde52b544ec"
          }
        },
        "1147762d61dd41e481670f22a214570a": {
          "model_module": "@jupyter-widgets/base",
          "model_module_version": "1.2.0",
          "model_name": "LayoutModel",
          "state": {
            "_model_module": "@jupyter-widgets/base",
            "_model_module_version": "1.2.0",
            "_model_name": "LayoutModel",
            "_view_count": null,
            "_view_module": "@jupyter-widgets/base",
            "_view_module_version": "1.2.0",
            "_view_name": "LayoutView",
            "align_content": null,
            "align_items": null,
            "align_self": null,
            "border": null,
            "bottom": null,
            "display": null,
            "flex": null,
            "flex_flow": null,
            "grid_area": null,
            "grid_auto_columns": null,
            "grid_auto_flow": null,
            "grid_auto_rows": null,
            "grid_column": null,
            "grid_gap": null,
            "grid_row": null,
            "grid_template_areas": null,
            "grid_template_columns": null,
            "grid_template_rows": null,
            "height": null,
            "justify_content": null,
            "justify_items": null,
            "left": null,
            "margin": null,
            "max_height": null,
            "max_width": null,
            "min_height": null,
            "min_width": null,
            "object_fit": null,
            "object_position": null,
            "order": null,
            "overflow": null,
            "overflow_x": null,
            "overflow_y": null,
            "padding": null,
            "right": null,
            "top": null,
            "visibility": null,
            "width": null
          }
        },
        "17fbe47ae0a74fd29dc704b28638516f": {
          "model_module": "@jupyter-widgets/base",
          "model_module_version": "1.2.0",
          "model_name": "LayoutModel",
          "state": {
            "_model_module": "@jupyter-widgets/base",
            "_model_module_version": "1.2.0",
            "_model_name": "LayoutModel",
            "_view_count": null,
            "_view_module": "@jupyter-widgets/base",
            "_view_module_version": "1.2.0",
            "_view_name": "LayoutView",
            "align_content": null,
            "align_items": null,
            "align_self": null,
            "border": null,
            "bottom": null,
            "display": null,
            "flex": null,
            "flex_flow": null,
            "grid_area": null,
            "grid_auto_columns": null,
            "grid_auto_flow": null,
            "grid_auto_rows": null,
            "grid_column": null,
            "grid_gap": null,
            "grid_row": null,
            "grid_template_areas": null,
            "grid_template_columns": null,
            "grid_template_rows": null,
            "height": null,
            "justify_content": null,
            "justify_items": null,
            "left": null,
            "margin": null,
            "max_height": null,
            "max_width": null,
            "min_height": null,
            "min_width": null,
            "object_fit": null,
            "object_position": null,
            "order": null,
            "overflow": null,
            "overflow_x": null,
            "overflow_y": null,
            "padding": null,
            "right": null,
            "top": null,
            "visibility": null,
            "width": null
          }
        },
        "1a0d988d67374ecd863b3f3f86a5c792": {
          "model_module": "@jupyter-widgets/controls",
          "model_module_version": "1.5.0",
          "model_name": "DescriptionStyleModel",
          "state": {
            "_model_module": "@jupyter-widgets/controls",
            "_model_module_version": "1.5.0",
            "_model_name": "DescriptionStyleModel",
            "_view_count": null,
            "_view_module": "@jupyter-widgets/base",
            "_view_module_version": "1.2.0",
            "_view_name": "StyleView",
            "description_width": ""
          }
        },
        "1a35161fbe1a4d668c5a7452b9ae7f7f": {
          "model_module": "@jupyter-widgets/controls",
          "model_module_version": "1.5.0",
          "model_name": "DescriptionStyleModel",
          "state": {
            "_model_module": "@jupyter-widgets/controls",
            "_model_module_version": "1.5.0",
            "_model_name": "DescriptionStyleModel",
            "_view_count": null,
            "_view_module": "@jupyter-widgets/base",
            "_view_module_version": "1.2.0",
            "_view_name": "StyleView",
            "description_width": ""
          }
        },
        "1bb5f3fefd4a40ce983bfa3cf540c6cc": {
          "model_module": "@jupyter-widgets/controls",
          "model_module_version": "1.5.0",
          "model_name": "DescriptionStyleModel",
          "state": {
            "_model_module": "@jupyter-widgets/controls",
            "_model_module_version": "1.5.0",
            "_model_name": "DescriptionStyleModel",
            "_view_count": null,
            "_view_module": "@jupyter-widgets/base",
            "_view_module_version": "1.2.0",
            "_view_name": "StyleView",
            "description_width": ""
          }
        },
        "1cbcb1507ca0417c9079664198d498fb": {
          "model_module": "@jupyter-widgets/controls",
          "model_module_version": "1.5.0",
          "model_name": "DescriptionStyleModel",
          "state": {
            "_model_module": "@jupyter-widgets/controls",
            "_model_module_version": "1.5.0",
            "_model_name": "DescriptionStyleModel",
            "_view_count": null,
            "_view_module": "@jupyter-widgets/base",
            "_view_module_version": "1.2.0",
            "_view_name": "StyleView",
            "description_width": ""
          }
        },
        "200d62e7733f4a55a08dfa9f88e8620f": {
          "model_module": "@jupyter-widgets/base",
          "model_module_version": "1.2.0",
          "model_name": "LayoutModel",
          "state": {
            "_model_module": "@jupyter-widgets/base",
            "_model_module_version": "1.2.0",
            "_model_name": "LayoutModel",
            "_view_count": null,
            "_view_module": "@jupyter-widgets/base",
            "_view_module_version": "1.2.0",
            "_view_name": "LayoutView",
            "align_content": null,
            "align_items": null,
            "align_self": null,
            "border": null,
            "bottom": null,
            "display": null,
            "flex": null,
            "flex_flow": null,
            "grid_area": null,
            "grid_auto_columns": null,
            "grid_auto_flow": null,
            "grid_auto_rows": null,
            "grid_column": null,
            "grid_gap": null,
            "grid_row": null,
            "grid_template_areas": null,
            "grid_template_columns": null,
            "grid_template_rows": null,
            "height": null,
            "justify_content": null,
            "justify_items": null,
            "left": null,
            "margin": null,
            "max_height": null,
            "max_width": null,
            "min_height": null,
            "min_width": null,
            "object_fit": null,
            "object_position": null,
            "order": null,
            "overflow": null,
            "overflow_x": null,
            "overflow_y": null,
            "padding": null,
            "right": null,
            "top": null,
            "visibility": null,
            "width": null
          }
        },
        "2065d9bc79a74495bb3d8dad097dafc3": {
          "model_module": "@jupyter-widgets/controls",
          "model_module_version": "1.5.0",
          "model_name": "ProgressStyleModel",
          "state": {
            "_model_module": "@jupyter-widgets/controls",
            "_model_module_version": "1.5.0",
            "_model_name": "ProgressStyleModel",
            "_view_count": null,
            "_view_module": "@jupyter-widgets/base",
            "_view_module_version": "1.2.0",
            "_view_name": "StyleView",
            "bar_color": null,
            "description_width": ""
          }
        },
        "21dd94574a1c432c8ae98b22bf1d4886": {
          "model_module": "@jupyter-widgets/controls",
          "model_module_version": "1.5.0",
          "model_name": "HTMLModel",
          "state": {
            "_dom_classes": [],
            "_model_module": "@jupyter-widgets/controls",
            "_model_module_version": "1.5.0",
            "_model_name": "HTMLModel",
            "_view_count": null,
            "_view_module": "@jupyter-widgets/controls",
            "_view_module_version": "1.5.0",
            "_view_name": "HTMLView",
            "description": "",
            "description_tooltip": null,
            "layout": "IPY_MODEL_200d62e7733f4a55a08dfa9f88e8620f",
            "placeholder": "​",
            "style": "IPY_MODEL_1bb5f3fefd4a40ce983bfa3cf540c6cc",
            "value": "Map: 100%"
          }
        },
        "23a804ea05e441f5a3e79bde42cf5310": {
          "model_module": "@jupyter-widgets/controls",
          "model_module_version": "1.5.0",
          "model_name": "HTMLModel",
          "state": {
            "_dom_classes": [],
            "_model_module": "@jupyter-widgets/controls",
            "_model_module_version": "1.5.0",
            "_model_name": "HTMLModel",
            "_view_count": null,
            "_view_module": "@jupyter-widgets/controls",
            "_view_module_version": "1.5.0",
            "_view_name": "HTMLView",
            "description": "",
            "description_tooltip": null,
            "layout": "IPY_MODEL_403397428ed141328ee7bb3ffce9811f",
            "placeholder": "​",
            "style": "IPY_MODEL_fa021704f41a450296dbfe43d7d81cbe",
            "value": " 1.18M/1.18M [00:00&lt;00:00, 2.65MB/s]"
          }
        },
        "24d13bda0bb548a5be2c9f1aed3cfbe1": {
          "model_module": "@jupyter-widgets/base",
          "model_module_version": "1.2.0",
          "model_name": "LayoutModel",
          "state": {
            "_model_module": "@jupyter-widgets/base",
            "_model_module_version": "1.2.0",
            "_model_name": "LayoutModel",
            "_view_count": null,
            "_view_module": "@jupyter-widgets/base",
            "_view_module_version": "1.2.0",
            "_view_name": "LayoutView",
            "align_content": null,
            "align_items": null,
            "align_self": null,
            "border": null,
            "bottom": null,
            "display": null,
            "flex": null,
            "flex_flow": null,
            "grid_area": null,
            "grid_auto_columns": null,
            "grid_auto_flow": null,
            "grid_auto_rows": null,
            "grid_column": null,
            "grid_gap": null,
            "grid_row": null,
            "grid_template_areas": null,
            "grid_template_columns": null,
            "grid_template_rows": null,
            "height": null,
            "justify_content": null,
            "justify_items": null,
            "left": null,
            "margin": null,
            "max_height": null,
            "max_width": null,
            "min_height": null,
            "min_width": null,
            "object_fit": null,
            "object_position": null,
            "order": null,
            "overflow": null,
            "overflow_x": null,
            "overflow_y": null,
            "padding": null,
            "right": null,
            "top": null,
            "visibility": null,
            "width": null
          }
        },
        "2b7de0275e4942c4a2b21558de922ab0": {
          "model_module": "@jupyter-widgets/base",
          "model_module_version": "1.2.0",
          "model_name": "LayoutModel",
          "state": {
            "_model_module": "@jupyter-widgets/base",
            "_model_module_version": "1.2.0",
            "_model_name": "LayoutModel",
            "_view_count": null,
            "_view_module": "@jupyter-widgets/base",
            "_view_module_version": "1.2.0",
            "_view_name": "LayoutView",
            "align_content": null,
            "align_items": null,
            "align_self": null,
            "border": null,
            "bottom": null,
            "display": null,
            "flex": null,
            "flex_flow": null,
            "grid_area": null,
            "grid_auto_columns": null,
            "grid_auto_flow": null,
            "grid_auto_rows": null,
            "grid_column": null,
            "grid_gap": null,
            "grid_row": null,
            "grid_template_areas": null,
            "grid_template_columns": null,
            "grid_template_rows": null,
            "height": null,
            "justify_content": null,
            "justify_items": null,
            "left": null,
            "margin": null,
            "max_height": null,
            "max_width": null,
            "min_height": null,
            "min_width": null,
            "object_fit": null,
            "object_position": null,
            "order": null,
            "overflow": null,
            "overflow_x": null,
            "overflow_y": null,
            "padding": null,
            "right": null,
            "top": null,
            "visibility": null,
            "width": null
          }
        },
        "3372fb68de5244c4a53c1584a890d550": {
          "model_module": "@jupyter-widgets/base",
          "model_module_version": "1.2.0",
          "model_name": "LayoutModel",
          "state": {
            "_model_module": "@jupyter-widgets/base",
            "_model_module_version": "1.2.0",
            "_model_name": "LayoutModel",
            "_view_count": null,
            "_view_module": "@jupyter-widgets/base",
            "_view_module_version": "1.2.0",
            "_view_name": "LayoutView",
            "align_content": null,
            "align_items": null,
            "align_self": null,
            "border": null,
            "bottom": null,
            "display": null,
            "flex": null,
            "flex_flow": null,
            "grid_area": null,
            "grid_auto_columns": null,
            "grid_auto_flow": null,
            "grid_auto_rows": null,
            "grid_column": null,
            "grid_gap": null,
            "grid_row": null,
            "grid_template_areas": null,
            "grid_template_columns": null,
            "grid_template_rows": null,
            "height": null,
            "justify_content": null,
            "justify_items": null,
            "left": null,
            "margin": null,
            "max_height": null,
            "max_width": null,
            "min_height": null,
            "min_width": null,
            "object_fit": null,
            "object_position": null,
            "order": null,
            "overflow": null,
            "overflow_x": null,
            "overflow_y": null,
            "padding": null,
            "right": null,
            "top": null,
            "visibility": null,
            "width": null
          }
        },
        "353aa6a15c254bf1b6292dde52b544ec": {
          "model_module": "@jupyter-widgets/base",
          "model_module_version": "1.2.0",
          "model_name": "LayoutModel",
          "state": {
            "_model_module": "@jupyter-widgets/base",
            "_model_module_version": "1.2.0",
            "_model_name": "LayoutModel",
            "_view_count": null,
            "_view_module": "@jupyter-widgets/base",
            "_view_module_version": "1.2.0",
            "_view_name": "LayoutView",
            "align_content": null,
            "align_items": null,
            "align_self": null,
            "border": null,
            "bottom": null,
            "display": null,
            "flex": null,
            "flex_flow": null,
            "grid_area": null,
            "grid_auto_columns": null,
            "grid_auto_flow": null,
            "grid_auto_rows": null,
            "grid_column": null,
            "grid_gap": null,
            "grid_row": null,
            "grid_template_areas": null,
            "grid_template_columns": null,
            "grid_template_rows": null,
            "height": null,
            "justify_content": null,
            "justify_items": null,
            "left": null,
            "margin": null,
            "max_height": null,
            "max_width": null,
            "min_height": null,
            "min_width": null,
            "object_fit": null,
            "object_position": null,
            "order": null,
            "overflow": null,
            "overflow_x": null,
            "overflow_y": null,
            "padding": null,
            "right": null,
            "top": null,
            "visibility": null,
            "width": null
          }
        },
        "3ed6b907ab94430ba017a722f911321d": {
          "model_module": "@jupyter-widgets/base",
          "model_module_version": "1.2.0",
          "model_name": "LayoutModel",
          "state": {
            "_model_module": "@jupyter-widgets/base",
            "_model_module_version": "1.2.0",
            "_model_name": "LayoutModel",
            "_view_count": null,
            "_view_module": "@jupyter-widgets/base",
            "_view_module_version": "1.2.0",
            "_view_name": "LayoutView",
            "align_content": null,
            "align_items": null,
            "align_self": null,
            "border": null,
            "bottom": null,
            "display": null,
            "flex": null,
            "flex_flow": null,
            "grid_area": null,
            "grid_auto_columns": null,
            "grid_auto_flow": null,
            "grid_auto_rows": null,
            "grid_column": null,
            "grid_gap": null,
            "grid_row": null,
            "grid_template_areas": null,
            "grid_template_columns": null,
            "grid_template_rows": null,
            "height": null,
            "justify_content": null,
            "justify_items": null,
            "left": null,
            "margin": null,
            "max_height": null,
            "max_width": null,
            "min_height": null,
            "min_width": null,
            "object_fit": null,
            "object_position": null,
            "order": null,
            "overflow": null,
            "overflow_x": null,
            "overflow_y": null,
            "padding": null,
            "right": null,
            "top": null,
            "visibility": null,
            "width": null
          }
        },
        "3efc1b852f274509ba67eade96614a34": {
          "model_module": "@jupyter-widgets/controls",
          "model_module_version": "1.5.0",
          "model_name": "DescriptionStyleModel",
          "state": {
            "_model_module": "@jupyter-widgets/controls",
            "_model_module_version": "1.5.0",
            "_model_name": "DescriptionStyleModel",
            "_view_count": null,
            "_view_module": "@jupyter-widgets/base",
            "_view_module_version": "1.2.0",
            "_view_name": "StyleView",
            "description_width": ""
          }
        },
        "3f01c5873e314a5f9f80c6b5efd19d9d": {
          "model_module": "@jupyter-widgets/controls",
          "model_module_version": "1.5.0",
          "model_name": "HTMLModel",
          "state": {
            "_dom_classes": [],
            "_model_module": "@jupyter-widgets/controls",
            "_model_module_version": "1.5.0",
            "_model_name": "HTMLModel",
            "_view_count": null,
            "_view_module": "@jupyter-widgets/controls",
            "_view_module_version": "1.5.0",
            "_view_name": "HTMLView",
            "description": "",
            "description_tooltip": null,
            "layout": "IPY_MODEL_4cc61f8b51b147ca9fa79d2d9b4fe4ff",
            "placeholder": "​",
            "style": "IPY_MODEL_a94ef4489778415d9540deb67c6ade08",
            "value": "Map: 100%"
          }
        },
        "403397428ed141328ee7bb3ffce9811f": {
          "model_module": "@jupyter-widgets/base",
          "model_module_version": "1.2.0",
          "model_name": "LayoutModel",
          "state": {
            "_model_module": "@jupyter-widgets/base",
            "_model_module_version": "1.2.0",
            "_model_name": "LayoutModel",
            "_view_count": null,
            "_view_module": "@jupyter-widgets/base",
            "_view_module_version": "1.2.0",
            "_view_name": "LayoutView",
            "align_content": null,
            "align_items": null,
            "align_self": null,
            "border": null,
            "bottom": null,
            "display": null,
            "flex": null,
            "flex_flow": null,
            "grid_area": null,
            "grid_auto_columns": null,
            "grid_auto_flow": null,
            "grid_auto_rows": null,
            "grid_column": null,
            "grid_gap": null,
            "grid_row": null,
            "grid_template_areas": null,
            "grid_template_columns": null,
            "grid_template_rows": null,
            "height": null,
            "justify_content": null,
            "justify_items": null,
            "left": null,
            "margin": null,
            "max_height": null,
            "max_width": null,
            "min_height": null,
            "min_width": null,
            "object_fit": null,
            "object_position": null,
            "order": null,
            "overflow": null,
            "overflow_x": null,
            "overflow_y": null,
            "padding": null,
            "right": null,
            "top": null,
            "visibility": null,
            "width": null
          }
        },
        "49f1e730b1294e91b5468a1cf4ee0093": {
          "model_module": "@jupyter-widgets/controls",
          "model_module_version": "1.5.0",
          "model_name": "HBoxModel",
          "state": {
            "_dom_classes": [],
            "_model_module": "@jupyter-widgets/controls",
            "_model_module_version": "1.5.0",
            "_model_name": "HBoxModel",
            "_view_count": null,
            "_view_module": "@jupyter-widgets/controls",
            "_view_module_version": "1.5.0",
            "_view_name": "HBoxView",
            "box_style": "",
            "children": [
              "IPY_MODEL_9468a1ce65d148fca6001cbf0d464cb2",
              "IPY_MODEL_9372540e0d0e4e00acffa5940e805241",
              "IPY_MODEL_84e9da7d758a49e3975f57325aad0267"
            ],
            "layout": "IPY_MODEL_1037c4c9e64e404793d6b8432189d956"
          }
        },
        "4a7fa548cac34b99b54b79ea022e9d4f": {
          "model_module": "@jupyter-widgets/controls",
          "model_module_version": "1.5.0",
          "model_name": "HTMLModel",
          "state": {
            "_dom_classes": [],
            "_model_module": "@jupyter-widgets/controls",
            "_model_module_version": "1.5.0",
            "_model_name": "HTMLModel",
            "_view_count": null,
            "_view_module": "@jupyter-widgets/controls",
            "_view_module_version": "1.5.0",
            "_view_name": "HTMLView",
            "description": "",
            "description_tooltip": null,
            "layout": "IPY_MODEL_5e51fbf22d484bcf87540d11b28c8c26",
            "placeholder": "​",
            "style": "IPY_MODEL_ae1f95b7d7cb42b4aa09b3f84713e44d",
            "value": "<center> <img\nsrc=https://huggingface.co/front/assets/huggingface_logo-noborder.svg\nalt='Hugging Face'> <br> Copy a token from <a\nhref=\"https://huggingface.co/settings/tokens\" target=\"_blank\">your Hugging Face\ntokens page</a> and paste it below. <br> Immediately click login after copying\nyour token or it might be stored in plain text in this notebook file. </center>"
          }
        },
        "4bb097f2224c4d889adfb325c3860ecb": {
          "model_module": "@jupyter-widgets/base",
          "model_module_version": "1.2.0",
          "model_name": "LayoutModel",
          "state": {
            "_model_module": "@jupyter-widgets/base",
            "_model_module_version": "1.2.0",
            "_model_name": "LayoutModel",
            "_view_count": null,
            "_view_module": "@jupyter-widgets/base",
            "_view_module_version": "1.2.0",
            "_view_name": "LayoutView",
            "align_content": null,
            "align_items": null,
            "align_self": null,
            "border": null,
            "bottom": null,
            "display": null,
            "flex": null,
            "flex_flow": null,
            "grid_area": null,
            "grid_auto_columns": null,
            "grid_auto_flow": null,
            "grid_auto_rows": null,
            "grid_column": null,
            "grid_gap": null,
            "grid_row": null,
            "grid_template_areas": null,
            "grid_template_columns": null,
            "grid_template_rows": null,
            "height": null,
            "justify_content": null,
            "justify_items": null,
            "left": null,
            "margin": null,
            "max_height": null,
            "max_width": null,
            "min_height": null,
            "min_width": null,
            "object_fit": null,
            "object_position": null,
            "order": null,
            "overflow": null,
            "overflow_x": null,
            "overflow_y": null,
            "padding": null,
            "right": null,
            "top": null,
            "visibility": null,
            "width": null
          }
        },
        "4cc61f8b51b147ca9fa79d2d9b4fe4ff": {
          "model_module": "@jupyter-widgets/base",
          "model_module_version": "1.2.0",
          "model_name": "LayoutModel",
          "state": {
            "_model_module": "@jupyter-widgets/base",
            "_model_module_version": "1.2.0",
            "_model_name": "LayoutModel",
            "_view_count": null,
            "_view_module": "@jupyter-widgets/base",
            "_view_module_version": "1.2.0",
            "_view_name": "LayoutView",
            "align_content": null,
            "align_items": null,
            "align_self": null,
            "border": null,
            "bottom": null,
            "display": null,
            "flex": null,
            "flex_flow": null,
            "grid_area": null,
            "grid_auto_columns": null,
            "grid_auto_flow": null,
            "grid_auto_rows": null,
            "grid_column": null,
            "grid_gap": null,
            "grid_row": null,
            "grid_template_areas": null,
            "grid_template_columns": null,
            "grid_template_rows": null,
            "height": null,
            "justify_content": null,
            "justify_items": null,
            "left": null,
            "margin": null,
            "max_height": null,
            "max_width": null,
            "min_height": null,
            "min_width": null,
            "object_fit": null,
            "object_position": null,
            "order": null,
            "overflow": null,
            "overflow_x": null,
            "overflow_y": null,
            "padding": null,
            "right": null,
            "top": null,
            "visibility": null,
            "width": null
          }
        },
        "4eb5e473c23d4cf9a21d68ee7845eb08": {
          "model_module": "@jupyter-widgets/controls",
          "model_module_version": "1.5.0",
          "model_name": "HBoxModel",
          "state": {
            "_dom_classes": [],
            "_model_module": "@jupyter-widgets/controls",
            "_model_module_version": "1.5.0",
            "_model_name": "HBoxModel",
            "_view_count": null,
            "_view_module": "@jupyter-widgets/controls",
            "_view_module_version": "1.5.0",
            "_view_name": "HBoxView",
            "box_style": "",
            "children": [
              "IPY_MODEL_79f858c4572f4f549e8dc4f86c04ebb4",
              "IPY_MODEL_0d78e38394e34f0a845d02dba19e5091",
              "IPY_MODEL_8eef3df347d8426c8704dd8c15fabc0c"
            ],
            "layout": "IPY_MODEL_24d13bda0bb548a5be2c9f1aed3cfbe1"
          }
        },
        "5c1d53110f4640a9827c67dce7a4fc94": {
          "model_module": "@jupyter-widgets/controls",
          "model_module_version": "1.5.0",
          "model_name": "CheckboxModel",
          "state": {
            "_dom_classes": [],
            "_model_module": "@jupyter-widgets/controls",
            "_model_module_version": "1.5.0",
            "_model_name": "CheckboxModel",
            "_view_count": null,
            "_view_module": "@jupyter-widgets/controls",
            "_view_module_version": "1.5.0",
            "_view_name": "CheckboxView",
            "description": "Add token as git credential?",
            "description_tooltip": null,
            "disabled": false,
            "indent": true,
            "layout": "IPY_MODEL_d59346ca8ae240cbafadadf680b5280d",
            "style": "IPY_MODEL_608ddc3588f34e97a09ee233b7782127",
            "value": false
          }
        },
        "5e51fbf22d484bcf87540d11b28c8c26": {
          "model_module": "@jupyter-widgets/base",
          "model_module_version": "1.2.0",
          "model_name": "LayoutModel",
          "state": {
            "_model_module": "@jupyter-widgets/base",
            "_model_module_version": "1.2.0",
            "_model_name": "LayoutModel",
            "_view_count": null,
            "_view_module": "@jupyter-widgets/base",
            "_view_module_version": "1.2.0",
            "_view_name": "LayoutView",
            "align_content": null,
            "align_items": null,
            "align_self": null,
            "border": null,
            "bottom": null,
            "display": null,
            "flex": null,
            "flex_flow": null,
            "grid_area": null,
            "grid_auto_columns": null,
            "grid_auto_flow": null,
            "grid_auto_rows": null,
            "grid_column": null,
            "grid_gap": null,
            "grid_row": null,
            "grid_template_areas": null,
            "grid_template_columns": null,
            "grid_template_rows": null,
            "height": null,
            "justify_content": null,
            "justify_items": null,
            "left": null,
            "margin": null,
            "max_height": null,
            "max_width": null,
            "min_height": null,
            "min_width": null,
            "object_fit": null,
            "object_position": null,
            "order": null,
            "overflow": null,
            "overflow_x": null,
            "overflow_y": null,
            "padding": null,
            "right": null,
            "top": null,
            "visibility": null,
            "width": null
          }
        },
        "5e6e93a84cc0470d887a2acef0693069": {
          "model_module": "@jupyter-widgets/base",
          "model_module_version": "1.2.0",
          "model_name": "LayoutModel",
          "state": {
            "_model_module": "@jupyter-widgets/base",
            "_model_module_version": "1.2.0",
            "_model_name": "LayoutModel",
            "_view_count": null,
            "_view_module": "@jupyter-widgets/base",
            "_view_module_version": "1.2.0",
            "_view_name": "LayoutView",
            "align_content": null,
            "align_items": null,
            "align_self": null,
            "border": null,
            "bottom": null,
            "display": null,
            "flex": null,
            "flex_flow": null,
            "grid_area": null,
            "grid_auto_columns": null,
            "grid_auto_flow": null,
            "grid_auto_rows": null,
            "grid_column": null,
            "grid_gap": null,
            "grid_row": null,
            "grid_template_areas": null,
            "grid_template_columns": null,
            "grid_template_rows": null,
            "height": null,
            "justify_content": null,
            "justify_items": null,
            "left": null,
            "margin": null,
            "max_height": null,
            "max_width": null,
            "min_height": null,
            "min_width": null,
            "object_fit": null,
            "object_position": null,
            "order": null,
            "overflow": null,
            "overflow_x": null,
            "overflow_y": null,
            "padding": null,
            "right": null,
            "top": null,
            "visibility": null,
            "width": null
          }
        },
        "6033c028ddab420da33f3b56b36818c4": {
          "model_module": "@jupyter-widgets/controls",
          "model_module_version": "1.5.0",
          "model_name": "DescriptionStyleModel",
          "state": {
            "_model_module": "@jupyter-widgets/controls",
            "_model_module_version": "1.5.0",
            "_model_name": "DescriptionStyleModel",
            "_view_count": null,
            "_view_module": "@jupyter-widgets/base",
            "_view_module_version": "1.2.0",
            "_view_name": "StyleView",
            "description_width": ""
          }
        },
        "608ddc3588f34e97a09ee233b7782127": {
          "model_module": "@jupyter-widgets/controls",
          "model_module_version": "1.5.0",
          "model_name": "DescriptionStyleModel",
          "state": {
            "_model_module": "@jupyter-widgets/controls",
            "_model_module_version": "1.5.0",
            "_model_name": "DescriptionStyleModel",
            "_view_count": null,
            "_view_module": "@jupyter-widgets/base",
            "_view_module_version": "1.2.0",
            "_view_name": "StyleView",
            "description_width": ""
          }
        },
        "60d74e69854d4f8398c931c7436e9c62": {
          "model_module": "@jupyter-widgets/base",
          "model_module_version": "1.2.0",
          "model_name": "LayoutModel",
          "state": {
            "_model_module": "@jupyter-widgets/base",
            "_model_module_version": "1.2.0",
            "_model_name": "LayoutModel",
            "_view_count": null,
            "_view_module": "@jupyter-widgets/base",
            "_view_module_version": "1.2.0",
            "_view_name": "LayoutView",
            "align_content": null,
            "align_items": null,
            "align_self": null,
            "border": null,
            "bottom": null,
            "display": null,
            "flex": null,
            "flex_flow": null,
            "grid_area": null,
            "grid_auto_columns": null,
            "grid_auto_flow": null,
            "grid_auto_rows": null,
            "grid_column": null,
            "grid_gap": null,
            "grid_row": null,
            "grid_template_areas": null,
            "grid_template_columns": null,
            "grid_template_rows": null,
            "height": null,
            "justify_content": null,
            "justify_items": null,
            "left": null,
            "margin": null,
            "max_height": null,
            "max_width": null,
            "min_height": null,
            "min_width": null,
            "object_fit": null,
            "object_position": null,
            "order": null,
            "overflow": null,
            "overflow_x": null,
            "overflow_y": null,
            "padding": null,
            "right": null,
            "top": null,
            "visibility": null,
            "width": null
          }
        },
        "6295b628cd7d44e682230b495ef00362": {
          "model_module": "@jupyter-widgets/controls",
          "model_module_version": "1.5.0",
          "model_name": "DescriptionStyleModel",
          "state": {
            "_model_module": "@jupyter-widgets/controls",
            "_model_module_version": "1.5.0",
            "_model_name": "DescriptionStyleModel",
            "_view_count": null,
            "_view_module": "@jupyter-widgets/base",
            "_view_module_version": "1.2.0",
            "_view_name": "StyleView",
            "description_width": ""
          }
        },
        "6408528eb83e49acb8535baed23dd2e3": {
          "model_module": "@jupyter-widgets/controls",
          "model_module_version": "1.5.0",
          "model_name": "HTMLModel",
          "state": {
            "_dom_classes": [],
            "_model_module": "@jupyter-widgets/controls",
            "_model_module_version": "1.5.0",
            "_model_name": "HTMLModel",
            "_view_count": null,
            "_view_module": "@jupyter-widgets/controls",
            "_view_module_version": "1.5.0",
            "_view_name": "HTMLView",
            "description": "",
            "description_tooltip": null,
            "layout": "IPY_MODEL_ba087aaf28f14a6880caaedac890ce82",
            "placeholder": "​",
            "style": "IPY_MODEL_e32aa95128344409bb0d0d9b30a124ea",
            "value": "adapter_model.safetensors: 100%"
          }
        },
        "646247d7896f4d55a88bfe6abbd2a08a": {
          "model_module": "@jupyter-widgets/controls",
          "model_module_version": "1.5.0",
          "model_name": "DescriptionStyleModel",
          "state": {
            "_model_module": "@jupyter-widgets/controls",
            "_model_module_version": "1.5.0",
            "_model_name": "DescriptionStyleModel",
            "_view_count": null,
            "_view_module": "@jupyter-widgets/base",
            "_view_module_version": "1.2.0",
            "_view_name": "StyleView",
            "description_width": ""
          }
        },
        "65443eedd7ce410dbfd079b23710a8f2": {
          "model_module": "@jupyter-widgets/controls",
          "model_module_version": "1.5.0",
          "model_name": "HBoxModel",
          "state": {
            "_dom_classes": [],
            "_model_module": "@jupyter-widgets/controls",
            "_model_module_version": "1.5.0",
            "_model_name": "HBoxModel",
            "_view_count": null,
            "_view_module": "@jupyter-widgets/controls",
            "_view_module_version": "1.5.0",
            "_view_name": "HBoxView",
            "box_style": "",
            "children": [
              "IPY_MODEL_3f01c5873e314a5f9f80c6b5efd19d9d",
              "IPY_MODEL_f6cb2eb2b5b24c50bf27dcf68762a89b",
              "IPY_MODEL_8e47ca9b538e483bbb6dacbfddfa516d"
            ],
            "layout": "IPY_MODEL_f3b43a79245045a7a63f02094da3700a"
          }
        },
        "68aff684d44e4f238e2cc92cabff44a0": {
          "model_module": "@jupyter-widgets/controls",
          "model_module_version": "1.5.0",
          "model_name": "HTMLModel",
          "state": {
            "_dom_classes": [],
            "_model_module": "@jupyter-widgets/controls",
            "_model_module_version": "1.5.0",
            "_model_name": "HTMLModel",
            "_view_count": null,
            "_view_module": "@jupyter-widgets/controls",
            "_view_module_version": "1.5.0",
            "_view_name": "HTMLView",
            "description": "",
            "description_tooltip": null,
            "layout": "IPY_MODEL_b5db646dff0d4c08b0b1e6f39b17a430",
            "placeholder": "​",
            "style": "IPY_MODEL_1a35161fbe1a4d668c5a7452b9ae7f7f",
            "value": " 6837/6837 [00:00&lt;00:00, 16191.64 examples/s]"
          }
        },
        "6970e9ce49e84c5184aa2bcd53697ace": {
          "model_module": "@jupyter-widgets/controls",
          "model_module_version": "1.5.0",
          "model_name": "HTMLModel",
          "state": {
            "_dom_classes": [],
            "_model_module": "@jupyter-widgets/controls",
            "_model_module_version": "1.5.0",
            "_model_name": "HTMLModel",
            "_view_count": null,
            "_view_module": "@jupyter-widgets/controls",
            "_view_module_version": "1.5.0",
            "_view_name": "HTMLView",
            "description": "",
            "description_tooltip": null,
            "layout": "IPY_MODEL_2b7de0275e4942c4a2b21558de922ab0",
            "placeholder": "​",
            "style": "IPY_MODEL_a0f99d6b234c4ab587475e374984e466",
            "value": "Map: 100%"
          }
        },
        "6b13c986fd884768b9928a7b8d7e845f": {
          "model_module": "@jupyter-widgets/controls",
          "model_module_version": "1.5.0",
          "model_name": "DescriptionStyleModel",
          "state": {
            "_model_module": "@jupyter-widgets/controls",
            "_model_module_version": "1.5.0",
            "_model_name": "DescriptionStyleModel",
            "_view_count": null,
            "_view_module": "@jupyter-widgets/base",
            "_view_module_version": "1.2.0",
            "_view_name": "StyleView",
            "description_width": ""
          }
        },
        "6d041889583f4039a6ae160d0c099cc6": {
          "model_module": "@jupyter-widgets/base",
          "model_module_version": "1.2.0",
          "model_name": "LayoutModel",
          "state": {
            "_model_module": "@jupyter-widgets/base",
            "_model_module_version": "1.2.0",
            "_model_name": "LayoutModel",
            "_view_count": null,
            "_view_module": "@jupyter-widgets/base",
            "_view_module_version": "1.2.0",
            "_view_name": "LayoutView",
            "align_content": null,
            "align_items": null,
            "align_self": null,
            "border": null,
            "bottom": null,
            "display": null,
            "flex": null,
            "flex_flow": null,
            "grid_area": null,
            "grid_auto_columns": null,
            "grid_auto_flow": null,
            "grid_auto_rows": null,
            "grid_column": null,
            "grid_gap": null,
            "grid_row": null,
            "grid_template_areas": null,
            "grid_template_columns": null,
            "grid_template_rows": null,
            "height": null,
            "justify_content": null,
            "justify_items": null,
            "left": null,
            "margin": null,
            "max_height": null,
            "max_width": null,
            "min_height": null,
            "min_width": null,
            "object_fit": null,
            "object_position": null,
            "order": null,
            "overflow": null,
            "overflow_x": null,
            "overflow_y": null,
            "padding": null,
            "right": null,
            "top": null,
            "visibility": null,
            "width": null
          }
        },
        "73878929008a4573969a1a4422a25940": {
          "model_module": "@jupyter-widgets/controls",
          "model_module_version": "1.5.0",
          "model_name": "PasswordModel",
          "state": {
            "_dom_classes": [],
            "_model_module": "@jupyter-widgets/controls",
            "_model_module_version": "1.5.0",
            "_model_name": "PasswordModel",
            "_view_count": null,
            "_view_module": "@jupyter-widgets/controls",
            "_view_module_version": "1.5.0",
            "_view_name": "PasswordView",
            "continuous_update": true,
            "description": "Token:",
            "description_tooltip": null,
            "disabled": false,
            "layout": "IPY_MODEL_ed2d850bba9742a78c1f0315c2563b11",
            "placeholder": "​",
            "style": "IPY_MODEL_646247d7896f4d55a88bfe6abbd2a08a",
            "value": ""
          }
        },
        "79f858c4572f4f549e8dc4f86c04ebb4": {
          "model_module": "@jupyter-widgets/controls",
          "model_module_version": "1.5.0",
          "model_name": "HTMLModel",
          "state": {
            "_dom_classes": [],
            "_model_module": "@jupyter-widgets/controls",
            "_model_module_version": "1.5.0",
            "_model_name": "HTMLModel",
            "_view_count": null,
            "_view_module": "@jupyter-widgets/controls",
            "_view_module_version": "1.5.0",
            "_view_name": "HTMLView",
            "description": "",
            "description_tooltip": null,
            "layout": "IPY_MODEL_3ed6b907ab94430ba017a722f911321d",
            "placeholder": "​",
            "style": "IPY_MODEL_c666e5b2cebb4cd8aec18dcf09badd47",
            "value": "Map: 100%"
          }
        },
        "817e11886a984271b83b5b74102d1ee9": {
          "model_module": "@jupyter-widgets/controls",
          "model_module_version": "1.5.0",
          "model_name": "HBoxModel",
          "state": {
            "_dom_classes": [],
            "_model_module": "@jupyter-widgets/controls",
            "_model_module_version": "1.5.0",
            "_model_name": "HBoxModel",
            "_view_count": null,
            "_view_module": "@jupyter-widgets/controls",
            "_view_module_version": "1.5.0",
            "_view_name": "HBoxView",
            "box_style": "",
            "children": [
              "IPY_MODEL_6408528eb83e49acb8535baed23dd2e3",
              "IPY_MODEL_cd88d96131b8446d829222cdf30eef93",
              "IPY_MODEL_23a804ea05e441f5a3e79bde42cf5310"
            ],
            "layout": "IPY_MODEL_c26dd3d57ce049acb07252fe3af0e75a"
          }
        },
        "84c1a05a9deb40f8aa555e3f0bee0106": {
          "model_module": "@jupyter-widgets/base",
          "model_module_version": "1.2.0",
          "model_name": "LayoutModel",
          "state": {
            "_model_module": "@jupyter-widgets/base",
            "_model_module_version": "1.2.0",
            "_model_name": "LayoutModel",
            "_view_count": null,
            "_view_module": "@jupyter-widgets/base",
            "_view_module_version": "1.2.0",
            "_view_name": "LayoutView",
            "align_content": null,
            "align_items": null,
            "align_self": null,
            "border": null,
            "bottom": null,
            "display": null,
            "flex": null,
            "flex_flow": null,
            "grid_area": null,
            "grid_auto_columns": null,
            "grid_auto_flow": null,
            "grid_auto_rows": null,
            "grid_column": null,
            "grid_gap": null,
            "grid_row": null,
            "grid_template_areas": null,
            "grid_template_columns": null,
            "grid_template_rows": null,
            "height": null,
            "justify_content": null,
            "justify_items": null,
            "left": null,
            "margin": null,
            "max_height": null,
            "max_width": null,
            "min_height": null,
            "min_width": null,
            "object_fit": null,
            "object_position": null,
            "order": null,
            "overflow": null,
            "overflow_x": null,
            "overflow_y": null,
            "padding": null,
            "right": null,
            "top": null,
            "visibility": null,
            "width": null
          }
        },
        "84e9da7d758a49e3975f57325aad0267": {
          "model_module": "@jupyter-widgets/controls",
          "model_module_version": "1.5.0",
          "model_name": "HTMLModel",
          "state": {
            "_dom_classes": [],
            "_model_module": "@jupyter-widgets/controls",
            "_model_module_version": "1.5.0",
            "_model_name": "HTMLModel",
            "_view_count": null,
            "_view_module": "@jupyter-widgets/controls",
            "_view_module_version": "1.5.0",
            "_view_name": "HTMLView",
            "description": "",
            "description_tooltip": null,
            "layout": "IPY_MODEL_6d041889583f4039a6ae160d0c099cc6",
            "placeholder": "​",
            "style": "IPY_MODEL_a2755dab7f2a4f959cd9534fb8948509",
            "value": " 502939/502939 [02:23&lt;00:00, 2697.19 examples/s]"
          }
        },
        "84fc733166c4453789c39b529312e084": {
          "model_module": "@jupyter-widgets/controls",
          "model_module_version": "1.5.0",
          "model_name": "LabelModel",
          "state": {
            "_dom_classes": [],
            "_model_module": "@jupyter-widgets/controls",
            "_model_module_version": "1.5.0",
            "_model_name": "LabelModel",
            "_view_count": null,
            "_view_module": "@jupyter-widgets/controls",
            "_view_module_version": "1.5.0",
            "_view_name": "LabelView",
            "description": "",
            "description_tooltip": null,
            "layout": "IPY_MODEL_bc560198602a40cab8a56e076f5a532d",
            "placeholder": "​",
            "style": "IPY_MODEL_a1298734b4094214bc79ed142cb5a172",
            "value": "Login successful"
          }
        },
        "87fef8dd4e324578a409a8aa886ea9cc": {
          "model_module": "@jupyter-widgets/controls",
          "model_module_version": "1.5.0",
          "model_name": "DescriptionStyleModel",
          "state": {
            "_model_module": "@jupyter-widgets/controls",
            "_model_module_version": "1.5.0",
            "_model_name": "DescriptionStyleModel",
            "_view_count": null,
            "_view_module": "@jupyter-widgets/base",
            "_view_module_version": "1.2.0",
            "_view_name": "StyleView",
            "description_width": ""
          }
        },
        "8e47ca9b538e483bbb6dacbfddfa516d": {
          "model_module": "@jupyter-widgets/controls",
          "model_module_version": "1.5.0",
          "model_name": "HTMLModel",
          "state": {
            "_dom_classes": [],
            "_model_module": "@jupyter-widgets/controls",
            "_model_module_version": "1.5.0",
            "_model_name": "HTMLModel",
            "_view_count": null,
            "_view_module": "@jupyter-widgets/controls",
            "_view_module_version": "1.5.0",
            "_view_name": "HTMLView",
            "description": "",
            "description_tooltip": null,
            "layout": "IPY_MODEL_aec5a5de99904cb7920dc0ee56c2f23b",
            "placeholder": "​",
            "style": "IPY_MODEL_6b13c986fd884768b9928a7b8d7e845f",
            "value": " 6837/6837 [00:01&lt;00:00, 4007.46 examples/s]"
          }
        },
        "8ebafb22295a45d881fb63bf285cc88f": {
          "model_module": "@jupyter-widgets/base",
          "model_module_version": "1.2.0",
          "model_name": "LayoutModel",
          "state": {
            "_model_module": "@jupyter-widgets/base",
            "_model_module_version": "1.2.0",
            "_model_name": "LayoutModel",
            "_view_count": null,
            "_view_module": "@jupyter-widgets/base",
            "_view_module_version": "1.2.0",
            "_view_name": "LayoutView",
            "align_content": null,
            "align_items": null,
            "align_self": null,
            "border": null,
            "bottom": null,
            "display": null,
            "flex": null,
            "flex_flow": null,
            "grid_area": null,
            "grid_auto_columns": null,
            "grid_auto_flow": null,
            "grid_auto_rows": null,
            "grid_column": null,
            "grid_gap": null,
            "grid_row": null,
            "grid_template_areas": null,
            "grid_template_columns": null,
            "grid_template_rows": null,
            "height": null,
            "justify_content": null,
            "justify_items": null,
            "left": null,
            "margin": null,
            "max_height": null,
            "max_width": null,
            "min_height": null,
            "min_width": null,
            "object_fit": null,
            "object_position": null,
            "order": null,
            "overflow": null,
            "overflow_x": null,
            "overflow_y": null,
            "padding": null,
            "right": null,
            "top": null,
            "visibility": null,
            "width": null
          }
        },
        "8eef3df347d8426c8704dd8c15fabc0c": {
          "model_module": "@jupyter-widgets/controls",
          "model_module_version": "1.5.0",
          "model_name": "HTMLModel",
          "state": {
            "_dom_classes": [],
            "_model_module": "@jupyter-widgets/controls",
            "_model_module_version": "1.5.0",
            "_model_name": "HTMLModel",
            "_view_count": null,
            "_view_module": "@jupyter-widgets/controls",
            "_view_module_version": "1.5.0",
            "_view_name": "HTMLView",
            "description": "",
            "description_tooltip": null,
            "layout": "IPY_MODEL_60d74e69854d4f8398c931c7436e9c62",
            "placeholder": "​",
            "style": "IPY_MODEL_87fef8dd4e324578a409a8aa886ea9cc",
            "value": " 2508/2508 [00:00&lt;00:00, 3743.74 examples/s]"
          }
        },
        "9195ed2cc1f445d68f057dff76885513": {
          "model_module": "@jupyter-widgets/controls",
          "model_module_version": "1.5.0",
          "model_name": "FloatProgressModel",
          "state": {
            "_dom_classes": [],
            "_model_module": "@jupyter-widgets/controls",
            "_model_module_version": "1.5.0",
            "_model_name": "FloatProgressModel",
            "_view_count": null,
            "_view_module": "@jupyter-widgets/controls",
            "_view_module_version": "1.5.0",
            "_view_name": "ProgressView",
            "bar_style": "success",
            "description": "",
            "description_tooltip": null,
            "layout": "IPY_MODEL_005c2156ee544ef88d37a583ea6b4596",
            "max": 2508,
            "min": 0,
            "orientation": "horizontal",
            "style": "IPY_MODEL_f4c4aaa89e414a71b4fb7229c675ed3e",
            "value": 2508
          }
        },
        "92e5fb158ebe4bc5ad68b8c729a0844b": {
          "model_module": "@jupyter-widgets/base",
          "model_module_version": "1.2.0",
          "model_name": "LayoutModel",
          "state": {
            "_model_module": "@jupyter-widgets/base",
            "_model_module_version": "1.2.0",
            "_model_name": "LayoutModel",
            "_view_count": null,
            "_view_module": "@jupyter-widgets/base",
            "_view_module_version": "1.2.0",
            "_view_name": "LayoutView",
            "align_content": null,
            "align_items": null,
            "align_self": null,
            "border": null,
            "bottom": null,
            "display": null,
            "flex": null,
            "flex_flow": null,
            "grid_area": null,
            "grid_auto_columns": null,
            "grid_auto_flow": null,
            "grid_auto_rows": null,
            "grid_column": null,
            "grid_gap": null,
            "grid_row": null,
            "grid_template_areas": null,
            "grid_template_columns": null,
            "grid_template_rows": null,
            "height": null,
            "justify_content": null,
            "justify_items": null,
            "left": null,
            "margin": null,
            "max_height": null,
            "max_width": null,
            "min_height": null,
            "min_width": null,
            "object_fit": null,
            "object_position": null,
            "order": null,
            "overflow": null,
            "overflow_x": null,
            "overflow_y": null,
            "padding": null,
            "right": null,
            "top": null,
            "visibility": null,
            "width": null
          }
        },
        "9372540e0d0e4e00acffa5940e805241": {
          "model_module": "@jupyter-widgets/controls",
          "model_module_version": "1.5.0",
          "model_name": "FloatProgressModel",
          "state": {
            "_dom_classes": [],
            "_model_module": "@jupyter-widgets/controls",
            "_model_module_version": "1.5.0",
            "_model_name": "FloatProgressModel",
            "_view_count": null,
            "_view_module": "@jupyter-widgets/controls",
            "_view_module_version": "1.5.0",
            "_view_name": "ProgressView",
            "bar_style": "success",
            "description": "",
            "description_tooltip": null,
            "layout": "IPY_MODEL_84c1a05a9deb40f8aa555e3f0bee0106",
            "max": 502939,
            "min": 0,
            "orientation": "horizontal",
            "style": "IPY_MODEL_f73a33507cb5482082cba869f84a809f",
            "value": 502939
          }
        },
        "942d0b2efab74aa49370626953b8ff9f": {
          "model_module": "@jupyter-widgets/controls",
          "model_module_version": "1.5.0",
          "model_name": "HTMLModel",
          "state": {
            "_dom_classes": [],
            "_model_module": "@jupyter-widgets/controls",
            "_model_module_version": "1.5.0",
            "_model_name": "HTMLModel",
            "_view_count": null,
            "_view_module": "@jupyter-widgets/controls",
            "_view_module_version": "1.5.0",
            "_view_name": "HTMLView",
            "description": "",
            "description_tooltip": null,
            "layout": "IPY_MODEL_4bb097f2224c4d889adfb325c3860ecb",
            "placeholder": "​",
            "style": "IPY_MODEL_0aae3e421b2c4559ba58732ea61e7bf1",
            "value": "\n<b>Pro Tip:</b> If you don't already have one, you can create a dedicated\n'notebooks' token with 'write' access, that you can then easily reuse for all\nnotebooks. </center>"
          }
        },
        "9468a1ce65d148fca6001cbf0d464cb2": {
          "model_module": "@jupyter-widgets/controls",
          "model_module_version": "1.5.0",
          "model_name": "HTMLModel",
          "state": {
            "_dom_classes": [],
            "_model_module": "@jupyter-widgets/controls",
            "_model_module_version": "1.5.0",
            "_model_name": "HTMLModel",
            "_view_count": null,
            "_view_module": "@jupyter-widgets/controls",
            "_view_module_version": "1.5.0",
            "_view_name": "HTMLView",
            "description": "",
            "description_tooltip": null,
            "layout": "IPY_MODEL_e10cfebea190482e97e1aa2ea0ad857d",
            "placeholder": "​",
            "style": "IPY_MODEL_9e447c3c7d7a4ac48412f6943e962930",
            "value": "Map: 100%"
          }
        },
        "980f7e5e82bf46a5b7fcbe570e4b04ca": {
          "model_module": "@jupyter-widgets/controls",
          "model_module_version": "1.5.0",
          "model_name": "ProgressStyleModel",
          "state": {
            "_model_module": "@jupyter-widgets/controls",
            "_model_module_version": "1.5.0",
            "_model_name": "ProgressStyleModel",
            "_view_count": null,
            "_view_module": "@jupyter-widgets/base",
            "_view_module_version": "1.2.0",
            "_view_name": "StyleView",
            "bar_color": null,
            "description_width": ""
          }
        },
        "98cf5b09d36c4c5797e2812e685c5420": {
          "model_module": "@jupyter-widgets/base",
          "model_module_version": "1.2.0",
          "model_name": "LayoutModel",
          "state": {
            "_model_module": "@jupyter-widgets/base",
            "_model_module_version": "1.2.0",
            "_model_name": "LayoutModel",
            "_view_count": null,
            "_view_module": "@jupyter-widgets/base",
            "_view_module_version": "1.2.0",
            "_view_name": "LayoutView",
            "align_content": null,
            "align_items": null,
            "align_self": null,
            "border": null,
            "bottom": null,
            "display": null,
            "flex": null,
            "flex_flow": null,
            "grid_area": null,
            "grid_auto_columns": null,
            "grid_auto_flow": null,
            "grid_auto_rows": null,
            "grid_column": null,
            "grid_gap": null,
            "grid_row": null,
            "grid_template_areas": null,
            "grid_template_columns": null,
            "grid_template_rows": null,
            "height": null,
            "justify_content": null,
            "justify_items": null,
            "left": null,
            "margin": null,
            "max_height": null,
            "max_width": null,
            "min_height": null,
            "min_width": null,
            "object_fit": null,
            "object_position": null,
            "order": null,
            "overflow": null,
            "overflow_x": null,
            "overflow_y": null,
            "padding": null,
            "right": null,
            "top": null,
            "visibility": null,
            "width": null
          }
        },
        "98ee7e7328ef4a9cb01dd4e767730e75": {
          "model_module": "@jupyter-widgets/base",
          "model_module_version": "1.2.0",
          "model_name": "LayoutModel",
          "state": {
            "_model_module": "@jupyter-widgets/base",
            "_model_module_version": "1.2.0",
            "_model_name": "LayoutModel",
            "_view_count": null,
            "_view_module": "@jupyter-widgets/base",
            "_view_module_version": "1.2.0",
            "_view_name": "LayoutView",
            "align_content": null,
            "align_items": null,
            "align_self": null,
            "border": null,
            "bottom": null,
            "display": null,
            "flex": null,
            "flex_flow": null,
            "grid_area": null,
            "grid_auto_columns": null,
            "grid_auto_flow": null,
            "grid_auto_rows": null,
            "grid_column": null,
            "grid_gap": null,
            "grid_row": null,
            "grid_template_areas": null,
            "grid_template_columns": null,
            "grid_template_rows": null,
            "height": null,
            "justify_content": null,
            "justify_items": null,
            "left": null,
            "margin": null,
            "max_height": null,
            "max_width": null,
            "min_height": null,
            "min_width": null,
            "object_fit": null,
            "object_position": null,
            "order": null,
            "overflow": null,
            "overflow_x": null,
            "overflow_y": null,
            "padding": null,
            "right": null,
            "top": null,
            "visibility": null,
            "width": null
          }
        },
        "9e447c3c7d7a4ac48412f6943e962930": {
          "model_module": "@jupyter-widgets/controls",
          "model_module_version": "1.5.0",
          "model_name": "DescriptionStyleModel",
          "state": {
            "_model_module": "@jupyter-widgets/controls",
            "_model_module_version": "1.5.0",
            "_model_name": "DescriptionStyleModel",
            "_view_count": null,
            "_view_module": "@jupyter-widgets/base",
            "_view_module_version": "1.2.0",
            "_view_name": "StyleView",
            "description_width": ""
          }
        },
        "a0f99d6b234c4ab587475e374984e466": {
          "model_module": "@jupyter-widgets/controls",
          "model_module_version": "1.5.0",
          "model_name": "DescriptionStyleModel",
          "state": {
            "_model_module": "@jupyter-widgets/controls",
            "_model_module_version": "1.5.0",
            "_model_name": "DescriptionStyleModel",
            "_view_count": null,
            "_view_module": "@jupyter-widgets/base",
            "_view_module_version": "1.2.0",
            "_view_name": "StyleView",
            "description_width": ""
          }
        },
        "a1298734b4094214bc79ed142cb5a172": {
          "model_module": "@jupyter-widgets/controls",
          "model_module_version": "1.5.0",
          "model_name": "DescriptionStyleModel",
          "state": {
            "_model_module": "@jupyter-widgets/controls",
            "_model_module_version": "1.5.0",
            "_model_name": "DescriptionStyleModel",
            "_view_count": null,
            "_view_module": "@jupyter-widgets/base",
            "_view_module_version": "1.2.0",
            "_view_name": "StyleView",
            "description_width": ""
          }
        },
        "a2755dab7f2a4f959cd9534fb8948509": {
          "model_module": "@jupyter-widgets/controls",
          "model_module_version": "1.5.0",
          "model_name": "DescriptionStyleModel",
          "state": {
            "_model_module": "@jupyter-widgets/controls",
            "_model_module_version": "1.5.0",
            "_model_name": "DescriptionStyleModel",
            "_view_count": null,
            "_view_module": "@jupyter-widgets/base",
            "_view_module_version": "1.2.0",
            "_view_name": "StyleView",
            "description_width": ""
          }
        },
        "a60e1f9945fc4d3fa9ab820cb00f477e": {
          "model_module": "@jupyter-widgets/base",
          "model_module_version": "1.2.0",
          "model_name": "LayoutModel",
          "state": {
            "_model_module": "@jupyter-widgets/base",
            "_model_module_version": "1.2.0",
            "_model_name": "LayoutModel",
            "_view_count": null,
            "_view_module": "@jupyter-widgets/base",
            "_view_module_version": "1.2.0",
            "_view_name": "LayoutView",
            "align_content": null,
            "align_items": null,
            "align_self": null,
            "border": null,
            "bottom": null,
            "display": null,
            "flex": null,
            "flex_flow": null,
            "grid_area": null,
            "grid_auto_columns": null,
            "grid_auto_flow": null,
            "grid_auto_rows": null,
            "grid_column": null,
            "grid_gap": null,
            "grid_row": null,
            "grid_template_areas": null,
            "grid_template_columns": null,
            "grid_template_rows": null,
            "height": null,
            "justify_content": null,
            "justify_items": null,
            "left": null,
            "margin": null,
            "max_height": null,
            "max_width": null,
            "min_height": null,
            "min_width": null,
            "object_fit": null,
            "object_position": null,
            "order": null,
            "overflow": null,
            "overflow_x": null,
            "overflow_y": null,
            "padding": null,
            "right": null,
            "top": null,
            "visibility": null,
            "width": null
          }
        },
        "a74c0214bed243a1982a114535328754": {
          "model_module": "@jupyter-widgets/controls",
          "model_module_version": "1.5.0",
          "model_name": "HBoxModel",
          "state": {
            "_dom_classes": [],
            "_model_module": "@jupyter-widgets/controls",
            "_model_module_version": "1.5.0",
            "_model_name": "HBoxModel",
            "_view_count": null,
            "_view_module": "@jupyter-widgets/controls",
            "_view_module_version": "1.5.0",
            "_view_name": "HBoxView",
            "box_style": "",
            "children": [
              "IPY_MODEL_21dd94574a1c432c8ae98b22bf1d4886",
              "IPY_MODEL_d79c820c296644deaf1ab30e3b1778c9",
              "IPY_MODEL_bd5e8be62b5d43cb9a36baadcb72a2ca"
            ],
            "layout": "IPY_MODEL_17fbe47ae0a74fd29dc704b28638516f"
          }
        },
        "a94ef4489778415d9540deb67c6ade08": {
          "model_module": "@jupyter-widgets/controls",
          "model_module_version": "1.5.0",
          "model_name": "DescriptionStyleModel",
          "state": {
            "_model_module": "@jupyter-widgets/controls",
            "_model_module_version": "1.5.0",
            "_model_name": "DescriptionStyleModel",
            "_view_count": null,
            "_view_module": "@jupyter-widgets/base",
            "_view_module_version": "1.2.0",
            "_view_name": "StyleView",
            "description_width": ""
          }
        },
        "add6562fd98d4b6bbd412c211003bb92": {
          "model_module": "@jupyter-widgets/controls",
          "model_module_version": "1.5.0",
          "model_name": "ProgressStyleModel",
          "state": {
            "_model_module": "@jupyter-widgets/controls",
            "_model_module_version": "1.5.0",
            "_model_name": "ProgressStyleModel",
            "_view_count": null,
            "_view_module": "@jupyter-widgets/base",
            "_view_module_version": "1.2.0",
            "_view_name": "StyleView",
            "bar_color": null,
            "description_width": ""
          }
        },
        "ae1f95b7d7cb42b4aa09b3f84713e44d": {
          "model_module": "@jupyter-widgets/controls",
          "model_module_version": "1.5.0",
          "model_name": "DescriptionStyleModel",
          "state": {
            "_model_module": "@jupyter-widgets/controls",
            "_model_module_version": "1.5.0",
            "_model_name": "DescriptionStyleModel",
            "_view_count": null,
            "_view_module": "@jupyter-widgets/base",
            "_view_module_version": "1.2.0",
            "_view_name": "StyleView",
            "description_width": ""
          }
        },
        "aec5a5de99904cb7920dc0ee56c2f23b": {
          "model_module": "@jupyter-widgets/base",
          "model_module_version": "1.2.0",
          "model_name": "LayoutModel",
          "state": {
            "_model_module": "@jupyter-widgets/base",
            "_model_module_version": "1.2.0",
            "_model_name": "LayoutModel",
            "_view_count": null,
            "_view_module": "@jupyter-widgets/base",
            "_view_module_version": "1.2.0",
            "_view_name": "LayoutView",
            "align_content": null,
            "align_items": null,
            "align_self": null,
            "border": null,
            "bottom": null,
            "display": null,
            "flex": null,
            "flex_flow": null,
            "grid_area": null,
            "grid_auto_columns": null,
            "grid_auto_flow": null,
            "grid_auto_rows": null,
            "grid_column": null,
            "grid_gap": null,
            "grid_row": null,
            "grid_template_areas": null,
            "grid_template_columns": null,
            "grid_template_rows": null,
            "height": null,
            "justify_content": null,
            "justify_items": null,
            "left": null,
            "margin": null,
            "max_height": null,
            "max_width": null,
            "min_height": null,
            "min_width": null,
            "object_fit": null,
            "object_position": null,
            "order": null,
            "overflow": null,
            "overflow_x": null,
            "overflow_y": null,
            "padding": null,
            "right": null,
            "top": null,
            "visibility": null,
            "width": null
          }
        },
        "b1f6587c4f2b409ab49e8b5ca90de0e3": {
          "model_module": "@jupyter-widgets/controls",
          "model_module_version": "1.5.0",
          "model_name": "HTMLModel",
          "state": {
            "_dom_classes": [],
            "_model_module": "@jupyter-widgets/controls",
            "_model_module_version": "1.5.0",
            "_model_name": "HTMLModel",
            "_view_count": null,
            "_view_module": "@jupyter-widgets/controls",
            "_view_module_version": "1.5.0",
            "_view_name": "HTMLView",
            "description": "",
            "description_tooltip": null,
            "layout": "IPY_MODEL_0bfdb4a3906e4cf48c9299417c04a55b",
            "placeholder": "​",
            "style": "IPY_MODEL_3efc1b852f274509ba67eade96614a34",
            "value": "Map: 100%"
          }
        },
        "b474c6ae6e8f4e9e9098ecdbb140ffc3": {
          "model_module": "@jupyter-widgets/controls",
          "model_module_version": "1.5.0",
          "model_name": "DescriptionStyleModel",
          "state": {
            "_model_module": "@jupyter-widgets/controls",
            "_model_module_version": "1.5.0",
            "_model_name": "DescriptionStyleModel",
            "_view_count": null,
            "_view_module": "@jupyter-widgets/base",
            "_view_module_version": "1.2.0",
            "_view_name": "StyleView",
            "description_width": ""
          }
        },
        "b5db646dff0d4c08b0b1e6f39b17a430": {
          "model_module": "@jupyter-widgets/base",
          "model_module_version": "1.2.0",
          "model_name": "LayoutModel",
          "state": {
            "_model_module": "@jupyter-widgets/base",
            "_model_module_version": "1.2.0",
            "_model_name": "LayoutModel",
            "_view_count": null,
            "_view_module": "@jupyter-widgets/base",
            "_view_module_version": "1.2.0",
            "_view_name": "LayoutView",
            "align_content": null,
            "align_items": null,
            "align_self": null,
            "border": null,
            "bottom": null,
            "display": null,
            "flex": null,
            "flex_flow": null,
            "grid_area": null,
            "grid_auto_columns": null,
            "grid_auto_flow": null,
            "grid_auto_rows": null,
            "grid_column": null,
            "grid_gap": null,
            "grid_row": null,
            "grid_template_areas": null,
            "grid_template_columns": null,
            "grid_template_rows": null,
            "height": null,
            "justify_content": null,
            "justify_items": null,
            "left": null,
            "margin": null,
            "max_height": null,
            "max_width": null,
            "min_height": null,
            "min_width": null,
            "object_fit": null,
            "object_position": null,
            "order": null,
            "overflow": null,
            "overflow_x": null,
            "overflow_y": null,
            "padding": null,
            "right": null,
            "top": null,
            "visibility": null,
            "width": null
          }
        },
        "ba087aaf28f14a6880caaedac890ce82": {
          "model_module": "@jupyter-widgets/base",
          "model_module_version": "1.2.0",
          "model_name": "LayoutModel",
          "state": {
            "_model_module": "@jupyter-widgets/base",
            "_model_module_version": "1.2.0",
            "_model_name": "LayoutModel",
            "_view_count": null,
            "_view_module": "@jupyter-widgets/base",
            "_view_module_version": "1.2.0",
            "_view_name": "LayoutView",
            "align_content": null,
            "align_items": null,
            "align_self": null,
            "border": null,
            "bottom": null,
            "display": null,
            "flex": null,
            "flex_flow": null,
            "grid_area": null,
            "grid_auto_columns": null,
            "grid_auto_flow": null,
            "grid_auto_rows": null,
            "grid_column": null,
            "grid_gap": null,
            "grid_row": null,
            "grid_template_areas": null,
            "grid_template_columns": null,
            "grid_template_rows": null,
            "height": null,
            "justify_content": null,
            "justify_items": null,
            "left": null,
            "margin": null,
            "max_height": null,
            "max_width": null,
            "min_height": null,
            "min_width": null,
            "object_fit": null,
            "object_position": null,
            "order": null,
            "overflow": null,
            "overflow_x": null,
            "overflow_y": null,
            "padding": null,
            "right": null,
            "top": null,
            "visibility": null,
            "width": null
          }
        },
        "bc560198602a40cab8a56e076f5a532d": {
          "model_module": "@jupyter-widgets/base",
          "model_module_version": "1.2.0",
          "model_name": "LayoutModel",
          "state": {
            "_model_module": "@jupyter-widgets/base",
            "_model_module_version": "1.2.0",
            "_model_name": "LayoutModel",
            "_view_count": null,
            "_view_module": "@jupyter-widgets/base",
            "_view_module_version": "1.2.0",
            "_view_name": "LayoutView",
            "align_content": null,
            "align_items": null,
            "align_self": null,
            "border": null,
            "bottom": null,
            "display": null,
            "flex": null,
            "flex_flow": null,
            "grid_area": null,
            "grid_auto_columns": null,
            "grid_auto_flow": null,
            "grid_auto_rows": null,
            "grid_column": null,
            "grid_gap": null,
            "grid_row": null,
            "grid_template_areas": null,
            "grid_template_columns": null,
            "grid_template_rows": null,
            "height": null,
            "justify_content": null,
            "justify_items": null,
            "left": null,
            "margin": null,
            "max_height": null,
            "max_width": null,
            "min_height": null,
            "min_width": null,
            "object_fit": null,
            "object_position": null,
            "order": null,
            "overflow": null,
            "overflow_x": null,
            "overflow_y": null,
            "padding": null,
            "right": null,
            "top": null,
            "visibility": null,
            "width": null
          }
        },
        "bd5e8be62b5d43cb9a36baadcb72a2ca": {
          "model_module": "@jupyter-widgets/controls",
          "model_module_version": "1.5.0",
          "model_name": "HTMLModel",
          "state": {
            "_dom_classes": [],
            "_model_module": "@jupyter-widgets/controls",
            "_model_module_version": "1.5.0",
            "_model_name": "HTMLModel",
            "_view_count": null,
            "_view_module": "@jupyter-widgets/controls",
            "_view_module_version": "1.5.0",
            "_view_name": "HTMLView",
            "description": "",
            "description_tooltip": null,
            "layout": "IPY_MODEL_98ee7e7328ef4a9cb01dd4e767730e75",
            "placeholder": "​",
            "style": "IPY_MODEL_1cbcb1507ca0417c9079664198d498fb",
            "value": " 502939/502939 [00:56&lt;00:00, 6510.44 examples/s]"
          }
        },
        "c26dd3d57ce049acb07252fe3af0e75a": {
          "model_module": "@jupyter-widgets/base",
          "model_module_version": "1.2.0",
          "model_name": "LayoutModel",
          "state": {
            "_model_module": "@jupyter-widgets/base",
            "_model_module_version": "1.2.0",
            "_model_name": "LayoutModel",
            "_view_count": null,
            "_view_module": "@jupyter-widgets/base",
            "_view_module_version": "1.2.0",
            "_view_name": "LayoutView",
            "align_content": null,
            "align_items": null,
            "align_self": null,
            "border": null,
            "bottom": null,
            "display": null,
            "flex": null,
            "flex_flow": null,
            "grid_area": null,
            "grid_auto_columns": null,
            "grid_auto_flow": null,
            "grid_auto_rows": null,
            "grid_column": null,
            "grid_gap": null,
            "grid_row": null,
            "grid_template_areas": null,
            "grid_template_columns": null,
            "grid_template_rows": null,
            "height": null,
            "justify_content": null,
            "justify_items": null,
            "left": null,
            "margin": null,
            "max_height": null,
            "max_width": null,
            "min_height": null,
            "min_width": null,
            "object_fit": null,
            "object_position": null,
            "order": null,
            "overflow": null,
            "overflow_x": null,
            "overflow_y": null,
            "padding": null,
            "right": null,
            "top": null,
            "visibility": null,
            "width": null
          }
        },
        "c34c29c3389449259d91f8936c8503db": {
          "model_module": "@jupyter-widgets/controls",
          "model_module_version": "1.5.0",
          "model_name": "HTMLModel",
          "state": {
            "_dom_classes": [],
            "_model_module": "@jupyter-widgets/controls",
            "_model_module_version": "1.5.0",
            "_model_name": "HTMLModel",
            "_view_count": null,
            "_view_module": "@jupyter-widgets/controls",
            "_view_module_version": "1.5.0",
            "_view_name": "HTMLView",
            "description": "",
            "description_tooltip": null,
            "layout": "IPY_MODEL_e3a726f1fa334f3bbecf8f62d2191b2d",
            "placeholder": "​",
            "style": "IPY_MODEL_6295b628cd7d44e682230b495ef00362",
            "value": " 2508/2508 [00:00&lt;00:00, 11184.70 examples/s]"
          }
        },
        "c666e5b2cebb4cd8aec18dcf09badd47": {
          "model_module": "@jupyter-widgets/controls",
          "model_module_version": "1.5.0",
          "model_name": "DescriptionStyleModel",
          "state": {
            "_model_module": "@jupyter-widgets/controls",
            "_model_module_version": "1.5.0",
            "_model_name": "DescriptionStyleModel",
            "_view_count": null,
            "_view_module": "@jupyter-widgets/base",
            "_view_module_version": "1.2.0",
            "_view_name": "StyleView",
            "description_width": ""
          }
        },
        "c810f8a433d24928af95eecc51e74ea3": {
          "model_module": "@jupyter-widgets/base",
          "model_module_version": "1.2.0",
          "model_name": "LayoutModel",
          "state": {
            "_model_module": "@jupyter-widgets/base",
            "_model_module_version": "1.2.0",
            "_model_name": "LayoutModel",
            "_view_count": null,
            "_view_module": "@jupyter-widgets/base",
            "_view_module_version": "1.2.0",
            "_view_name": "LayoutView",
            "align_content": null,
            "align_items": "center",
            "align_self": null,
            "border": null,
            "bottom": null,
            "display": "flex",
            "flex": null,
            "flex_flow": "column",
            "grid_area": null,
            "grid_auto_columns": null,
            "grid_auto_flow": null,
            "grid_auto_rows": null,
            "grid_column": null,
            "grid_gap": null,
            "grid_row": null,
            "grid_template_areas": null,
            "grid_template_columns": null,
            "grid_template_rows": null,
            "height": null,
            "justify_content": null,
            "justify_items": null,
            "left": null,
            "margin": null,
            "max_height": null,
            "max_width": null,
            "min_height": null,
            "min_width": null,
            "object_fit": null,
            "object_position": null,
            "order": null,
            "overflow": null,
            "overflow_x": null,
            "overflow_y": null,
            "padding": null,
            "right": null,
            "top": null,
            "visibility": null,
            "width": "50%"
          }
        },
        "cd88d96131b8446d829222cdf30eef93": {
          "model_module": "@jupyter-widgets/controls",
          "model_module_version": "1.5.0",
          "model_name": "FloatProgressModel",
          "state": {
            "_dom_classes": [],
            "_model_module": "@jupyter-widgets/controls",
            "_model_module_version": "1.5.0",
            "_model_name": "FloatProgressModel",
            "_view_count": null,
            "_view_module": "@jupyter-widgets/controls",
            "_view_module_version": "1.5.0",
            "_view_name": "ProgressView",
            "bar_style": "success",
            "description": "",
            "description_tooltip": null,
            "layout": "IPY_MODEL_3372fb68de5244c4a53c1584a890d550",
            "max": 1181808,
            "min": 0,
            "orientation": "horizontal",
            "style": "IPY_MODEL_2065d9bc79a74495bb3d8dad097dafc3",
            "value": 1181808
          }
        },
        "d0e0b669576c496a9200bb4c348225d0": {
          "model_module": "@jupyter-widgets/controls",
          "model_module_version": "1.5.0",
          "model_name": "LabelModel",
          "state": {
            "_dom_classes": [],
            "_model_module": "@jupyter-widgets/controls",
            "_model_module_version": "1.5.0",
            "_model_name": "LabelModel",
            "_view_count": null,
            "_view_module": "@jupyter-widgets/controls",
            "_view_module_version": "1.5.0",
            "_view_name": "LabelView",
            "description": "",
            "description_tooltip": null,
            "layout": "IPY_MODEL_dbc9d0122afd4278b79770f79ac9028b",
            "placeholder": "​",
            "style": "IPY_MODEL_b474c6ae6e8f4e9e9098ecdbb140ffc3",
            "value": "Token is valid (permission: write)."
          }
        },
        "d4203dea981b4543bba56e931f92521f": {
          "model_module": "@jupyter-widgets/base",
          "model_module_version": "1.2.0",
          "model_name": "LayoutModel",
          "state": {
            "_model_module": "@jupyter-widgets/base",
            "_model_module_version": "1.2.0",
            "_model_name": "LayoutModel",
            "_view_count": null,
            "_view_module": "@jupyter-widgets/base",
            "_view_module_version": "1.2.0",
            "_view_name": "LayoutView",
            "align_content": null,
            "align_items": null,
            "align_self": null,
            "border": null,
            "bottom": null,
            "display": null,
            "flex": null,
            "flex_flow": null,
            "grid_area": null,
            "grid_auto_columns": null,
            "grid_auto_flow": null,
            "grid_auto_rows": null,
            "grid_column": null,
            "grid_gap": null,
            "grid_row": null,
            "grid_template_areas": null,
            "grid_template_columns": null,
            "grid_template_rows": null,
            "height": null,
            "justify_content": null,
            "justify_items": null,
            "left": null,
            "margin": null,
            "max_height": null,
            "max_width": null,
            "min_height": null,
            "min_width": null,
            "object_fit": null,
            "object_position": null,
            "order": null,
            "overflow": null,
            "overflow_x": null,
            "overflow_y": null,
            "padding": null,
            "right": null,
            "top": null,
            "visibility": null,
            "width": null
          }
        },
        "d48a39f86ad44977a2efa43acbe0f90e": {
          "model_module": "@jupyter-widgets/controls",
          "model_module_version": "1.5.0",
          "model_name": "ProgressStyleModel",
          "state": {
            "_model_module": "@jupyter-widgets/controls",
            "_model_module_version": "1.5.0",
            "_model_name": "ProgressStyleModel",
            "_view_count": null,
            "_view_module": "@jupyter-widgets/base",
            "_view_module_version": "1.2.0",
            "_view_name": "StyleView",
            "bar_color": null,
            "description_width": ""
          }
        },
        "d59346ca8ae240cbafadadf680b5280d": {
          "model_module": "@jupyter-widgets/base",
          "model_module_version": "1.2.0",
          "model_name": "LayoutModel",
          "state": {
            "_model_module": "@jupyter-widgets/base",
            "_model_module_version": "1.2.0",
            "_model_name": "LayoutModel",
            "_view_count": null,
            "_view_module": "@jupyter-widgets/base",
            "_view_module_version": "1.2.0",
            "_view_name": "LayoutView",
            "align_content": null,
            "align_items": null,
            "align_self": null,
            "border": null,
            "bottom": null,
            "display": null,
            "flex": null,
            "flex_flow": null,
            "grid_area": null,
            "grid_auto_columns": null,
            "grid_auto_flow": null,
            "grid_auto_rows": null,
            "grid_column": null,
            "grid_gap": null,
            "grid_row": null,
            "grid_template_areas": null,
            "grid_template_columns": null,
            "grid_template_rows": null,
            "height": null,
            "justify_content": null,
            "justify_items": null,
            "left": null,
            "margin": null,
            "max_height": null,
            "max_width": null,
            "min_height": null,
            "min_width": null,
            "object_fit": null,
            "object_position": null,
            "order": null,
            "overflow": null,
            "overflow_x": null,
            "overflow_y": null,
            "padding": null,
            "right": null,
            "top": null,
            "visibility": null,
            "width": null
          }
        },
        "d79c820c296644deaf1ab30e3b1778c9": {
          "model_module": "@jupyter-widgets/controls",
          "model_module_version": "1.5.0",
          "model_name": "FloatProgressModel",
          "state": {
            "_dom_classes": [],
            "_model_module": "@jupyter-widgets/controls",
            "_model_module_version": "1.5.0",
            "_model_name": "FloatProgressModel",
            "_view_count": null,
            "_view_module": "@jupyter-widgets/controls",
            "_view_module_version": "1.5.0",
            "_view_name": "ProgressView",
            "bar_style": "success",
            "description": "",
            "description_tooltip": null,
            "layout": "IPY_MODEL_8ebafb22295a45d881fb63bf285cc88f",
            "max": 502939,
            "min": 0,
            "orientation": "horizontal",
            "style": "IPY_MODEL_d48a39f86ad44977a2efa43acbe0f90e",
            "value": 502939
          }
        },
        "d96a443cacbd4c5bb11ac3a904f56c74": {
          "model_module": "@jupyter-widgets/controls",
          "model_module_version": "1.5.0",
          "model_name": "ButtonStyleModel",
          "state": {
            "_model_module": "@jupyter-widgets/controls",
            "_model_module_version": "1.5.0",
            "_model_name": "ButtonStyleModel",
            "_view_count": null,
            "_view_module": "@jupyter-widgets/base",
            "_view_module_version": "1.2.0",
            "_view_name": "StyleView",
            "button_color": null,
            "font_weight": ""
          }
        },
        "dbc9d0122afd4278b79770f79ac9028b": {
          "model_module": "@jupyter-widgets/base",
          "model_module_version": "1.2.0",
          "model_name": "LayoutModel",
          "state": {
            "_model_module": "@jupyter-widgets/base",
            "_model_module_version": "1.2.0",
            "_model_name": "LayoutModel",
            "_view_count": null,
            "_view_module": "@jupyter-widgets/base",
            "_view_module_version": "1.2.0",
            "_view_name": "LayoutView",
            "align_content": null,
            "align_items": null,
            "align_self": null,
            "border": null,
            "bottom": null,
            "display": null,
            "flex": null,
            "flex_flow": null,
            "grid_area": null,
            "grid_auto_columns": null,
            "grid_auto_flow": null,
            "grid_auto_rows": null,
            "grid_column": null,
            "grid_gap": null,
            "grid_row": null,
            "grid_template_areas": null,
            "grid_template_columns": null,
            "grid_template_rows": null,
            "height": null,
            "justify_content": null,
            "justify_items": null,
            "left": null,
            "margin": null,
            "max_height": null,
            "max_width": null,
            "min_height": null,
            "min_width": null,
            "object_fit": null,
            "object_position": null,
            "order": null,
            "overflow": null,
            "overflow_x": null,
            "overflow_y": null,
            "padding": null,
            "right": null,
            "top": null,
            "visibility": null,
            "width": null
          }
        },
        "de7c2780fa554d869a4cf4fc7e5ec229": {
          "model_module": "@jupyter-widgets/controls",
          "model_module_version": "1.5.0",
          "model_name": "FloatProgressModel",
          "state": {
            "_dom_classes": [],
            "_model_module": "@jupyter-widgets/controls",
            "_model_module_version": "1.5.0",
            "_model_name": "FloatProgressModel",
            "_view_count": null,
            "_view_module": "@jupyter-widgets/controls",
            "_view_module_version": "1.5.0",
            "_view_name": "ProgressView",
            "bar_style": "success",
            "description": "",
            "description_tooltip": null,
            "layout": "IPY_MODEL_df8a5b44c27f48d2a9875d8d25794537",
            "max": 6837,
            "min": 0,
            "orientation": "horizontal",
            "style": "IPY_MODEL_add6562fd98d4b6bbd412c211003bb92",
            "value": 6837
          }
        },
        "df8a5b44c27f48d2a9875d8d25794537": {
          "model_module": "@jupyter-widgets/base",
          "model_module_version": "1.2.0",
          "model_name": "LayoutModel",
          "state": {
            "_model_module": "@jupyter-widgets/base",
            "_model_module_version": "1.2.0",
            "_model_name": "LayoutModel",
            "_view_count": null,
            "_view_module": "@jupyter-widgets/base",
            "_view_module_version": "1.2.0",
            "_view_name": "LayoutView",
            "align_content": null,
            "align_items": null,
            "align_self": null,
            "border": null,
            "bottom": null,
            "display": null,
            "flex": null,
            "flex_flow": null,
            "grid_area": null,
            "grid_auto_columns": null,
            "grid_auto_flow": null,
            "grid_auto_rows": null,
            "grid_column": null,
            "grid_gap": null,
            "grid_row": null,
            "grid_template_areas": null,
            "grid_template_columns": null,
            "grid_template_rows": null,
            "height": null,
            "justify_content": null,
            "justify_items": null,
            "left": null,
            "margin": null,
            "max_height": null,
            "max_width": null,
            "min_height": null,
            "min_width": null,
            "object_fit": null,
            "object_position": null,
            "order": null,
            "overflow": null,
            "overflow_x": null,
            "overflow_y": null,
            "padding": null,
            "right": null,
            "top": null,
            "visibility": null,
            "width": null
          }
        },
        "e10cfebea190482e97e1aa2ea0ad857d": {
          "model_module": "@jupyter-widgets/base",
          "model_module_version": "1.2.0",
          "model_name": "LayoutModel",
          "state": {
            "_model_module": "@jupyter-widgets/base",
            "_model_module_version": "1.2.0",
            "_model_name": "LayoutModel",
            "_view_count": null,
            "_view_module": "@jupyter-widgets/base",
            "_view_module_version": "1.2.0",
            "_view_name": "LayoutView",
            "align_content": null,
            "align_items": null,
            "align_self": null,
            "border": null,
            "bottom": null,
            "display": null,
            "flex": null,
            "flex_flow": null,
            "grid_area": null,
            "grid_auto_columns": null,
            "grid_auto_flow": null,
            "grid_auto_rows": null,
            "grid_column": null,
            "grid_gap": null,
            "grid_row": null,
            "grid_template_areas": null,
            "grid_template_columns": null,
            "grid_template_rows": null,
            "height": null,
            "justify_content": null,
            "justify_items": null,
            "left": null,
            "margin": null,
            "max_height": null,
            "max_width": null,
            "min_height": null,
            "min_width": null,
            "object_fit": null,
            "object_position": null,
            "order": null,
            "overflow": null,
            "overflow_x": null,
            "overflow_y": null,
            "padding": null,
            "right": null,
            "top": null,
            "visibility": null,
            "width": null
          }
        },
        "e253aaf6c62a4a18a45fece324259c7b": {
          "model_module": "@jupyter-widgets/controls",
          "model_module_version": "1.5.0",
          "model_name": "HBoxModel",
          "state": {
            "_dom_classes": [],
            "_model_module": "@jupyter-widgets/controls",
            "_model_module_version": "1.5.0",
            "_model_name": "HBoxModel",
            "_view_count": null,
            "_view_module": "@jupyter-widgets/controls",
            "_view_module_version": "1.5.0",
            "_view_name": "HBoxView",
            "box_style": "",
            "children": [
              "IPY_MODEL_b1f6587c4f2b409ab49e8b5ca90de0e3",
              "IPY_MODEL_9195ed2cc1f445d68f057dff76885513",
              "IPY_MODEL_c34c29c3389449259d91f8936c8503db"
            ],
            "layout": "IPY_MODEL_92e5fb158ebe4bc5ad68b8c729a0844b"
          }
        },
        "e257485d1932446da91e398f72fca449": {
          "model_module": "@jupyter-widgets/controls",
          "model_module_version": "1.5.0",
          "model_name": "LabelModel",
          "state": {
            "_dom_classes": [],
            "_model_module": "@jupyter-widgets/controls",
            "_model_module_version": "1.5.0",
            "_model_name": "LabelModel",
            "_view_count": null,
            "_view_module": "@jupyter-widgets/controls",
            "_view_module_version": "1.5.0",
            "_view_name": "LabelView",
            "description": "",
            "description_tooltip": null,
            "layout": "IPY_MODEL_a60e1f9945fc4d3fa9ab820cb00f477e",
            "placeholder": "​",
            "style": "IPY_MODEL_1a0d988d67374ecd863b3f3f86a5c792",
            "value": "Connecting..."
          }
        },
        "e32aa95128344409bb0d0d9b30a124ea": {
          "model_module": "@jupyter-widgets/controls",
          "model_module_version": "1.5.0",
          "model_name": "DescriptionStyleModel",
          "state": {
            "_model_module": "@jupyter-widgets/controls",
            "_model_module_version": "1.5.0",
            "_model_name": "DescriptionStyleModel",
            "_view_count": null,
            "_view_module": "@jupyter-widgets/base",
            "_view_module_version": "1.2.0",
            "_view_name": "StyleView",
            "description_width": ""
          }
        },
        "e3a726f1fa334f3bbecf8f62d2191b2d": {
          "model_module": "@jupyter-widgets/base",
          "model_module_version": "1.2.0",
          "model_name": "LayoutModel",
          "state": {
            "_model_module": "@jupyter-widgets/base",
            "_model_module_version": "1.2.0",
            "_model_name": "LayoutModel",
            "_view_count": null,
            "_view_module": "@jupyter-widgets/base",
            "_view_module_version": "1.2.0",
            "_view_name": "LayoutView",
            "align_content": null,
            "align_items": null,
            "align_self": null,
            "border": null,
            "bottom": null,
            "display": null,
            "flex": null,
            "flex_flow": null,
            "grid_area": null,
            "grid_auto_columns": null,
            "grid_auto_flow": null,
            "grid_auto_rows": null,
            "grid_column": null,
            "grid_gap": null,
            "grid_row": null,
            "grid_template_areas": null,
            "grid_template_columns": null,
            "grid_template_rows": null,
            "height": null,
            "justify_content": null,
            "justify_items": null,
            "left": null,
            "margin": null,
            "max_height": null,
            "max_width": null,
            "min_height": null,
            "min_width": null,
            "object_fit": null,
            "object_position": null,
            "order": null,
            "overflow": null,
            "overflow_x": null,
            "overflow_y": null,
            "padding": null,
            "right": null,
            "top": null,
            "visibility": null,
            "width": null
          }
        },
        "e86171b7e2504a0fa83fce0fa7f5468e": {
          "model_module": "@jupyter-widgets/controls",
          "model_module_version": "1.5.0",
          "model_name": "VBoxModel",
          "state": {
            "_dom_classes": [],
            "_model_module": "@jupyter-widgets/controls",
            "_model_module_version": "1.5.0",
            "_model_name": "VBoxModel",
            "_view_count": null,
            "_view_module": "@jupyter-widgets/controls",
            "_view_module_version": "1.5.0",
            "_view_name": "VBoxView",
            "box_style": "",
            "children": [
              "IPY_MODEL_d0e0b669576c496a9200bb4c348225d0",
              "IPY_MODEL_006cb2c4e89c4689912c42c49f9cd52c",
              "IPY_MODEL_84fc733166c4453789c39b529312e084"
            ],
            "layout": "IPY_MODEL_c810f8a433d24928af95eecc51e74ea3"
          }
        },
        "ed2d850bba9742a78c1f0315c2563b11": {
          "model_module": "@jupyter-widgets/base",
          "model_module_version": "1.2.0",
          "model_name": "LayoutModel",
          "state": {
            "_model_module": "@jupyter-widgets/base",
            "_model_module_version": "1.2.0",
            "_model_name": "LayoutModel",
            "_view_count": null,
            "_view_module": "@jupyter-widgets/base",
            "_view_module_version": "1.2.0",
            "_view_name": "LayoutView",
            "align_content": null,
            "align_items": null,
            "align_self": null,
            "border": null,
            "bottom": null,
            "display": null,
            "flex": null,
            "flex_flow": null,
            "grid_area": null,
            "grid_auto_columns": null,
            "grid_auto_flow": null,
            "grid_auto_rows": null,
            "grid_column": null,
            "grid_gap": null,
            "grid_row": null,
            "grid_template_areas": null,
            "grid_template_columns": null,
            "grid_template_rows": null,
            "height": null,
            "justify_content": null,
            "justify_items": null,
            "left": null,
            "margin": null,
            "max_height": null,
            "max_width": null,
            "min_height": null,
            "min_width": null,
            "object_fit": null,
            "object_position": null,
            "order": null,
            "overflow": null,
            "overflow_x": null,
            "overflow_y": null,
            "padding": null,
            "right": null,
            "top": null,
            "visibility": null,
            "width": null
          }
        },
        "f3b43a79245045a7a63f02094da3700a": {
          "model_module": "@jupyter-widgets/base",
          "model_module_version": "1.2.0",
          "model_name": "LayoutModel",
          "state": {
            "_model_module": "@jupyter-widgets/base",
            "_model_module_version": "1.2.0",
            "_model_name": "LayoutModel",
            "_view_count": null,
            "_view_module": "@jupyter-widgets/base",
            "_view_module_version": "1.2.0",
            "_view_name": "LayoutView",
            "align_content": null,
            "align_items": null,
            "align_self": null,
            "border": null,
            "bottom": null,
            "display": null,
            "flex": null,
            "flex_flow": null,
            "grid_area": null,
            "grid_auto_columns": null,
            "grid_auto_flow": null,
            "grid_auto_rows": null,
            "grid_column": null,
            "grid_gap": null,
            "grid_row": null,
            "grid_template_areas": null,
            "grid_template_columns": null,
            "grid_template_rows": null,
            "height": null,
            "justify_content": null,
            "justify_items": null,
            "left": null,
            "margin": null,
            "max_height": null,
            "max_width": null,
            "min_height": null,
            "min_width": null,
            "object_fit": null,
            "object_position": null,
            "order": null,
            "overflow": null,
            "overflow_x": null,
            "overflow_y": null,
            "padding": null,
            "right": null,
            "top": null,
            "visibility": null,
            "width": null
          }
        },
        "f4c4aaa89e414a71b4fb7229c675ed3e": {
          "model_module": "@jupyter-widgets/controls",
          "model_module_version": "1.5.0",
          "model_name": "ProgressStyleModel",
          "state": {
            "_model_module": "@jupyter-widgets/controls",
            "_model_module_version": "1.5.0",
            "_model_name": "ProgressStyleModel",
            "_view_count": null,
            "_view_module": "@jupyter-widgets/base",
            "_view_module_version": "1.2.0",
            "_view_name": "StyleView",
            "bar_color": null,
            "description_width": ""
          }
        },
        "f6cb2eb2b5b24c50bf27dcf68762a89b": {
          "model_module": "@jupyter-widgets/controls",
          "model_module_version": "1.5.0",
          "model_name": "FloatProgressModel",
          "state": {
            "_dom_classes": [],
            "_model_module": "@jupyter-widgets/controls",
            "_model_module_version": "1.5.0",
            "_model_name": "FloatProgressModel",
            "_view_count": null,
            "_view_module": "@jupyter-widgets/controls",
            "_view_module_version": "1.5.0",
            "_view_name": "ProgressView",
            "bar_style": "success",
            "description": "",
            "description_tooltip": null,
            "layout": "IPY_MODEL_5e6e93a84cc0470d887a2acef0693069",
            "max": 6837,
            "min": 0,
            "orientation": "horizontal",
            "style": "IPY_MODEL_026618858bf24dad9e21f62e5f9d7681",
            "value": 6837
          }
        },
        "f73a33507cb5482082cba869f84a809f": {
          "model_module": "@jupyter-widgets/controls",
          "model_module_version": "1.5.0",
          "model_name": "ProgressStyleModel",
          "state": {
            "_model_module": "@jupyter-widgets/controls",
            "_model_module_version": "1.5.0",
            "_model_name": "ProgressStyleModel",
            "_view_count": null,
            "_view_module": "@jupyter-widgets/base",
            "_view_module_version": "1.2.0",
            "_view_name": "StyleView",
            "bar_color": null,
            "description_width": ""
          }
        },
        "fa021704f41a450296dbfe43d7d81cbe": {
          "model_module": "@jupyter-widgets/controls",
          "model_module_version": "1.5.0",
          "model_name": "DescriptionStyleModel",
          "state": {
            "_model_module": "@jupyter-widgets/controls",
            "_model_module_version": "1.5.0",
            "_model_name": "DescriptionStyleModel",
            "_view_count": null,
            "_view_module": "@jupyter-widgets/base",
            "_view_module_version": "1.2.0",
            "_view_name": "StyleView",
            "description_width": ""
          }
        }
      }
    }
  },
  "nbformat": 4,
  "nbformat_minor": 0
}
